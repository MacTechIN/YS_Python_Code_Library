{
 "cells": [
  {
   "cell_type": "markdown",
   "id": "3963af83",
   "metadata": {},
   "source": [
    "# 반복문 for \n",
    "\n",
    "- for 변수 in 리스트(튜플,문자열):\n",
    "   > 명령문 "
   ]
  },
  {
   "cell_type": "code",
   "execution_count": 1,
   "id": "0b82e44e",
   "metadata": {},
   "outputs": [],
   "source": [
    "lst =[1,3,5,7,9]"
   ]
  },
  {
   "cell_type": "raw",
   "id": "d6b8ed05",
   "metadata": {},
   "source": [
    "컬렉션 자료형에서 자료를 하나씩 꺼냄 \n",
    "컬렉션 데이터의 갯수 만큼 반복 "
   ]
  },
  {
   "cell_type": "code",
   "execution_count": 2,
   "id": "a15fe997",
   "metadata": {},
   "outputs": [
    {
     "name": "stdout",
     "output_type": "stream",
     "text": [
      "1\n",
      "3\n",
      "5\n",
      "7\n",
      "9\n"
     ]
    }
   ],
   "source": [
    "for i in lst:\n",
    "    print(i)"
   ]
  },
  {
   "cell_type": "raw",
   "id": "b6ea0d67",
   "metadata": {},
   "source": [
    "튜플 "
   ]
  },
  {
   "cell_type": "code",
   "execution_count": 3,
   "id": "a61efddc",
   "metadata": {},
   "outputs": [
    {
     "name": "stdout",
     "output_type": "stream",
     "text": [
      "1\n",
      "3\n",
      "5\n",
      "7\n",
      "9\n",
      "end.\n"
     ]
    }
   ],
   "source": [
    "for item in 1,3,5,7,9,\"end.\":\n",
    "    print(item)"
   ]
  },
  {
   "cell_type": "code",
   "execution_count": null,
   "id": "c4fd68f2",
   "metadata": {},
   "outputs": [],
   "source": [
    "#리스트\n",
    "for item in [1,3,5,7,9,\"end\"]:\n",
    "    print(item)"
   ]
  },
  {
   "cell_type": "code",
   "execution_count": null,
   "id": "c482b640",
   "metadata": {},
   "outputs": [],
   "source": []
  },
  {
   "cell_type": "code",
   "execution_count": null,
   "id": "4725c2f7",
   "metadata": {},
   "outputs": [],
   "source": []
  },
  {
   "cell_type": "code",
   "execution_count": null,
   "id": "330c50b1",
   "metadata": {},
   "outputs": [],
   "source": []
  },
  {
   "cell_type": "code",
   "execution_count": null,
   "id": "18d67fa8",
   "metadata": {},
   "outputs": [],
   "source": []
  },
  {
   "cell_type": "code",
   "execution_count": null,
   "id": "e9a64260",
   "metadata": {},
   "outputs": [],
   "source": []
  },
  {
   "cell_type": "code",
   "execution_count": null,
   "id": "cf4a198a",
   "metadata": {},
   "outputs": [],
   "source": []
  },
  {
   "cell_type": "code",
   "execution_count": null,
   "id": "f7b666e8",
   "metadata": {},
   "outputs": [],
   "source": []
  },
  {
   "cell_type": "code",
   "execution_count": null,
   "id": "99d904dc",
   "metadata": {},
   "outputs": [],
   "source": []
  },
  {
   "cell_type": "code",
   "execution_count": null,
   "id": "93312fb6",
   "metadata": {},
   "outputs": [],
   "source": []
  },
  {
   "cell_type": "code",
   "execution_count": null,
   "id": "678a2e77",
   "metadata": {},
   "outputs": [],
   "source": []
  },
  {
   "cell_type": "code",
   "execution_count": null,
   "id": "bce761c4",
   "metadata": {},
   "outputs": [],
   "source": []
  },
  {
   "cell_type": "code",
   "execution_count": null,
   "id": "322e9c8a",
   "metadata": {},
   "outputs": [],
   "source": []
  }
 ],
 "metadata": {
  "kernelspec": {
   "display_name": "Python 3 (ipykernel)",
   "language": "python",
   "name": "python3"
  },
  "language_info": {
   "codemirror_mode": {
    "name": "ipython",
    "version": 3
   },
   "file_extension": ".py",
   "mimetype": "text/x-python",
   "name": "python",
   "nbconvert_exporter": "python",
   "pygments_lexer": "ipython3",
   "version": "3.10.12"
  }
 },
 "nbformat": 4,
 "nbformat_minor": 5
}
