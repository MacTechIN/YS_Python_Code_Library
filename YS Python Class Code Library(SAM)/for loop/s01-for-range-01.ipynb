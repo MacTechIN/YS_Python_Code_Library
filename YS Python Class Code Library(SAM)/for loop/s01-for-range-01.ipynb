{
 "cells": [
  {
   "cell_type": "markdown",
   "id": "3963af83",
   "metadata": {
    "slideshow": {
     "slide_type": "slide"
    }
   },
   "source": [
    "# 반복문 for \n",
    "\n",
    "- for 변수 in 리스트(튜플,문자열):\n",
    "   > 명령문 "
   ]
  },
  {
   "cell_type": "raw",
   "id": "ee8d4e19",
   "metadata": {
    "slideshow": {
     "slide_type": "slide"
    }
   },
   "source": [
    "# range (n) 0 부터 n-1까지 반복 \n"
   ]
  },
  {
   "cell_type": "code",
   "execution_count": 2,
   "id": "330c50b1",
   "metadata": {},
   "outputs": [],
   "source": [
    "x = range(10)"
   ]
  },
  {
   "cell_type": "code",
   "execution_count": 5,
   "id": "18d67fa8",
   "metadata": {
    "slideshow": {
     "slide_type": "slide"
    }
   },
   "outputs": [
    {
     "name": "stdout",
     "output_type": "stream",
     "text": [
      "0\n",
      "1\n",
      "2\n",
      "3\n",
      "4\n",
      "5\n",
      "6\n",
      "7\n",
      "8\n",
      "9\n"
     ]
    }
   ],
   "source": [
    "for i in x : \n",
    "    print (i)"
   ]
  },
  {
   "cell_type": "code",
   "execution_count": 6,
   "id": "e9a64260",
   "metadata": {},
   "outputs": [
    {
     "name": "stdout",
     "output_type": "stream",
     "text": [
      "0\n",
      "1\n",
      "2\n",
      "3\n",
      "4\n",
      "5\n",
      "6\n",
      "7\n",
      "8\n",
      "9\n"
     ]
    }
   ],
   "source": [
    "for i in range(10):\n",
    "    print(i)"
   ]
  },
  {
   "cell_type": "code",
   "execution_count": 16,
   "id": "cf4a198a",
   "metadata": {
    "slideshow": {
     "slide_type": "slide"
    }
   },
   "outputs": [
    {
     "name": "stdout",
     "output_type": "stream",
     "text": [
      "1\n",
      "2\n",
      "3\n",
      "4\n",
      "5\n",
      "6\n",
      "7\n",
      "8\n",
      "9\n"
     ]
    }
   ],
   "source": [
    "for i in range(1,10):\n",
    "    print(i)"
   ]
  },
  {
   "cell_type": "code",
   "execution_count": 23,
   "id": "f7b666e8",
   "metadata": {
    "slideshow": {
     "slide_type": "slide"
    }
   },
   "outputs": [
    {
     "name": "stdout",
     "output_type": "stream",
     "text": [
      "25\n"
     ]
    }
   ],
   "source": [
    "#홀수의합을 구해라 예제 \n",
    "odd=0\n",
    "for i in range(11):\n",
    "    if i%2 == 1:\n",
    "        odd += i\n",
    "        \n",
    "print(odd)"
   ]
  },
  {
   "cell_type": "code",
   "execution_count": 26,
   "id": "99d904dc",
   "metadata": {
    "slideshow": {
     "slide_type": "slide"
    }
   },
   "outputs": [
    {
     "name": "stdout",
     "output_type": "stream",
     "text": [
      "30\n"
     ]
    }
   ],
   "source": [
    "even=0\n",
    "for i in range(11):\n",
    "    if i%2 == 0:\n",
    "        even += i\n",
    "        \n",
    "print(even)"
   ]
  },
  {
   "cell_type": "code",
   "execution_count": null,
   "id": "93312fb6",
   "metadata": {},
   "outputs": [],
   "source": [
    "#range(n)\n",
    "#range(start, end, start)"
   ]
  },
  {
   "cell_type": "code",
   "execution_count": 35,
   "id": "678a2e77",
   "metadata": {},
   "outputs": [
    {
     "name": "stdout",
     "output_type": "stream",
     "text": [
      "구구단\n",
      "==============================\n",
      "2                   단\n",
      "==============================\n",
      "2*1 = 2\n",
      "2*2 = 4\n",
      "2*3 = 6\n",
      "2*4 = 8\n",
      "2*5 = 10\n",
      "2*6 = 12\n",
      "2*7 = 14\n",
      "2*8 = 16\n",
      "2*9 = 18\n",
      "==============================\n",
      "3                   단\n",
      "==============================\n",
      "3*1 = 3\n",
      "3*2 = 6\n",
      "3*3 = 9\n",
      "3*4 = 12\n",
      "3*5 = 15\n",
      "3*6 = 18\n",
      "3*7 = 21\n",
      "3*8 = 24\n",
      "3*9 = 27\n",
      "==============================\n",
      "4                   단\n",
      "==============================\n",
      "4*1 = 4\n",
      "4*2 = 8\n",
      "4*3 = 12\n",
      "4*4 = 16\n",
      "4*5 = 20\n",
      "4*6 = 24\n",
      "4*7 = 28\n",
      "4*8 = 32\n",
      "4*9 = 36\n",
      "==============================\n",
      "5                   단\n",
      "==============================\n",
      "5*1 = 5\n",
      "5*2 = 10\n",
      "5*3 = 15\n",
      "5*4 = 20\n",
      "5*5 = 25\n",
      "5*6 = 30\n",
      "5*7 = 35\n",
      "5*8 = 40\n",
      "5*9 = 45\n",
      "==============================\n",
      "6                   단\n",
      "==============================\n",
      "6*1 = 6\n",
      "6*2 = 12\n",
      "6*3 = 18\n",
      "6*4 = 24\n",
      "6*5 = 30\n",
      "6*6 = 36\n",
      "6*7 = 42\n",
      "6*8 = 48\n",
      "6*9 = 54\n",
      "==============================\n",
      "7                   단\n",
      "==============================\n",
      "7*1 = 7\n",
      "7*2 = 14\n",
      "7*3 = 21\n",
      "7*4 = 28\n",
      "7*5 = 35\n",
      "7*6 = 42\n",
      "7*7 = 49\n",
      "7*8 = 56\n",
      "7*9 = 63\n",
      "==============================\n",
      "8                   단\n",
      "==============================\n",
      "8*1 = 8\n",
      "8*2 = 16\n",
      "8*3 = 24\n",
      "8*4 = 32\n",
      "8*5 = 40\n",
      "8*6 = 48\n",
      "8*7 = 56\n",
      "8*8 = 64\n",
      "8*9 = 72\n",
      "==============================\n",
      "9                   단\n",
      "==============================\n",
      "9*1 = 9\n",
      "9*2 = 18\n",
      "9*3 = 27\n",
      "9*4 = 36\n",
      "9*5 = 45\n",
      "9*6 = 54\n",
      "9*7 = 63\n",
      "9*8 = 72\n",
      "9*9 = 81\n"
     ]
    }
   ],
   "source": [
    "print(\"구구단\")\n",
    "for i in range(2,10):\n",
    "    \n",
    "    print(\"=\"*30)\n",
    "    print(f\"{i:<20}단\")\n",
    "    print(\"=\"*30)\n",
    "    for j in range(1,10):\n",
    "        print(f'{i}*{j} = {i*j}')\n",
    "   \n"
   ]
  },
  {
   "cell_type": "code",
   "execution_count": 49,
   "id": "bce761c4",
   "metadata": {},
   "outputs": [
    {
     "name": "stdout",
     "output_type": "stream",
     "text": [
      "*\n",
      "\n",
      "*\n",
      "*\n",
      "*\n",
      "**\n",
      "*\n",
      "***\n",
      "*\n",
      "****\n",
      "*\n",
      "*****\n",
      "*\n",
      "******\n",
      "*\n",
      "*******\n",
      "*\n",
      "********\n",
      "*\n",
      "*********\n"
     ]
    }
   ],
   "source": [
    "a= 4 \n",
    "for i in range(7):\n",
    "    print(\"{0: ^10}\")"
   ]
  },
  {
   "cell_type": "code",
   "execution_count": 83,
   "id": "322e9c8a",
   "metadata": {},
   "outputs": [
    {
     "ename": "SyntaxError",
     "evalue": "iterable argument unpacking follows keyword argument unpacking (717688607.py, line 4)",
     "output_type": "error",
     "traceback": [
      "\u001b[0;36m  Cell \u001b[0;32mIn[83], line 4\u001b[0;36m\u001b[0m\n\u001b[0;31m    print(\" \"*(i+3),*,\" \"*(i+3))\u001b[0m\n\u001b[0m          ^\u001b[0m\n\u001b[0;31mSyntaxError\u001b[0m\u001b[0;31m:\u001b[0m iterable argument unpacking follows keyword argument unpacking\n"
     ]
    }
   ],
   "source": [
    "    \n",
    "star = \"*\"\n",
    "r = 9 \n",
    "for i in range(r):\n",
    "    print(\" \"*(i+3),*,\" \"*(i+3))\n",
    "    "
   ]
  },
  {
   "cell_type": "code",
   "execution_count": 109,
   "id": "0aa6ed8a",
   "metadata": {},
   "outputs": [
    {
     "name": "stdout",
     "output_type": "stream",
     "text": [
      "    *\n",
      "   ***\n",
      "  *****\n",
      " *******\n",
      "*********\n"
     ]
    }
   ],
   "source": [
    "#빈칸의갯수 : 4,3,2,1,0 \n",
    "#별의겟수 : 1,3,5,7,9\n",
    "\n",
    "print(\" \"*(3),\"*\") \n",
    "print(\" \"*(2),\"***\")\n",
    "print(\" \"*(1),\"*****\") \n",
    "print(\" \"*(0),\"*******\")\n",
    "print(\"*********\")\n"
   ]
  },
  {
   "cell_type": "code",
   "execution_count": 125,
   "id": "ba9ddd15",
   "metadata": {},
   "outputs": [
    {
     "ename": "TypeError",
     "evalue": "'int' object is not callable",
     "output_type": "error",
     "traceback": [
      "\u001b[0;31m---------------------------------------------------------------------------\u001b[0m",
      "\u001b[0;31mTypeError\u001b[0m                                 Traceback (most recent call last)",
      "Cell \u001b[0;32mIn[125], line 2\u001b[0m\n\u001b[1;32m      1\u001b[0m \u001b[38;5;66;03m##### range = 10\u001b[39;00m\n\u001b[0;32m----> 2\u001b[0m \u001b[38;5;28;01mfor\u001b[39;00m n \u001b[38;5;129;01min\u001b[39;00m \u001b[38;5;28;43mrange\u001b[39;49m\u001b[43m(\u001b[49m\u001b[38;5;241;43m1\u001b[39;49m\u001b[43m,\u001b[49m\u001b[38;5;241;43m10\u001b[39;49m\u001b[43m)\u001b[49m:\n\u001b[1;32m      3\u001b[0m     \u001b[38;5;28mprint\u001b[39m(\u001b[38;5;124m\"\u001b[39m\u001b[38;5;124m \u001b[39m\u001b[38;5;124m\"\u001b[39m\u001b[38;5;241m*\u001b[39m\u001b[38;5;241m5\u001b[39m\u001b[38;5;241m-\u001b[39mn , \u001b[38;5;124m\"\u001b[39m\u001b[38;5;124m*\u001b[39m\u001b[38;5;124m\"\u001b[39m\u001b[38;5;241m*\u001b[39mn\u001b[38;5;241m+\u001b[39m\u001b[38;5;241m2\u001b[39m)\n",
      "\u001b[0;31mTypeError\u001b[0m: 'int' object is not callable"
     ]
    }
   ],
   "source": [
    "##### range = 10\n",
    "for n in range(1,10):\n",
    "    print(\" \"*5-n , \"*\"*n+2)"
   ]
  },
  {
   "cell_type": "code",
   "execution_count": 129,
   "id": "695167ac",
   "metadata": {},
   "outputs": [
    {
     "ename": "TypeError",
     "evalue": "'int' object is not callable",
     "output_type": "error",
     "traceback": [
      "\u001b[0;31m---------------------------------------------------------------------------\u001b[0m",
      "\u001b[0;31mTypeError\u001b[0m                                 Traceback (most recent call last)",
      "Cell \u001b[0;32mIn[129], line 1\u001b[0m\n\u001b[0;32m----> 1\u001b[0m \u001b[38;5;28;01mfor\u001b[39;00m n \u001b[38;5;129;01min\u001b[39;00m \u001b[38;5;28;43mrange\u001b[39;49m\u001b[43m(\u001b[49m\u001b[38;5;241;43m10\u001b[39;49m\u001b[43m)\u001b[49m:\n\u001b[1;32m      2\u001b[0m     \u001b[38;5;28mprint\u001b[39m(\u001b[38;5;124m\"\u001b[39m\u001b[38;5;124m*\u001b[39m\u001b[38;5;124m\"\u001b[39m)\n",
      "\u001b[0;31mTypeError\u001b[0m: 'int' object is not callable"
     ]
    }
   ],
   "source": [
    "for n in range(10):\n",
    "    print(\"*\")"
   ]
  },
  {
   "cell_type": "code",
   "execution_count": null,
   "id": "fcca859f",
   "metadata": {},
   "outputs": [],
   "source": []
  }
 ],
 "metadata": {
  "celltoolbar": "Slideshow",
  "kernelspec": {
   "display_name": "Python 3 (ipykernel)",
   "language": "python",
   "name": "python3"
  },
  "language_info": {
   "codemirror_mode": {
    "name": "ipython",
    "version": 3
   },
   "file_extension": ".py",
   "mimetype": "text/x-python",
   "name": "python",
   "nbconvert_exporter": "python",
   "pygments_lexer": "ipython3",
   "version": "3.10.12"
  }
 },
 "nbformat": 4,
 "nbformat_minor": 5
}
