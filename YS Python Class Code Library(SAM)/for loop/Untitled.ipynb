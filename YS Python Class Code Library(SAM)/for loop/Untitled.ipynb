{
 "cells": [
  {
   "cell_type": "code",
   "execution_count": 49,
   "id": "deef2227",
   "metadata": {},
   "outputs": [
    {
     "name": "stdout",
     "output_type": "stream",
     "text": [
      "      *\n",
      "     ***\n",
      "    *****\n",
      "   *******\n",
      "  *********\n"
     ]
    }
   ],
   "source": [
    "s = 1 \n",
    "for n in range(5):\n",
    "    space = 6-n\n",
    "    print(\" \"*space+\"*\"*s)\n",
    "    s=s+2"
   ]
  },
  {
   "cell_type": "code",
   "execution_count": 47,
   "id": "b66379a8",
   "metadata": {},
   "outputs": [
    {
     "name": "stdout",
     "output_type": "stream",
     "text": [
      "      *\n",
      "     ***\n",
      "    *****\n",
      "   *******\n",
      "  *********\n",
      " ***********\n",
      "  *********\n",
      "   *******\n",
      "    *****\n",
      "     ***\n",
      "      *\n"
     ]
    }
   ],
   "source": [
    "s = 1 \n",
    "for n in range(5):\n",
    "    space = 6-n\n",
    "    print(\" \"*(space)+\"*\"*s)\n",
    "    s=s+2\n",
    "for i in range(6):\n",
    "    space = i + 1\n",
    "    print(\" \"*(space)+\"*\"*s)\n",
    "    s = s -2 "
   ]
  },
  {
   "cell_type": "code",
   "execution_count": 52,
   "id": "4005b960",
   "metadata": {},
   "outputs": [
    {
     "name": "stdout",
     "output_type": "stream",
     "text": [
      "      *\n",
      "     ***\n",
      "    *****\n",
      "   *******\n",
      "  *********\n",
      " ***********\n"
     ]
    }
   ],
   "source": [
    "s = 1 \n",
    "for n in range(6):\n",
    "    sp= \" \"*(6-n)\n",
    "    st= \"*\"*s\n",
    "    print(sp+st)\n",
    "    s=s+2\n",
    "    \n"
   ]
  },
  {
   "cell_type": "code",
   "execution_count": null,
   "id": "3833573d",
   "metadata": {},
   "outputs": [],
   "source": []
  }
 ],
 "metadata": {
  "kernelspec": {
   "display_name": "Python 3 (ipykernel)",
   "language": "python",
   "name": "python3"
  },
  "language_info": {
   "codemirror_mode": {
    "name": "ipython",
    "version": 3
   },
   "file_extension": ".py",
   "mimetype": "text/x-python",
   "name": "python",
   "nbconvert_exporter": "python",
   "pygments_lexer": "ipython3",
   "version": "3.10.12"
  }
 },
 "nbformat": 4,
 "nbformat_minor": 5
}
