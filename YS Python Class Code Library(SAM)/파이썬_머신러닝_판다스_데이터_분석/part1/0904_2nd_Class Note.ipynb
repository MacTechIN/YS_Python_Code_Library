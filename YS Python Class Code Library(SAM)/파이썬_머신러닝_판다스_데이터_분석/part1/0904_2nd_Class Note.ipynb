{
 "cells": [
  {
   "cell_type": "markdown",
   "id": "349be8ec",
   "metadata": {},
   "source": [
    "## PANDAS 0904"
   ]
  },
  {
   "cell_type": "code",
   "execution_count": null,
   "id": "2969d014",
   "metadata": {},
   "outputs": [],
   "source": []
  },
  {
   "cell_type": "code",
   "execution_count": 1,
   "id": "e79534d8",
   "metadata": {},
   "outputs": [],
   "source": [
    "import pandas as pd"
   ]
  },
  {
   "cell_type": "code",
   "execution_count": 2,
   "id": "ddd7bcc0",
   "metadata": {},
   "outputs": [],
   "source": [
    "#\n",
    "dict_data={'a':1, 'b': 2, 'c': 3}"
   ]
  },
  {
   "cell_type": "code",
   "execution_count": 3,
   "id": "c670fff0",
   "metadata": {},
   "outputs": [],
   "source": [
    "sr = pd.Series(dict_data)"
   ]
  },
  {
   "cell_type": "code",
   "execution_count": 7,
   "id": "d44af022",
   "metadata": {},
   "outputs": [
    {
     "name": "stdout",
     "output_type": "stream",
     "text": [
      "<class 'pandas.core.series.Series'>\n",
      "\n",
      "\n"
     ]
    }
   ],
   "source": [
    "print(type(sr))\n",
    "print('\\n')"
   ]
  },
  {
   "cell_type": "code",
   "execution_count": 6,
   "id": "9b2c8fc3",
   "metadata": {},
   "outputs": [
    {
     "name": "stdout",
     "output_type": "stream",
     "text": [
      "a    1\n",
      "b    2\n",
      "c    3\n",
      "dtype: int64\n"
     ]
    }
   ],
   "source": [
    "print(sr)"
   ]
  },
  {
   "cell_type": "code",
   "execution_count": null,
   "id": "c4d99227",
   "metadata": {},
   "outputs": [],
   "source": []
  },
  {
   "cell_type": "code",
   "execution_count": 8,
   "id": "4f54fe6f",
   "metadata": {},
   "outputs": [
    {
     "name": "stdout",
     "output_type": "stream",
     "text": [
      "Index(['a', 'b', 'c'], dtype='object')\n",
      "[1 2 3]\n"
     ]
    }
   ],
   "source": [
    "print(sr.index) \n",
    "print(sr.values)"
   ]
  },
  {
   "cell_type": "code",
   "execution_count": 9,
   "id": "2b1e6496",
   "metadata": {},
   "outputs": [
    {
     "name": "stdout",
     "output_type": "stream",
     "text": [
      "Index(['a', 'b', 'c'], dtype='object')\n",
      "[1 2 3]\n"
     ]
    }
   ],
   "source": [
    "sr_index = print(sr.index) \n",
    "sr_values = print(sr.values)"
   ]
  },
  {
   "cell_type": "raw",
   "id": "a572cf45",
   "metadata": {},
   "source": [
    "판다스가 파일을 처리하는 것은 DBMS 2차원형태로 메모리로 관리하는 라이브러리이다. "
   ]
  },
  {
   "cell_type": "markdown",
   "id": "85b80082",
   "metadata": {},
   "source": [
    "### 02"
   ]
  },
  {
   "cell_type": "code",
   "execution_count": 10,
   "id": "c71c88c5",
   "metadata": {},
   "outputs": [],
   "source": [
    "list_data = ['2019-01-02', 3.14, 'ABC', 100, True]"
   ]
  },
  {
   "cell_type": "code",
   "execution_count": 19,
   "id": "652b222a",
   "metadata": {},
   "outputs": [],
   "source": [
    "list_data2 = ['2019-01-02', '3.14', 'ABC', '100', 'True']"
   ]
  },
  {
   "cell_type": "code",
   "execution_count": null,
   "id": "abc28f59",
   "metadata": {},
   "outputs": [],
   "source": [
    "list_nums= [1,2,3,4,5,6,7,8,10]"
   ]
  },
  {
   "cell_type": "code",
   "execution_count": 13,
   "id": "c972e488",
   "metadata": {},
   "outputs": [],
   "source": [
    "sr=pd.Series(list_data)"
   ]
  },
  {
   "cell_type": "code",
   "execution_count": 20,
   "id": "7b12d681",
   "metadata": {},
   "outputs": [],
   "source": [
    "sr=pd.Series(list_data2)"
   ]
  },
  {
   "cell_type": "code",
   "execution_count": 21,
   "id": "28f9d049",
   "metadata": {},
   "outputs": [
    {
     "name": "stdout",
     "output_type": "stream",
     "text": [
      "0    2019-01-02\n",
      "1          3.14\n",
      "2           ABC\n",
      "3           100\n",
      "4          True\n",
      "dtype: object\n"
     ]
    }
   ],
   "source": [
    "print(sr)"
   ]
  },
  {
   "cell_type": "code",
   "execution_count": 16,
   "id": "c5a45ac2",
   "metadata": {},
   "outputs": [
    {
     "name": "stdout",
     "output_type": "stream",
     "text": [
      "RangeIndex(start=0, stop=5, step=1)\n",
      "\n",
      "\n",
      "['2019-01-02' 3.14 'ABC' 100 True]\n"
     ]
    }
   ],
   "source": [
    "# 인덱스 배열은 변수 idx에 저장. 데이터 값 배열은 변수 val에 저장\n",
    "idx = sr.index\n",
    "val = sr.values\n",
    "print(idx)  # RangeIndex(start=0, stop=5, step=1)\n",
    "print('\\n')\n",
    "print(val) "
   ]
  },
  {
   "cell_type": "code",
   "execution_count": 17,
   "id": "d3c932b6",
   "metadata": {},
   "outputs": [
    {
     "name": "stdout",
     "output_type": "stream",
     "text": [
      "object\n"
     ]
    }
   ],
   "source": [
    "print(sr.dtype)"
   ]
  },
  {
   "cell_type": "code",
   "execution_count": 18,
   "id": "14422bbe",
   "metadata": {},
   "outputs": [
    {
     "name": "stdout",
     "output_type": "stream",
     "text": [
      "object\n"
     ]
    }
   ],
   "source": [
    "print(sr.dtypes)"
   ]
  },
  {
   "cell_type": "code",
   "execution_count": 22,
   "id": "ae2683bb",
   "metadata": {},
   "outputs": [],
   "source": [
    "list_nums= [1.0,2.11,3.14,44.11,5.55]"
   ]
  },
  {
   "cell_type": "code",
   "execution_count": 23,
   "id": "bf746f83",
   "metadata": {},
   "outputs": [],
   "source": [
    "sr= pd.Series(list_nums)"
   ]
  },
  {
   "cell_type": "code",
   "execution_count": 24,
   "id": "d84281e3",
   "metadata": {},
   "outputs": [
    {
     "name": "stdout",
     "output_type": "stream",
     "text": [
      "<class 'pandas.core.series.Series'>\n"
     ]
    }
   ],
   "source": [
    "print(type(sr))"
   ]
  },
  {
   "cell_type": "code",
   "execution_count": 25,
   "id": "83325679",
   "metadata": {},
   "outputs": [
    {
     "name": "stdout",
     "output_type": "stream",
     "text": [
      "float64\n"
     ]
    }
   ],
   "source": [
    "#숫자로 구성되어 있는데 실수가 포함되어 있으면 : floast \n",
    "\n",
    "print(sr.dtype)"
   ]
  },
  {
   "cell_type": "code",
   "execution_count": 26,
   "id": "2a2561c3",
   "metadata": {},
   "outputs": [
    {
     "name": "stdout",
     "output_type": "stream",
     "text": [
      "float64\n"
     ]
    }
   ],
   "source": [
    "print(sr.dtypes)"
   ]
  },
  {
   "cell_type": "code",
   "execution_count": 27,
   "id": "b553ce12",
   "metadata": {},
   "outputs": [
    {
     "name": "stdout",
     "output_type": "stream",
     "text": [
      "<class 'float'>\n"
     ]
    }
   ],
   "source": [
    "#flost64는 pandas에서만 지원하는 Dtype\n",
    "#ex) python\n",
    "\n",
    "fl = 0.123\n",
    "print(type(fl))"
   ]
  },
  {
   "cell_type": "markdown",
   "id": "225d6341",
   "metadata": {},
   "source": [
    "### 1.3 Series element"
   ]
  },
  {
   "cell_type": "code",
   "execution_count": 37,
   "id": "f557df86",
   "metadata": {},
   "outputs": [
    {
     "name": "stdout",
     "output_type": "stream",
     "text": [
      "이름              영인\n",
      "생년월일    2010-05-01\n",
      "성별               여\n",
      "학생여부          True\n",
      "dtype: object\n",
      "\n",
      "\n"
     ]
    }
   ],
   "source": [
    "import pandas as pd\n",
    "\n",
    "# 투플을 시리즈로 변환(index 옵션에 인덱스 이름을 지정)\n",
    "tup_data = ('영인', '2010-05-01', '여', True)\n",
    "sr = pd.Series(tup_data, index=['이름', '생년월일', '성별', '학생여부'])\n",
    "print(sr)\n",
    "print('\\n')"
   ]
  },
  {
   "cell_type": "code",
   "execution_count": 41,
   "id": "0e4eeb8a",
   "metadata": {},
   "outputs": [
    {
     "name": "stdout",
     "output_type": "stream",
     "text": [
      "영인\n"
     ]
    },
    {
     "name": "stderr",
     "output_type": "stream",
     "text": [
      "/var/folders/cn/6tckc6jj15ncxrjdbnp70vl40000gn/T/ipykernel_2584/921719011.py:2: FutureWarning: Series.__getitem__ treating keys as positions is deprecated. In a future version, integer keys will always be treated as labels (consistent with DataFrame behavior). To access a value by position, use `ser.iloc[pos]`\n",
      "  print(sr[0])\n"
     ]
    }
   ],
   "source": [
    "# 원소를 1개 선택\n",
    "print(sr[0])"
   ]
  },
  {
   "cell_type": "code",
   "execution_count": 54,
   "id": "025d3dc7",
   "metadata": {},
   "outputs": [
    {
     "name": "stdout",
     "output_type": "stream",
     "text": [
      "영인\n",
      "<class 'pandas.core.series.Series'>\n"
     ]
    }
   ],
   "source": [
    "print(sr['이름'])# 딕셔너리에서 키 값으로 찾는 것과 같다 \n",
    "print(type(sr))"
   ]
  },
  {
   "cell_type": "code",
   "execution_count": 53,
   "id": "189f05af",
   "metadata": {},
   "outputs": [
    {
     "name": "stdout",
     "output_type": "stream",
     "text": [
      "이름    영인\n",
      "dtype: object\n"
     ]
    }
   ],
   "source": [
    "print(sr[['이름']])"
   ]
  },
  {
   "cell_type": "code",
   "execution_count": 61,
   "id": "861cd8e8",
   "metadata": {},
   "outputs": [
    {
     "name": "stdout",
     "output_type": "stream",
     "text": [
      "생년월일    2010-05-01\n",
      "성별               여\n",
      "학생여부          True\n",
      "dtype: object\n"
     ]
    },
    {
     "name": "stderr",
     "output_type": "stream",
     "text": [
      "/var/folders/cn/6tckc6jj15ncxrjdbnp70vl40000gn/T/ipykernel_2584/821263041.py:1: FutureWarning: Series.__getitem__ treating keys as positions is deprecated. In a future version, integer keys will always be treated as labels (consistent with DataFrame behavior). To access a value by position, use `ser.iloc[pos]`\n",
      "  print(sr[[1,2,3]])\n"
     ]
    }
   ],
   "source": [
    "print(sr[[1,2,3]])\n",
    "#FutureWarning : FutureWarning: Series.__getitem__ treating keys as positions is deprecated."
   ]
  },
  {
   "cell_type": "code",
   "execution_count": 62,
   "id": "3489de0b",
   "metadata": {},
   "outputs": [
    {
     "name": "stdout",
     "output_type": "stream",
     "text": [
      "생년월일    2010-05-01\n",
      "성별               여\n",
      "dtype: object\n"
     ]
    },
    {
     "name": "stderr",
     "output_type": "stream",
     "text": [
      "/var/folders/cn/6tckc6jj15ncxrjdbnp70vl40000gn/T/ipykernel_2584/3514007363.py:2: FutureWarning: Series.__getitem__ treating keys as positions is deprecated. In a future version, integer keys will always be treated as labels (consistent with DataFrame behavior). To access a value by position, use `ser.iloc[pos]`\n",
      "  print(sr[[1,2]])\n"
     ]
    }
   ],
   "source": [
    "#여려 원소를 선택 (인덱스, 리스트 활용)\n",
    "print(sr[[1,2]])"
   ]
  },
  {
   "cell_type": "markdown",
   "id": "c1f72f04",
   "metadata": {},
   "source": [
    "\n",
    "sr.iloc[pos] 사용을 권장 "
   ]
  },
  {
   "cell_type": "code",
   "execution_count": null,
   "id": "80e81e95",
   "metadata": {},
   "outputs": [],
   "source": []
  },
  {
   "cell_type": "code",
   "execution_count": 57,
   "id": "a3a62e90",
   "metadata": {},
   "outputs": [
    {
     "name": "stdout",
     "output_type": "stream",
     "text": [
      "생년월일    2010-05-01\n",
      "성별               여\n",
      "dtype: object\n"
     ]
    }
   ],
   "source": [
    "print(sr[['생년월일','성별']])\n",
    "sr_index = sr[]"
   ]
  },
  {
   "cell_type": "code",
   "execution_count": null,
   "id": "3223b49c",
   "metadata": {},
   "outputs": [],
   "source": []
  },
  {
   "cell_type": "code",
   "execution_count": 58,
   "id": "09ea88c7",
   "metadata": {},
   "outputs": [
    {
     "name": "stdout",
     "output_type": "stream",
     "text": [
      "생년월일    2010-05-01\n",
      "dtype: object\n"
     ]
    }
   ],
   "source": [
    "#시작번호 : 시작 \n",
    "#종료 : 종료 미포함\n",
    "print(sr[1:2])"
   ]
  },
  {
   "cell_type": "code",
   "execution_count": 63,
   "id": "deb67f18",
   "metadata": {},
   "outputs": [
    {
     "name": "stdout",
     "output_type": "stream",
     "text": [
      "생년월일    2010-05-01\n",
      "성별               여\n",
      "dtype: object\n"
     ]
    }
   ],
   "source": [
    "#\n",
    "print(sr['생년월일' : '성별'])"
   ]
  },
  {
   "cell_type": "code",
   "execution_count": 64,
   "id": "3c2c5a9f",
   "metadata": {},
   "outputs": [
    {
     "name": "stdout",
     "output_type": "stream",
     "text": [
      "이름              영인\n",
      "생년월일    2010-05-01\n",
      "성별               여\n",
      "학생여부          True\n",
      "dtype: object\n",
      "이름              영인\n",
      "생년월일    2010-05-01\n",
      "성별               여\n",
      "학생여부          True\n",
      "dtype: object\n"
     ]
    }
   ],
   "source": [
    "#전체 요소 선택 \n",
    "print(sr[:])\n",
    "print(sr['이름':])"
   ]
  },
  {
   "cell_type": "code",
   "execution_count": 65,
   "id": "6c12c525",
   "metadata": {},
   "outputs": [
    {
     "name": "stdout",
     "output_type": "stream",
     "text": [
      "이름              영인\n",
      "생년월일    2010-05-01\n",
      "성별               여\n",
      "학생여부          True\n",
      "dtype: object\n",
      "이름              영인\n",
      "생년월일    2010-05-01\n",
      "성별               여\n",
      "학생여부          True\n",
      "dtype: object\n"
     ]
    }
   ],
   "source": [
    "#전체 요소 선택 \n",
    "print(sr[:])\n",
    "print(sr['이름':'학생여부'])"
   ]
  },
  {
   "cell_type": "markdown",
   "id": "7b9bd870",
   "metadata": {},
   "source": [
    "###  02.Data frame"
   ]
  },
  {
   "cell_type": "raw",
   "id": "6c41eeac",
   "metadata": {},
   "source": [
    "# 열이름을 key로 하고, 리스트를 value로 갖는 딕셔너리 정의(2차원 배열)\n",
    "#데이터 프레임 : 리스트 이용하여 생성 "
   ]
  },
  {
   "cell_type": "code",
   "execution_count": 76,
   "id": "6e07bf68",
   "metadata": {},
   "outputs": [],
   "source": [
    "dict_data = {\n",
    "    'c0':[1,2,3], # 컬럼 : 데이터 형식 (주의)\n",
    "    'c1':[4,5,6], \n",
    "    'c2':[7,8,9], \n",
    "    'c3':[10,11,12], \n",
    "    'c4':[13,14,15]\n",
    "}"
   ]
  },
  {
   "cell_type": "code",
   "execution_count": 77,
   "id": "e6aae22d",
   "metadata": {},
   "outputs": [],
   "source": [
    "## 판다스 DataFrame() 함수로 딕셔너리를 데이터프레임으로 변환. 변수 df에 저장. \n",
    "df = pd.DataFrame(dict_data)"
   ]
  },
  {
   "cell_type": "code",
   "execution_count": 78,
   "id": "f3dba724",
   "metadata": {},
   "outputs": [
    {
     "name": "stdout",
     "output_type": "stream",
     "text": [
      "<class 'pandas.core.frame.DataFrame'>\n"
     ]
    }
   ],
   "source": [
    "print(type(df))"
   ]
  },
  {
   "cell_type": "code",
   "execution_count": 79,
   "id": "75b1588d",
   "metadata": {},
   "outputs": [
    {
     "name": "stdout",
     "output_type": "stream",
     "text": [
      "   c0  c1  c2  c3  c4\n",
      "0   1   4   7  10  13\n",
      "1   2   5   8  11  14\n",
      "2   3   6   9  12  15\n"
     ]
    }
   ],
   "source": [
    "print(df)"
   ]
  },
  {
   "cell_type": "markdown",
   "id": "8ff8f11b",
   "metadata": {},
   "source": [
    "# 행 인덱스/열 이름 지정하여, 데이터프레임 만들기\n",
    "df = pd.DataFrame([[15, '남', '덕영중'], [17, '여', '수리중']], \n",
    "                   index=['준서', '예은'],\n",
    "                   columns=['나이', '성별', '학교'])"
   ]
  },
  {
   "cell_type": "code",
   "execution_count": 94,
   "id": "0773e96b",
   "metadata": {},
   "outputs": [
    {
     "ename": "SyntaxError",
     "evalue": "closing parenthesis ')' does not match opening parenthesis '[' on line 1 (305323483.py, line 4)",
     "output_type": "error",
     "traceback": [
      "\u001b[0;36m  Cell \u001b[0;32mIn[94], line 4\u001b[0;36m\u001b[0m\n\u001b[0;31m    columns=['나이', '성별', '학교'])\u001b[0m\n\u001b[0m                              ^\u001b[0m\n\u001b[0;31mSyntaxError\u001b[0m\u001b[0;31m:\u001b[0m closing parenthesis ')' does not match opening parenthesis '[' on line 1\n"
     ]
    }
   ],
   "source": [
    "df = pd.DataFrame ( \n",
    "    #나이, 성별, 학교 \n",
    "    [[15, '남', '덕영중'], #준서\n",
    "    [17, '여', '수리중']  #예은 ],\n",
    "    index=['준서', '예은'],\n",
    "    columns=['나이', '성별', '학교'])"
   ]
  },
  {
   "cell_type": "code",
   "execution_count": 92,
   "id": "c8a789c1",
   "metadata": {},
   "outputs": [
    {
     "ename": "SyntaxError",
     "evalue": "invalid syntax (3555622678.py, line 1)",
     "output_type": "error",
     "traceback": [
      "\u001b[0;36m  Cell \u001b[0;32mIn[92], line 1\u001b[0;36m\u001b[0m\n\u001b[0;31m    행 인덱스, 열 이름 확인하기\u001b[0m\n\u001b[0m      ^\u001b[0m\n\u001b[0;31mSyntaxError\u001b[0m\u001b[0;31m:\u001b[0m invalid syntax\n"
     ]
    }
   ],
   "source": [
    " 행 인덱스, 열 이름 확인하기\n",
    "print(df)            #데이터프레임\n"
   ]
  },
  {
   "cell_type": "code",
   "execution_count": 102,
   "id": "73443ea3",
   "metadata": {},
   "outputs": [],
   "source": [
    "df = pd.DataFrame(\n",
    "    [[15, '남', '덕영중'], [17, '여', '수리중']], index=['준서', '예은'],columns=['나이', '성별', '학교'])"
   ]
  },
  {
   "cell_type": "code",
   "execution_count": 103,
   "id": "058cc12a",
   "metadata": {},
   "outputs": [
    {
     "name": "stdout",
     "output_type": "stream",
     "text": [
      "    나이 성별   학교\n",
      "준서  15  남  덕영중\n",
      "예은  17  여  수리중\n"
     ]
    }
   ],
   "source": [
    "print(df)"
   ]
  },
  {
   "cell_type": "code",
   "execution_count": 104,
   "id": "1dcfa73f",
   "metadata": {},
   "outputs": [],
   "source": [
    "df.index = ['학생1', '학생2']"
   ]
  },
  {
   "cell_type": "code",
   "execution_count": 105,
   "id": "eedf9c1a",
   "metadata": {},
   "outputs": [],
   "source": [
    "df.columns = ['연령','남녀','소속']"
   ]
  },
  {
   "cell_type": "raw",
   "id": "36816a7c",
   "metadata": {},
   "source": [
    "Column, Row 변경 "
   ]
  },
  {
   "cell_type": "code",
   "execution_count": 106,
   "id": "ed1cbf69",
   "metadata": {},
   "outputs": [
    {
     "name": "stdout",
     "output_type": "stream",
     "text": [
      "     연령 남녀   소속\n",
      "학생1  15  남  덕영중\n",
      "학생2  17  여  수리중\n",
      "Index(['학생1', '학생2'], dtype='object')\n",
      "Index(['연령', '남녀', '소속'], dtype='object')\n"
     ]
    }
   ],
   "source": [
    "\n",
    "print(df)            #데이터프레임\n",
    "print(df.index)      #행 인덱스\n",
    "print(df.columns)    #열 이름"
   ]
  },
  {
   "cell_type": "markdown",
   "id": "b9304022",
   "metadata": {},
   "source": [
    "#### 02 DF rename() "
   ]
  },
  {
   "cell_type": "markdown",
   "id": "30fd6855",
   "metadata": {},
   "source": [
    "# dd"
   ]
  },
  {
   "cell_type": "code",
   "execution_count": 119,
   "id": "bfcd3976",
   "metadata": {},
   "outputs": [
    {
     "name": "stdout",
     "output_type": "stream",
     "text": [
      "    나이 성별   학교\n",
      "준서  15  남  덕영중\n",
      "예은  17  여  수리중\n"
     ]
    }
   ],
   "source": [
    "print(df)"
   ]
  },
  {
   "cell_type": "code",
   "execution_count": 121,
   "id": "265afc04",
   "metadata": {},
   "outputs": [],
   "source": [
    "#데이터프레임.rename() 메서드로 인덱스와 칼럼명변경 \n",
    "#칼럼명은 딕셔너리 자료형 \n",
    "#inplace: Ture (원본변경)\n",
    "\n",
    "df.rename(columns={'나이':'연령', '성별':'남녀', '학교':'소속'}, inplace=True) "
   ]
  },
  {
   "cell_type": "code",
   "execution_count": 123,
   "id": "41dd6b3b",
   "metadata": {},
   "outputs": [],
   "source": [
    "df.rename(index={'준서':'학생1', '예은':'학생2' }, inplace=Faz)"
   ]
  },
  {
   "cell_type": "code",
   "execution_count": 109,
   "id": "482a725e",
   "metadata": {},
   "outputs": [
    {
     "name": "stdout",
     "output_type": "stream",
     "text": [
      "     연령 남녀   소속\n",
      "학생1  15  남  덕영중\n",
      "학생2  17  여  수리중\n"
     ]
    }
   ],
   "source": [
    "print(df2)"
   ]
  },
  {
   "cell_type": "code",
   "execution_count": 117,
   "id": "ba361840",
   "metadata": {},
   "outputs": [
    {
     "ename": "NameError",
     "evalue": "name 'df3' is not defined",
     "output_type": "error",
     "traceback": [
      "\u001b[0;31m---------------------------------------------------------------------------\u001b[0m",
      "\u001b[0;31mNameError\u001b[0m                                 Traceback (most recent call last)",
      "Cell \u001b[0;32mIn[117], line 1\u001b[0m\n\u001b[0;32m----> 1\u001b[0m \u001b[38;5;28mprint\u001b[39m(\u001b[43mdf3\u001b[49m)\n",
      "\u001b[0;31mNameError\u001b[0m: name 'df3' is not defined"
     ]
    }
   ],
   "source": [
    "print(df3)"
   ]
  },
  {
   "cell_type": "code",
   "execution_count": null,
   "id": "b117a68a",
   "metadata": {},
   "outputs": [],
   "source": []
  },
  {
   "cell_type": "markdown",
   "id": "e7deb60c",
   "metadata": {},
   "source": [
    "#### 03"
   ]
  },
  {
   "cell_type": "code",
   "execution_count": 116,
   "id": "6696690b",
   "metadata": {},
   "outputs": [],
   "source": [
    "#inplace : False 를 주거나 지정하지 않으면 원본은 변경되지 않음 "
   ]
  },
  {
   "cell_type": "code",
   "execution_count": 132,
   "id": "ed0d5da1",
   "metadata": {},
   "outputs": [],
   "source": [
    "df = pd.DataFrame([[15, '남', '덕영중'], [17, '여', '수리중']], \n",
    "                   index=['준서', '예은'],\n",
    "                   columns=['나이', '성별', '학교'])"
   ]
  },
  {
   "cell_type": "code",
   "execution_count": 133,
   "id": "0cfbe5ee",
   "metadata": {},
   "outputs": [],
   "source": [
    "df2 = df.rename(columns={'나이':'연령', '성별':'남녀', '학교':'소속'}, inplace=True)\n",
    "\n",
    "# df의 행 인덱스 중에서, '준서'를 '학생1'로, '예은'을 '학생2' 원본 변경안됨.\n",
    "df3= df.rename(index={'준서':'학생1', '예은':'학생2' }, inplace=False)"
   ]
  },
  {
   "cell_type": "code",
   "execution_count": 135,
   "id": "ad3c8dde",
   "metadata": {},
   "outputs": [
    {
     "name": "stdout",
     "output_type": "stream",
     "text": [
      "    연령 남녀   소속\n",
      "준서  15  남  덕영중\n",
      "예은  17  여  수리중\n"
     ]
    }
   ],
   "source": [
    "print(df)\n",
    "#컬럼:연령,남녀,소속 변경 원본 변경 "
   ]
  },
  {
   "cell_type": "markdown",
   "id": "a2c17edb",
   "metadata": {},
   "source": [
    "#### Remove  : drop()"
   ]
  },
  {
   "cell_type": "code",
   "execution_count": 174,
   "id": "c652725f",
   "metadata": {},
   "outputs": [],
   "source": [
    "exam_data = {'수학' : [ 90, 80, 70], '영어' : [ 98, 89, 95],\n",
    "             '음악' : [ 85, 95, 100], '체육' : [ 100, 90, 90]}"
   ]
  },
  {
   "cell_type": "code",
   "execution_count": 175,
   "id": "af47b41d",
   "metadata": {},
   "outputs": [],
   "source": [
    "df = pd.DataFrame(exam_data, index=['서준','우현','인아'])"
   ]
  },
  {
   "cell_type": "code",
   "execution_count": 176,
   "id": "c478d677",
   "metadata": {},
   "outputs": [
    {
     "name": "stdout",
     "output_type": "stream",
     "text": [
      "    수학  영어   음악   체육\n",
      "서준  90  98   85  100\n",
      "우현  80  89   95   90\n",
      "인아  70  95  100   90\n"
     ]
    }
   ],
   "source": [
    "print(df)"
   ]
  },
  {
   "cell_type": "code",
   "execution_count": 182,
   "id": "0d6ed079",
   "metadata": {},
   "outputs": [
    {
     "name": "stderr",
     "output_type": "stream",
     "text": [
      "/var/folders/cn/6tckc6jj15ncxrjdbnp70vl40000gn/T/ipykernel_2584/2246097352.py:2: SettingWithCopyWarning: \n",
      "A value is trying to be set on a copy of a slice from a DataFrame\n",
      "\n",
      "See the caveats in the documentation: https://pandas.pydata.org/pandas-docs/stable/user_guide/indexing.html#returning-a-view-versus-a-copy\n",
      "  df2.drop('우현', inplace= True)\n"
     ]
    }
   ],
   "source": [
    "df2 = df[:]\n",
    "df2.drop('우현', inplace= True)"
   ]
  },
  {
   "cell_type": "code",
   "execution_count": 178,
   "id": "33e0b56c",
   "metadata": {},
   "outputs": [
    {
     "name": "stdout",
     "output_type": "stream",
     "text": [
      "    수학  영어   음악   체육\n",
      "서준  90  98   85  100\n",
      "인아  70  95  100   90\n"
     ]
    }
   ],
   "source": [
    "print(df2)\n",
    "#'우현'만 삭제 "
   ]
  },
  {
   "cell_type": "code",
   "execution_count": 179,
   "id": "9de9981d",
   "metadata": {},
   "outputs": [],
   "source": [
    "df3 = df[:]"
   ]
  },
  {
   "cell_type": "code",
   "execution_count": 180,
   "id": "64636a66",
   "metadata": {},
   "outputs": [
    {
     "name": "stdout",
     "output_type": "stream",
     "text": [
      "    수학  영어   음악   체육\n",
      "서준  90  98   85  100\n",
      "우현  80  89   95   90\n",
      "인아  70  95  100   90\n"
     ]
    }
   ],
   "source": [
    "print(df3)"
   ]
  },
  {
   "cell_type": "code",
   "execution_count": 181,
   "id": "1ab9ff7c",
   "metadata": {},
   "outputs": [
    {
     "name": "stderr",
     "output_type": "stream",
     "text": [
      "/var/folders/cn/6tckc6jj15ncxrjdbnp70vl40000gn/T/ipykernel_2584/1418611195.py:3: SettingWithCopyWarning: \n",
      "A value is trying to be set on a copy of a slice from a DataFrame\n",
      "\n",
      "See the caveats in the documentation: https://pandas.pydata.org/pandas-docs/stable/user_guide/indexing.html#returning-a-view-versus-a-copy\n",
      "  df3.drop(['수학','영어'], axis=1, inplace=True)\n"
     ]
    }
   ],
   "source": [
    "#axis = 1 은 컬럼을 의미함. \n",
    "#\n",
    "df3.drop(['수학','영어'], axis=1, inplace=True)"
   ]
  },
  {
   "cell_type": "code",
   "execution_count": 183,
   "id": "8a59d6c9",
   "metadata": {},
   "outputs": [
    {
     "name": "stdout",
     "output_type": "stream",
     "text": [
      "     음악   체육\n",
      "서준   85  100\n",
      "우현   95   90\n",
      "인아  100   90\n"
     ]
    }
   ],
   "source": [
    "print(df3)\n",
    "# '수학','영어' 컬럼삭제"
   ]
  },
  {
   "cell_type": "markdown",
   "id": "d8c4871c",
   "metadata": {},
   "source": [
    "## 14.Trans position "
   ]
  },
  {
   "cell_type": "code",
   "execution_count": 185,
   "id": "ed44312f",
   "metadata": {},
   "outputs": [
    {
     "name": "stdout",
     "output_type": "stream",
     "text": [
      "   이름  수학  영어   음악   체육\n",
      "0  서준  90  98   85  100\n",
      "1  우현  80  89   95   90\n",
      "2  인아  70  95  100   90\n",
      "\n",
      "\n"
     ]
    }
   ],
   "source": [
    "\n",
    "import pandas as pd\n",
    "\n",
    "# DataFrame() 함수로 데이터프레임 변환. 변수 df에 저장 \n",
    "exam_data = {'이름' : [ '서준', '우현', '인아'],\n",
    "             '수학' : [ 90, 80, 70],\n",
    "             '영어' : [ 98, 89, 95],\n",
    "             '음악' : [ 85, 95, 100],\n",
    "             '체육' : [ 100, 90, 90]}\n",
    "df = pd.DataFrame(exam_data)\n",
    "print(df)\n",
    "print('\\n')\n",
    "\n"
   ]
  },
  {
   "cell_type": "code",
   "execution_count": 187,
   "id": "dbe4b18c",
   "metadata": {},
   "outputs": [
    {
     "name": "stdout",
     "output_type": "stream",
     "text": [
      "      0   1    2\n",
      "이름   서준  우현   인아\n",
      "수학   90  80   70\n",
      "영어   98  89   95\n",
      "음악   85  95  100\n",
      "체육  100  90   90\n",
      "\n",
      "\n"
     ]
    }
   ],
   "source": [
    "# 데이터프레임 행렬을 바뚠다. 행이 열이 되고, 열이 행이됨. \n",
    "# 메소드 사용 \n",
    "df = df.transpose()\n",
    "print(df)\n",
    "print('\\n')\n",
    "\n"
   ]
  },
  {
   "cell_type": "code",
   "execution_count": 188,
   "id": "9b7374ab",
   "metadata": {},
   "outputs": [
    {
     "name": "stdout",
     "output_type": "stream",
     "text": [
      "   이름  수학  영어   음악   체육\n",
      "0  서준  90  98   85  100\n",
      "1  우현  80  89   95   90\n",
      "2  인아  70  95  100   90\n"
     ]
    }
   ],
   "source": [
    "# 데이터프레임 df를 다시 전치하기 (클래스 속성 활용)\n",
    "df = df.T\n",
    "print(df)"
   ]
  },
  {
   "cell_type": "markdown",
   "id": "fcbb6745",
   "metadata": {},
   "source": [
    "### 16.set_index.jp"
   ]
  },
  {
   "cell_type": "code",
   "execution_count": 209,
   "id": "858f24ab",
   "metadata": {},
   "outputs": [],
   "source": [
    "#DataFrame() 함수로 데이터프레임 변환. 변수 df에 저장 \n",
    "exam_data = {'이름' : [ '서준', '우현', '인아'],\n",
    "             '수학' : [ 90, 80, 70],\n",
    "             '영어' : [ 98, 89, 95],\n",
    "             '음악' : [ 85, 95, 100],\n",
    "             '체육' : [ 100, 90, 90]}"
   ]
  },
  {
   "cell_type": "code",
   "execution_count": 200,
   "id": "5550d787",
   "metadata": {},
   "outputs": [],
   "source": [
    "df = pd.DataFrame(exam_data)"
   ]
  },
  {
   "cell_type": "code",
   "execution_count": 201,
   "id": "432e2dee",
   "metadata": {},
   "outputs": [
    {
     "name": "stdout",
     "output_type": "stream",
     "text": [
      "   이름  수학  영어   음악   체육\n",
      "0  서준  90  98   85  100\n",
      "1  우현  80  89   95   90\n",
      "2  인아  70  95  100   90\n"
     ]
    }
   ],
   "source": [
    "print(df)"
   ]
  },
  {
   "cell_type": "code",
   "execution_count": 210,
   "id": "053a0016",
   "metadata": {},
   "outputs": [],
   "source": [
    "ndf = df.set_index('이름')"
   ]
  },
  {
   "cell_type": "code",
   "execution_count": 211,
   "id": "cedf4f9a",
   "metadata": {},
   "outputs": [
    {
     "name": "stdout",
     "output_type": "stream",
     "text": [
      "    수학  영어   음악   체육\n",
      "이름                  \n",
      "서준  90  98   85  100\n",
      "우현  80  89   95   90\n",
      "인아  70  95  100   90\n"
     ]
    }
   ],
   "source": [
    "print(ndf)"
   ]
  },
  {
   "cell_type": "code",
   "execution_count": 206,
   "id": "e47dc3c9",
   "metadata": {},
   "outputs": [
    {
     "name": "stdout",
     "output_type": "stream",
     "text": [
      "     수학  영어   체육\n",
      "음악              \n",
      "85   90  98  100\n",
      "95   80  89   90\n",
      "100  70  95   90\n"
     ]
    }
   ],
   "source": [
    "ndf2 = ndf.set_index('음악')\n",
    "print(ndf2)"
   ]
  },
  {
   "cell_type": "code",
   "execution_count": 207,
   "id": "0db942c1",
   "metadata": {},
   "outputs": [],
   "source": [
    "ndf3 = ndf.set_index(['수학','음악'])"
   ]
  },
  {
   "cell_type": "code",
   "execution_count": 208,
   "id": "18527c7f",
   "metadata": {},
   "outputs": [
    {
     "name": "stdout",
     "output_type": "stream",
     "text": [
      "        영어   체육\n",
      "수학 음악          \n",
      "90 85   98  100\n",
      "80 95   89   90\n",
      "70 100  95   90\n"
     ]
    }
   ],
   "source": [
    "print(ndf3)"
   ]
  },
  {
   "cell_type": "code",
   "execution_count": 212,
   "id": "1198285b",
   "metadata": {},
   "outputs": [],
   "source": [
    "#인덱스: 80,85인 영어와 체육 점수 \n",
    "ndf4 = ndf3.loc[80,95]"
   ]
  },
  {
   "cell_type": "code",
   "execution_count": 214,
   "id": "8b139329",
   "metadata": {},
   "outputs": [
    {
     "name": "stdout",
     "output_type": "stream",
     "text": [
      "영어    89\n",
      "체육    90\n",
      "Name: (80, 95), dtype: int64\n"
     ]
    }
   ],
   "source": [
    "print(ndf4)"
   ]
  },
  {
   "cell_type": "code",
   "execution_count": 221,
   "id": "161d55fe",
   "metadata": {},
   "outputs": [
    {
     "name": "stdout",
     "output_type": "stream",
     "text": [
      "체육    90\n",
      "Name: (80, 95), dtype: int64\n"
     ]
    }
   ],
   "source": [
    "#인덱스: 90,95인 체육점수 \n",
    "ndf5 = ndf3.loc[(80,95),['체육']]\n",
    "print(ndf5)"
   ]
  },
  {
   "cell_type": "code",
   "execution_count": 222,
   "id": "e30f0892",
   "metadata": {},
   "outputs": [
    {
     "name": "stdout",
     "output_type": "stream",
     "text": [
      "체육,영어 :  체육    90\n",
      "Name: (80, 95), dtype: int64\n"
     ]
    }
   ],
   "source": [
    "print(\"체육,영어 : \",ndf5)"
   ]
  },
  {
   "cell_type": "code",
   "execution_count": 224,
   "id": "debada1d",
   "metadata": {},
   "outputs": [
    {
     "name": "stdout",
     "output_type": "stream",
     "text": [
      "\n",
      "\n",
      "체육,영어 :  체육    90\n",
      "영어    89\n",
      "Name: (80, 95), dtype: int64\n"
     ]
    }
   ],
   "source": [
    "ndf6 = ndf3.loc[(80,95),['체육','영어']]\n",
    "print('\\n')\n",
    "print(\"체육,영어 : \", ndf6)"
   ]
  },
  {
   "cell_type": "markdown",
   "id": "dcb57e22",
   "metadata": {},
   "source": [
    "### 17.reindex.py"
   ]
  },
  {
   "cell_type": "code",
   "execution_count": 225,
   "id": "053d8c6e",
   "metadata": {},
   "outputs": [
    {
     "name": "stdout",
     "output_type": "stream",
     "text": [
      "    c0  c1  c2  c3  c4\n",
      "r0   1   4   7  10  13\n",
      "r1   2   5   8  11  14\n",
      "r2   3   6   9  12  15\n",
      "\n",
      "\n"
     ]
    }
   ],
   "source": [
    "# 딕셔서리를 정의\n",
    "dict_data = {'c0':[1,2,3], 'c1':[4,5,6], 'c2':[7,8,9], 'c3':[10,11,12], 'c4':[13,14,15]}\n",
    "\n",
    "# 딕셔서리를 데이터프레임으로 변환. 인덱스를 [r0, r1, r2]로 지정\n",
    "df = pd.DataFrame(dict_data, index=['r0', 'r1', 'r2'])\n",
    "print(df)\n",
    "print('\\n')"
   ]
  },
  {
   "cell_type": "code",
   "execution_count": 227,
   "id": "405b0705",
   "metadata": {},
   "outputs": [],
   "source": [
    "\n",
    "new_index=['r0', 'r1', 'r2', 'r3', 'r4']\n",
    "ndf = df.reindex(new_index)"
   ]
  },
  {
   "cell_type": "code",
   "execution_count": 228,
   "id": "d5c454a7",
   "metadata": {},
   "outputs": [
    {
     "name": "stdout",
     "output_type": "stream",
     "text": [
      "     c0   c1   c2    c3    c4\n",
      "r0  1.0  4.0  7.0  10.0  13.0\n",
      "r1  2.0  5.0  8.0  11.0  14.0\n",
      "r2  3.0  6.0  9.0  12.0  15.0\n",
      "r3  NaN  NaN  NaN   NaN   NaN\n",
      "r4  NaN  NaN  NaN   NaN   NaN\n"
     ]
    }
   ],
   "source": [
    "print(ndf)"
   ]
  },
  {
   "cell_type": "code",
   "execution_count": 231,
   "id": "f6f7f10e",
   "metadata": {},
   "outputs": [],
   "source": [
    "#fill_value=0 : zero로 값을 채움 \n",
    "#reindex로 발생한 NaN값을 숫자 0으로 채우기 \n",
    "ndf = df.reindex(new_index,fill_value=0)"
   ]
  },
  {
   "cell_type": "code",
   "execution_count": 232,
   "id": "0038013f",
   "metadata": {},
   "outputs": [
    {
     "name": "stdout",
     "output_type": "stream",
     "text": [
      "    c0  c1  c2  c3  c4\n",
      "r0   1   4   7  10  13\n",
      "r1   2   5   8  11  14\n",
      "r2   3   6   9  12  15\n",
      "r3   0   0   0   0   0\n",
      "r4   0   0   0   0   0\n"
     ]
    }
   ],
   "source": [
    "print(ndf)"
   ]
  },
  {
   "cell_type": "markdown",
   "id": "f03e3008",
   "metadata": {},
   "source": [
    "### 18.reset_index.py"
   ]
  },
  {
   "cell_type": "code",
   "execution_count": 233,
   "id": "47582a25",
   "metadata": {},
   "outputs": [
    {
     "name": "stdout",
     "output_type": "stream",
     "text": [
      "    c0  c1  c2  c3  c4\n",
      "r0   1   4   7  10  13\n",
      "r1   2   5   8  11  14\n",
      "r2   3   6   9  12  15\n",
      "\n",
      "\n"
     ]
    }
   ],
   "source": [
    "# 딕셔서리를 정의\n",
    "dict_data = {'c0':[1,2,3], 'c1':[4,5,6], 'c2':[7,8,9], 'c3':[10,11,12], 'c4':[13,14,15]}\n",
    "\n",
    "# 딕셔서리를 데이터프레임으로 변환. 인덱스를 [r0, r1, r2]로 지정\n",
    "df = pd.DataFrame(dict_data, index=['r0', 'r1', 'r2'])\n",
    "print(df)\n",
    "print('\\n')"
   ]
  },
  {
   "cell_type": "code",
   "execution_count": 234,
   "id": "70e73f53",
   "metadata": {},
   "outputs": [
    {
     "name": "stdout",
     "output_type": "stream",
     "text": [
      "  index  c0  c1  c2  c3  c4\n",
      "0    r0   1   4   7  10  13\n",
      "1    r1   2   5   8  11  14\n",
      "2    r2   3   6   9  12  15\n"
     ]
    }
   ],
   "source": [
    "# 행 인덱스를 정수형으로 초기화 \n",
    "ndf = df.reset_index()\n",
    "print(ndf)"
   ]
  },
  {
   "cell_type": "markdown",
   "id": "a4f6b969",
   "metadata": {},
   "source": [
    "### 19.sort_index.py"
   ]
  },
  {
   "cell_type": "code",
   "execution_count": 236,
   "id": "95e63be7",
   "metadata": {},
   "outputs": [
    {
     "name": "stdout",
     "output_type": "stream",
     "text": [
      "    c0  c1  c2  c3  c4\n",
      "r0   1   4   7  10  13\n",
      "r1   2   5   8  11  14\n",
      "r2   3   6   9  12  15\n",
      "\n",
      "\n"
     ]
    }
   ],
   "source": [
    "# 딕셔서리를 정의\n",
    "dict_data = {'c0':[1,2,3], 'c1':[4,5,6], 'c2':[7,8,9], 'c3':[10,11,12], 'c4':[13,14,15]}\n",
    "\n",
    "# 딕셔서리를 데이터프레임으로 변환. 인덱스를 [r0, r1, r2]로 지정\n",
    "df = pd.DataFrame(dict_data, index=['r0', 'r1', 'r2'])\n",
    "print(df)\n",
    "print('\\n')"
   ]
  },
  {
   "cell_type": "code",
   "execution_count": 238,
   "id": "edbfc48f",
   "metadata": {},
   "outputs": [
    {
     "name": "stdout",
     "output_type": "stream",
     "text": [
      "    c0  c1  c2  c3  c4\n",
      "r2   3   6   9  12  15\n",
      "r1   2   5   8  11  14\n",
      "r0   1   4   7  10  13\n"
     ]
    }
   ],
   "source": [
    "#내림차순으로 행 인덱스 정렬  \n",
    "#인덱스의 큰 값부터 작은값 순으로 정렬 \n",
    "#원본의 변화가 없으며, 새로운 데이터 프레임을 리턴한다. **\n",
    "ndf = df.sort_index(ascending=False) \n",
    "print(ndf)"
   ]
  },
  {
   "cell_type": "code",
   "execution_count": 239,
   "id": "8fd80f8e",
   "metadata": {},
   "outputs": [
    {
     "name": "stdout",
     "output_type": "stream",
     "text": [
      "    c0  c1  c2  c3  c4\n",
      "r0   1   4   7  10  13\n",
      "r1   2   5   8  11  14\n",
      "r2   3   6   9  12  15\n"
     ]
    }
   ],
   "source": [
    "#오름차순 행 인덱스 정렬  \n",
    "#인덱스의 큰 값부터 작은값 순으로 정렬 \n",
    "\n",
    "ndf = df.sort_index(ascending=True) \n",
    "print(ndf)"
   ]
  },
  {
   "cell_type": "markdown",
   "id": "5a27d8c0",
   "metadata": {},
   "source": [
    "### 20.sort_values.py"
   ]
  },
  {
   "cell_type": "code",
   "execution_count": 241,
   "id": "1218b3bc",
   "metadata": {},
   "outputs": [
    {
     "name": "stdout",
     "output_type": "stream",
     "text": [
      "    c0  c1  c2  c3  c4\n",
      "r0   1   4   7  10  13\n",
      "r1   2   5   8  11  14\n",
      "r2   3   6   9  12  15\n",
      "\n",
      "\n"
     ]
    }
   ],
   "source": [
    "#딕셔서리를 정의\n",
    "dict_data = {'c0':[1,2,3], 'c1':[4,5,6], 'c2':[7,8,9], 'c3':[10,11,12], 'c4':[13,14,15]}\n",
    "\n",
    "# 딕셔서리를 데이터프레임으로 변환. 인덱스를 [r0, r1, r2]로 지정\n",
    "df = pd.DataFrame(dict_data, index=['r0', 'r1', 'r2'])\n",
    "print(df)\n",
    "print('\\n')\n"
   ]
  },
  {
   "cell_type": "code",
   "execution_count": 242,
   "id": "fd076d18",
   "metadata": {},
   "outputs": [
    {
     "name": "stdout",
     "output_type": "stream",
     "text": [
      "    c0  c1  c2  c3  c4\n",
      "r2   3   6   9  12  15\n",
      "r1   2   5   8  11  14\n",
      "r0   1   4   7  10  13\n"
     ]
    }
   ],
   "source": [
    "# c1 열을 기준으로 내림차순 정렬 \n",
    "ndf = df.sort_values(by='c1', ascending=False)\n",
    "print(ndf)"
   ]
  },
  {
   "cell_type": "markdown",
   "id": "61bb5891",
   "metadata": {},
   "source": [
    "### 21.series_to_number.py"
   ]
  },
  {
   "cell_type": "code",
   "execution_count": 243,
   "id": "ae15d24f",
   "metadata": {},
   "outputs": [
    {
     "name": "stdout",
     "output_type": "stream",
     "text": [
      "국어    100\n",
      "영어     80\n",
      "수학     90\n",
      "dtype: int64\n",
      "\n",
      "\n"
     ]
    }
   ],
   "source": [
    "#시리즈 연산\n",
    "#원본은 유지 \n",
    "#리턴 : 연산결과 시리즈로 리턴 \n",
    "\n",
    "\n",
    "# 딕셔너리 데이터로 판다스 시리즈 만들기\n",
    "\n",
    "student1 = pd.Series({'국어':100, '영어':80, '수학':90})\n",
    "print(student1)\n",
    "print('\\n')"
   ]
  },
  {
   "cell_type": "code",
   "execution_count": 246,
   "id": "497821fe",
   "metadata": {},
   "outputs": [],
   "source": [
    "percentage = student1 / 2"
   ]
  },
  {
   "cell_type": "code",
   "execution_count": 247,
   "id": "68e78149",
   "metadata": {},
   "outputs": [
    {
     "name": "stdout",
     "output_type": "stream",
     "text": [
      "국어    50.0\n",
      "영어    40.0\n",
      "수학    45.0\n",
      "dtype: float64\n"
     ]
    }
   ],
   "source": [
    "print(percentage) "
   ]
  },
  {
   "cell_type": "code",
   "execution_count": 248,
   "id": "ab0bb4ea",
   "metadata": {},
   "outputs": [],
   "source": [
    "studplus = student1 + 100"
   ]
  },
  {
   "cell_type": "code",
   "execution_count": 249,
   "id": "d5a7ffc0",
   "metadata": {},
   "outputs": [
    {
     "name": "stdout",
     "output_type": "stream",
     "text": [
      "국어    200\n",
      "영어    180\n",
      "수학    190\n",
      "dtype: int64\n"
     ]
    }
   ],
   "source": [
    "#dnjsqhs \n",
    "print(studplus)"
   ]
  },
  {
   "cell_type": "code",
   "execution_count": 253,
   "id": "ac3ad4bf",
   "metadata": {},
   "outputs": [
    {
     "name": "stdout",
     "output_type": "stream",
     "text": [
      "국어     0\n",
      "영어   -20\n",
      "수학   -10\n",
      "dtype: int64\n"
     ]
    }
   ],
   "source": [
    "#뺄셈 \n",
    "\n",
    "studSub = student1 - 100\n",
    "print(studSub)"
   ]
  },
  {
   "cell_type": "code",
   "execution_count": 254,
   "id": "0107a7fe",
   "metadata": {},
   "outputs": [
    {
     "name": "stdout",
     "output_type": "stream",
     "text": [
      "국어    1000.0\n",
      "영어     800.0\n",
      "수학     900.0\n",
      "dtype: float64\n"
     ]
    }
   ],
   "source": [
    "#나눗셈 \n",
    "studdiv = student1 / 0.1\n",
    "print(studdiv)"
   ]
  },
  {
   "cell_type": "code",
   "execution_count": 255,
   "id": "82147843",
   "metadata": {},
   "outputs": [
    {
     "name": "stdout",
     "output_type": "stream",
     "text": [
      "국어    10.0\n",
      "영어     8.0\n",
      "수학     9.0\n",
      "dtype: float64\n"
     ]
    }
   ],
   "source": [
    "#곱셈 \n",
    "studmul = student1 * 0.1\n",
    "print(studmul)\n"
   ]
  },
  {
   "cell_type": "markdown",
   "id": "cd608062",
   "metadata": {},
   "source": [
    "### 22.series_to_series.py"
   ]
  },
  {
   "cell_type": "code",
   "execution_count": 271,
   "id": "37c358f1",
   "metadata": {},
   "outputs": [],
   "source": [
    "# 딕셔너리 데이터로 판다스 시리즈 만들기\n",
    "student1 = pd.Series({'국어':100, '영어':80, '수학':90, '국사':50})\n",
    "student2 = pd.Series({'국사':60,'수학':80, '국어':90, '영어':80})\n"
   ]
  },
  {
   "cell_type": "code",
   "execution_count": 275,
   "id": "503c67ac",
   "metadata": {
    "scrolled": true
   },
   "outputs": [
    {
     "name": "stdout",
     "output_type": "stream",
     "text": [
      "국어    100\n",
      "영어     80\n",
      "수학     90\n",
      "국사     50\n",
      "dtype: int64\n",
      "국사    60\n",
      "수학    80\n",
      "국어    90\n",
      "영어    80\n",
      "dtype: int64\n"
     ]
    }
   ],
   "source": [
    "print(student1)\n",
    "print(student2)\n"
   ]
  },
  {
   "cell_type": "code",
   "execution_count": 276,
   "id": "782e304e",
   "metadata": {},
   "outputs": [
    {
     "name": "stdout",
     "output_type": "stream",
     "text": [
      "<class 'pandas.core.series.Series'>\n"
     ]
    }
   ],
   "source": [
    "addition = student1 + student2               #덧셈\n",
    "subtraction = student1 - student2            #뺄셈\n",
    "multiplication = student1 * student2         #곱셈\n",
    "division = student1 / student2               #나눗셈\n",
    "print(type(division))"
   ]
  },
  {
   "cell_type": "code",
   "execution_count": 277,
   "id": "9acd6bee",
   "metadata": {},
   "outputs": [
    {
     "name": "stdout",
     "output_type": "stream",
     "text": [
      "              국사           국어        수학      영어\n",
      "덧셈    110.000000   190.000000   170.000   160.0\n",
      "뺄셈    -10.000000    10.000000    10.000     0.0\n",
      "곱셈   3000.000000  9000.000000  7200.000  6400.0\n",
      "나눗셈     0.833333     1.111111     1.125     1.0\n"
     ]
    }
   ],
   "source": [
    "# 사칙연산 결과를 데이터프레임으로 합치기 (시리즈 -> 데이터프레임)\n",
    "result = pd.DataFrame([addition, subtraction, multiplication, division], \n",
    "                      index=['덧셈', '뺄셈', '곱셈', '나눗셈'])\n",
    "print(result)"
   ]
  },
  {
   "cell_type": "code",
   "execution_count": null,
   "id": "70546aeb",
   "metadata": {},
   "outputs": [],
   "source": []
  },
  {
   "cell_type": "code",
   "execution_count": 278,
   "id": "43f8df22",
   "metadata": {},
   "outputs": [],
   "source": [
    "# 딕셔너리 데이터로 판다스 시리즈 만들기\n",
    "student3 = pd.Series({'국어':100, '영어':80, '수학':90, '국사':50})\n",
    "student4 = pd.Series({'국사':60,'수학':80, '국어':90, '영어':80})\n"
   ]
  },
  {
   "cell_type": "code",
   "execution_count": 279,
   "id": "c4477009",
   "metadata": {},
   "outputs": [
    {
     "name": "stdout",
     "output_type": "stream",
     "text": [
      "국어    100\n",
      "영어     80\n",
      "수학     90\n",
      "국사     50\n",
      "dtype: int64\n",
      "국사    60\n",
      "수학    80\n",
      "국어    90\n",
      "영어    80\n",
      "dtype: int64\n"
     ]
    }
   ],
   "source": [
    "print(student1)\n",
    "print(student2)\n"
   ]
  },
  {
   "cell_type": "markdown",
   "id": "6a17de96",
   "metadata": {},
   "source": [
    "#### No.2 "
   ]
  },
  {
   "cell_type": "code",
   "execution_count": 287,
   "id": "e3b383a4",
   "metadata": {},
   "outputs": [],
   "source": [
    "import pandas as pd\n",
    "import numpy as np\n",
    "\n",
    "# 딕셔너리 데이터로 판다스 시리즈 만들기\n",
    "# 인덱스가 한 쪽에만 있으면 결과는 NaN으로 처리 \n",
    "\n",
    "student1 = pd.Series({'국어':np.nan, '영어':80, '수학':90})\n",
    "student2 = pd.Series({'수학':80, '국어':90})"
   ]
  },
  {
   "cell_type": "code",
   "execution_count": 288,
   "id": "283f9259",
   "metadata": {},
   "outputs": [
    {
     "name": "stdout",
     "output_type": "stream",
     "text": [
      "국어     NaN\n",
      "영어    80.0\n",
      "수학    90.0\n",
      "dtype: float64\n",
      "\n",
      "\n",
      "수학    80\n",
      "국어    90\n",
      "dtype: int64\n",
      "\n",
      "\n"
     ]
    }
   ],
   "source": [
    "print(student1)\n",
    "print('\\n')\n",
    "print(student2)\n",
    "print('\\n')"
   ]
  },
  {
   "cell_type": "code",
   "execution_count": 289,
   "id": "2547d4c4",
   "metadata": {},
   "outputs": [
    {
     "name": "stdout",
     "output_type": "stream",
     "text": [
      "<class 'pandas.core.series.Series'>\n",
      "\n",
      "\n",
      "     국어        수학  영어\n",
      "덧셈  NaN   170.000 NaN\n",
      "뺄셈  NaN    10.000 NaN\n",
      "곱셈  NaN  7200.000 NaN\n",
      "나눗셈 NaN     1.125 NaN\n"
     ]
    }
   ],
   "source": [
    "addition = student1 + student2               #덧셈\n",
    "subtraction = student1 - student2            #뺄셈\n",
    "multiplication = student1 * student2         #곱셈\n",
    "division = student1 / student2               #나눗셈\n",
    "print(type(division))\n",
    "print('\\n')\n",
    "\n",
    "# 사칙연산 결과를 데이터프레임으로 합치기 (시리즈 -> 데이터프레임)\n",
    "result2 = pd.DataFrame([addition, subtraction, multiplication, division], \n",
    "                      index=['덧셈', '뺄셈', '곱셈', '나눗셈'])\n",
    "print(result2)"
   ]
  },
  {
   "cell_type": "markdown",
   "id": "39eaf955",
   "metadata": {},
   "source": [
    "### 03"
   ]
  },
  {
   "cell_type": "code",
   "execution_count": 290,
   "id": "0cc22fcf",
   "metadata": {},
   "outputs": [],
   "source": [
    "# 딕셔너리 데이터로 판다스 시리즈 만들기\n",
    "student1 = pd.Series({'국어':np.nan, '영어':80, '수학':90})\n",
    "student2 = pd.Series({'수학':80, '국어':90})"
   ]
  },
  {
   "cell_type": "markdown",
   "id": "ebb3446e",
   "metadata": {},
   "source": [
    "### 25.df_to_number.py"
   ]
  },
  {
   "cell_type": "markdown",
   "id": "bac54f4d",
   "metadata": {},
   "source": [
    "#### seaborn 설치"
   ]
  },
  {
   "cell_type": "code",
   "execution_count": 291,
   "id": "da0ed5cf",
   "metadata": {},
   "outputs": [],
   "source": [
    "import seaborn as sns"
   ]
  },
  {
   "cell_type": "code",
   "execution_count": 300,
   "id": "51c99a64",
   "metadata": {},
   "outputs": [
    {
     "name": "stdout",
     "output_type": "stream",
     "text": [
      "    age     fare\n",
      "0  22.0   7.2500\n",
      "1  38.0  71.2833\n",
      "2  26.0   7.9250\n",
      "3  35.0  53.1000\n",
      "4  35.0   8.0500\n",
      "\n",
      "\n",
      "<class 'pandas.core.frame.DataFrame'>\n",
      "\n",
      "\n"
     ]
    }
   ],
   "source": [
    "# titanic 데이터셋에서 age, fare 2개 열을 선택하여 데이터프레임 만들기\n",
    "titanic = sns.load_dataset('titanic')\n",
    "df = titanic.loc[:, ['age','fare']]\n",
    "print(df.head())   #첫 5행만 표시\n",
    "print('\\n')\n",
    "print(type(df))\n",
    "print('\\n')\n"
   ]
  },
  {
   "cell_type": "code",
   "execution_count": 311,
   "id": "e063c204",
   "metadata": {},
   "outputs": [
    {
     "name": "stdout",
     "output_type": "stream",
     "text": [
      "    age     fare\n",
      "0  32.0  17.2500\n",
      "1  48.0  81.2833\n",
      "2  36.0  17.9250\n",
      "3  45.0  63.1000\n",
      "4  45.0  18.0500\n",
      "\n",
      "\n",
      "<class 'pandas.core.frame.DataFrame'>\n"
     ]
    }
   ],
   "source": [
    "# 데이터프레임에 숫자 10 더하기\n",
    "addition = df + 10\n",
    "print(addition.head())   #첫 5행만 표시\n",
    "print('\\n')\n",
    "print(type(addition))"
   ]
  },
  {
   "cell_type": "code",
   "execution_count": 314,
   "id": "3c92c0fb",
   "metadata": {},
   "outputs": [
    {
     "name": "stdout",
     "output_type": "stream",
     "text": [
      "    age  fare\n",
      "0  10.0  10.0\n",
      "1  10.0  10.0\n",
      "2  10.0  10.0\n",
      "3  10.0  10.0\n",
      "4  10.0  10.0\n",
      "\n",
      "\n",
      "<class 'pandas.core.frame.DataFrame'>\n"
     ]
    }
   ],
   "source": [
    "# 데이터프레임에 숫자 10 더하기\n",
    "subtraction = addition - df\n",
    "print(subtraction.head())   #마지막 5행만 표시\n",
    "print('\\n')\n",
    "print(type(subtraction))"
   ]
  },
  {
   "cell_type": "code",
   "execution_count": 316,
   "id": "a0e4ce2f",
   "metadata": {},
   "outputs": [
    {
     "name": "stdout",
     "output_type": "stream",
     "text": [
      "      age  fare\n",
      "881  10.0  10.0\n",
      "882  10.0  10.0\n",
      "883  10.0  10.0\n",
      "884  10.0  10.0\n",
      "885  10.0  10.0\n",
      "886  10.0  10.0\n",
      "887  10.0  10.0\n",
      "888   NaN  10.0\n",
      "889  10.0  10.0\n",
      "890  10.0  10.0\n",
      "\n",
      "\n",
      "<class 'pandas.core.frame.DataFrame'>\n"
     ]
    }
   ],
   "source": [
    "print(subtraction.tail(n=10))   #마지막 10행만 표시\n",
    "print('\\n')\n",
    "print(type(addition))"
   ]
  },
  {
   "cell_type": "code",
   "execution_count": null,
   "id": "f3cf7009",
   "metadata": {},
   "outputs": [],
   "source": []
  },
  {
   "cell_type": "code",
   "execution_count": null,
   "id": "427c08f2",
   "metadata": {},
   "outputs": [],
   "source": []
  }
 ],
 "metadata": {
  "kernelspec": {
   "display_name": "Python 3 (ipykernel)",
   "language": "python",
   "name": "python3"
  },
  "language_info": {
   "codemirror_mode": {
    "name": "ipython",
    "version": 3
   },
   "file_extension": ".py",
   "mimetype": "text/x-python",
   "name": "python",
   "nbconvert_exporter": "python",
   "pygments_lexer": "ipython3",
   "version": "3.10.12"
  }
 },
 "nbformat": 4,
 "nbformat_minor": 5
}
