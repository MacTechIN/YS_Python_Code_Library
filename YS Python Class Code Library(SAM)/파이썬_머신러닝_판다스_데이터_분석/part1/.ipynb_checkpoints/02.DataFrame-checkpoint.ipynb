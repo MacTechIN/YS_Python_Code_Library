{
 "cells": [
  {
   "cell_type": "markdown",
   "id": "b5b2ebc2",
   "metadata": {},
   "source": [
    "### 2. Data Frame"
   ]
  },
  {
   "cell_type": "code",
   "execution_count": 7,
   "id": "4e018ae8",
   "metadata": {},
   "outputs": [],
   "source": [
    "import pandas as pd"
   ]
  },
  {
   "cell_type": "code",
   "execution_count": 8,
   "id": "6e110d9f",
   "metadata": {},
   "outputs": [],
   "source": [
    "\n",
    "exam_data = {'수학' : [ 90, 80, 70], '영어' : [ 98, 89, 95],\n",
    "             '음악' : [ 85, 95, 100], '체육' : [ 100, 90, 90]}"
   ]
  },
  {
   "cell_type": "code",
   "execution_count": 9,
   "id": "1a08f025",
   "metadata": {},
   "outputs": [
    {
     "name": "stdout",
     "output_type": "stream",
     "text": [
      "    수학  영어   음악   체육\n",
      "서준  90  98   85  100\n",
      "우현  80  89   95   90\n",
      "인아  70  95  100   90\n"
     ]
    }
   ],
   "source": [
    "df = pd.DataFrame(exam_data, index=['서준', '우현','인아'])\n",
    "print(df)"
   ]
  },
  {
   "cell_type": "code",
   "execution_count": 10,
   "id": "2edd849d",
   "metadata": {},
   "outputs": [],
   "source": [
    "df4 = df.copy()"
   ]
  },
  {
   "cell_type": "code",
   "execution_count": 17,
   "id": "dbe0f0ea",
   "metadata": {},
   "outputs": [
    {
     "name": "stdout",
     "output_type": "stream",
     "text": [
      "    영어   음악   체육\n",
      "서준  98   85  100\n",
      "우현  89   95   90\n",
      "인아  95  100   90\n"
     ]
    }
   ],
   "source": [
    "print(df4)"
   ]
  },
  {
   "cell_type": "code",
   "execution_count": 40,
   "id": "82d46bd6",
   "metadata": {},
   "outputs": [
    {
     "name": "stdout",
     "output_type": "stream",
     "text": [
      "    수학  영어   음악   체육\n",
      "서준  90  98   85  100\n",
      "우현  80  89   95   90\n",
      "인아  70  95  100   90\n",
      "\n",
      "\n"
     ]
    }
   ],
   "source": [
    "exam_data = {'수학' : [ 90, 80, 70], '영어' : [ 98, 89, 95],\n",
    "             '음악' : [ 85, 95, 100], '체육' : [ 100, 90, 90]}\n",
    "\n",
    "df = pd.DataFrame(exam_data, index=['서준', '우현', '인아'])\n",
    "print(df)\n",
    "print('\\n')"
   ]
  },
  {
   "cell_type": "code",
   "execution_count": 41,
   "id": "25073721",
   "metadata": {},
   "outputs": [],
   "source": [
    "#df4 = df[:]\n",
    "df4 = df.copy() "
   ]
  },
  {
   "cell_type": "code",
   "execution_count": 42,
   "id": "7df4e87f",
   "metadata": {},
   "outputs": [
    {
     "name": "stdout",
     "output_type": "stream",
     "text": [
      "    영어   음악   체육\n",
      "서준  98   85  100\n",
      "우현  89   95   90\n",
      "인아  95  100   90\n"
     ]
    }
   ],
   "source": [
    "df4.drop('수학', axis=1, inplace=True) \n",
    "print(df4)"
   ]
  },
  {
   "cell_type": "code",
   "execution_count": 43,
   "id": "ceb83141",
   "metadata": {},
   "outputs": [],
   "source": [
    "df5 = df.copy()\n"
   ]
  },
  {
   "cell_type": "code",
   "execution_count": 44,
   "id": "a454c56d",
   "metadata": {},
   "outputs": [],
   "source": [
    "df5.drop(['영어','수학'],axis=1,inplace=True)"
   ]
  },
  {
   "cell_type": "code",
   "execution_count": 45,
   "id": "f9afb1c5",
   "metadata": {},
   "outputs": [
    {
     "name": "stdout",
     "output_type": "stream",
     "text": [
      "     음악   체육\n",
      "서준   85  100\n",
      "우현   95   90\n",
      "인아  100   90\n"
     ]
    }
   ],
   "source": [
    "print(df5)"
   ]
  },
  {
   "cell_type": "markdown",
   "id": "28b41470",
   "metadata": {},
   "source": [
    "## 1.9 select_row copy "
   ]
  },
  {
   "cell_type": "code",
   "execution_count": 77,
   "id": "6986a1a6",
   "metadata": {},
   "outputs": [],
   "source": [
    "# DataFrame() 함수로 데이터프레임 변환. 변수 df에 저장 \n",
    "exam_data = {'수학' : [ 90, 80, 70], '영어' : [ 98, 89, 95],\n",
    "             '음악' : [ 85, 95, 100], '체육' : [ 100, 90, 90]}\n"
   ]
  },
  {
   "cell_type": "code",
   "execution_count": 78,
   "id": "4c9a451a",
   "metadata": {},
   "outputs": [
    {
     "name": "stdout",
     "output_type": "stream",
     "text": [
      "    수학  영어   음악   체육\n",
      "서준  90  98   85  100\n",
      "우현  80  89   95   90\n",
      "인아  70  95  100   90\n",
      "\n",
      "\n"
     ]
    }
   ],
   "source": [
    "df = pd.DataFrame(exam_data, index=['서준', '우현', '인아'])\n",
    "print(df)       # 데이터프레임 출력\n",
    "print('\\n')"
   ]
  },
  {
   "cell_type": "code",
   "execution_count": 79,
   "id": "a66a8964",
   "metadata": {},
   "outputs": [],
   "source": [
    "#DataFrame.loc(index) : 인덱스 탐색  \n",
    "#Dataframe.iloc(index): 숫자로 탐색 \n",
    "label1 = df.loc['서준']\n",
    "label2 = df.iloc[0]"
   ]
  },
  {
   "cell_type": "code",
   "execution_count": 80,
   "id": "c5d7bac5",
   "metadata": {},
   "outputs": [
    {
     "name": "stdout",
     "output_type": "stream",
     "text": [
      "수학     90\n",
      "영어     98\n",
      "음악     85\n",
      "체육    100\n",
      "Name: 서준, dtype: int64\n"
     ]
    }
   ],
   "source": [
    "print(label1)"
   ]
  },
  {
   "cell_type": "code",
   "execution_count": 53,
   "id": "fc7f658f",
   "metadata": {},
   "outputs": [
    {
     "name": "stdout",
     "output_type": "stream",
     "text": [
      "수학     90\n",
      "영어     98\n",
      "음악     85\n",
      "체육    100\n",
      "Name: 서준, dtype: int64\n"
     ]
    }
   ],
   "source": [
    "print(label2)"
   ]
  },
  {
   "cell_type": "code",
   "execution_count": 72,
   "id": "4cbdcded",
   "metadata": {
    "collapsed": true
   },
   "outputs": [
    {
     "ename": "KeyError",
     "evalue": "\"None of [Index(['서준', '우현'], dtype='object')] are in the [columns]\"",
     "output_type": "error",
     "traceback": [
      "\u001b[0;31m---------------------------------------------------------------------------\u001b[0m",
      "\u001b[0;31mKeyError\u001b[0m                                  Traceback (most recent call last)",
      "Cell \u001b[0;32mIn[72], line 2\u001b[0m\n\u001b[1;32m      1\u001b[0m \u001b[38;5;66;03m##두개를 꺼내올때 \u001b[39;00m\n\u001b[0;32m----> 2\u001b[0m label3 \u001b[38;5;241m=\u001b[39m \u001b[43mdf\u001b[49m\u001b[43m[\u001b[49m\u001b[43m[\u001b[49m\u001b[38;5;124;43m'\u001b[39;49m\u001b[38;5;124;43m서준\u001b[39;49m\u001b[38;5;124;43m'\u001b[39;49m\u001b[43m,\u001b[49m\u001b[38;5;124;43m'\u001b[39;49m\u001b[38;5;124;43m우현\u001b[39;49m\u001b[38;5;124;43m'\u001b[39;49m\u001b[43m]\u001b[49m\u001b[43m]\u001b[49m\n",
      "File \u001b[0;32m~/anaconda3/envs/PythonBasic/lib/python3.10/site-packages/pandas/core/frame.py:3902\u001b[0m, in \u001b[0;36mDataFrame.__getitem__\u001b[0;34m(self, key)\u001b[0m\n\u001b[1;32m   3900\u001b[0m     \u001b[38;5;28;01mif\u001b[39;00m is_iterator(key):\n\u001b[1;32m   3901\u001b[0m         key \u001b[38;5;241m=\u001b[39m \u001b[38;5;28mlist\u001b[39m(key)\n\u001b[0;32m-> 3902\u001b[0m     indexer \u001b[38;5;241m=\u001b[39m \u001b[38;5;28;43mself\u001b[39;49m\u001b[38;5;241;43m.\u001b[39;49m\u001b[43mcolumns\u001b[49m\u001b[38;5;241;43m.\u001b[39;49m\u001b[43m_get_indexer_strict\u001b[49m\u001b[43m(\u001b[49m\u001b[43mkey\u001b[49m\u001b[43m,\u001b[49m\u001b[43m \u001b[49m\u001b[38;5;124;43m\"\u001b[39;49m\u001b[38;5;124;43mcolumns\u001b[39;49m\u001b[38;5;124;43m\"\u001b[39;49m\u001b[43m)\u001b[49m[\u001b[38;5;241m1\u001b[39m]\n\u001b[1;32m   3904\u001b[0m \u001b[38;5;66;03m# take() does not accept boolean indexers\u001b[39;00m\n\u001b[1;32m   3905\u001b[0m \u001b[38;5;28;01mif\u001b[39;00m \u001b[38;5;28mgetattr\u001b[39m(indexer, \u001b[38;5;124m\"\u001b[39m\u001b[38;5;124mdtype\u001b[39m\u001b[38;5;124m\"\u001b[39m, \u001b[38;5;28;01mNone\u001b[39;00m) \u001b[38;5;241m==\u001b[39m \u001b[38;5;28mbool\u001b[39m:\n",
      "File \u001b[0;32m~/anaconda3/envs/PythonBasic/lib/python3.10/site-packages/pandas/core/indexes/base.py:6114\u001b[0m, in \u001b[0;36mIndex._get_indexer_strict\u001b[0;34m(self, key, axis_name)\u001b[0m\n\u001b[1;32m   6111\u001b[0m \u001b[38;5;28;01melse\u001b[39;00m:\n\u001b[1;32m   6112\u001b[0m     keyarr, indexer, new_indexer \u001b[38;5;241m=\u001b[39m \u001b[38;5;28mself\u001b[39m\u001b[38;5;241m.\u001b[39m_reindex_non_unique(keyarr)\n\u001b[0;32m-> 6114\u001b[0m \u001b[38;5;28;43mself\u001b[39;49m\u001b[38;5;241;43m.\u001b[39;49m\u001b[43m_raise_if_missing\u001b[49m\u001b[43m(\u001b[49m\u001b[43mkeyarr\u001b[49m\u001b[43m,\u001b[49m\u001b[43m \u001b[49m\u001b[43mindexer\u001b[49m\u001b[43m,\u001b[49m\u001b[43m \u001b[49m\u001b[43maxis_name\u001b[49m\u001b[43m)\u001b[49m\n\u001b[1;32m   6116\u001b[0m keyarr \u001b[38;5;241m=\u001b[39m \u001b[38;5;28mself\u001b[39m\u001b[38;5;241m.\u001b[39mtake(indexer)\n\u001b[1;32m   6117\u001b[0m \u001b[38;5;28;01mif\u001b[39;00m \u001b[38;5;28misinstance\u001b[39m(key, Index):\n\u001b[1;32m   6118\u001b[0m     \u001b[38;5;66;03m# GH 42790 - Preserve name from an Index\u001b[39;00m\n",
      "File \u001b[0;32m~/anaconda3/envs/PythonBasic/lib/python3.10/site-packages/pandas/core/indexes/base.py:6175\u001b[0m, in \u001b[0;36mIndex._raise_if_missing\u001b[0;34m(self, key, indexer, axis_name)\u001b[0m\n\u001b[1;32m   6173\u001b[0m     \u001b[38;5;28;01mif\u001b[39;00m use_interval_msg:\n\u001b[1;32m   6174\u001b[0m         key \u001b[38;5;241m=\u001b[39m \u001b[38;5;28mlist\u001b[39m(key)\n\u001b[0;32m-> 6175\u001b[0m     \u001b[38;5;28;01mraise\u001b[39;00m \u001b[38;5;167;01mKeyError\u001b[39;00m(\u001b[38;5;124mf\u001b[39m\u001b[38;5;124m\"\u001b[39m\u001b[38;5;124mNone of [\u001b[39m\u001b[38;5;132;01m{\u001b[39;00mkey\u001b[38;5;132;01m}\u001b[39;00m\u001b[38;5;124m] are in the [\u001b[39m\u001b[38;5;132;01m{\u001b[39;00maxis_name\u001b[38;5;132;01m}\u001b[39;00m\u001b[38;5;124m]\u001b[39m\u001b[38;5;124m\"\u001b[39m)\n\u001b[1;32m   6177\u001b[0m not_found \u001b[38;5;241m=\u001b[39m \u001b[38;5;28mlist\u001b[39m(ensure_index(key)[missing_mask\u001b[38;5;241m.\u001b[39mnonzero()[\u001b[38;5;241m0\u001b[39m]]\u001b[38;5;241m.\u001b[39munique())\n\u001b[1;32m   6178\u001b[0m \u001b[38;5;28;01mraise\u001b[39;00m \u001b[38;5;167;01mKeyError\u001b[39;00m(\u001b[38;5;124mf\u001b[39m\u001b[38;5;124m\"\u001b[39m\u001b[38;5;132;01m{\u001b[39;00mnot_found\u001b[38;5;132;01m}\u001b[39;00m\u001b[38;5;124m not in index\u001b[39m\u001b[38;5;124m\"\u001b[39m)\n",
      "\u001b[0;31mKeyError\u001b[0m: \"None of [Index(['서준', '우현'], dtype='object')] are in the [columns]\""
     ]
    }
   ],
   "source": [
    "##두개를 꺼내올때  직접 꺼내오면 에어남 \n",
    "label3 = df[['서준','우현']]"
   ]
  },
  {
   "cell_type": "code",
   "execution_count": 83,
   "id": "98fb9aff",
   "metadata": {},
   "outputs": [],
   "source": [
    "label3  = df.loc[['서준','우현']] #index 명으로 줄경우 뒤에 항목 포함"
   ]
  },
  {
   "cell_type": "code",
   "execution_count": 95,
   "id": "228890e7",
   "metadata": {},
   "outputs": [],
   "source": [
    "position3 = df.iloc[0:1] #index 숫자로 줄경우 뒤에 항목 불포함"
   ]
  },
  {
   "cell_type": "code",
   "execution_count": 96,
   "id": "f7de4591",
   "metadata": {},
   "outputs": [],
   "source": [
    "label4  = df.loc[['서준','인아']] "
   ]
  },
  {
   "cell_type": "code",
   "execution_count": 97,
   "id": "adab3dba",
   "metadata": {},
   "outputs": [
    {
     "name": "stdout",
     "output_type": "stream",
     "text": [
      "    수학  영어   음악   체육\n",
      "서준  90  98   85  100\n",
      "인아  70  95  100   90\n"
     ]
    }
   ],
   "source": [
    "print(label4)"
   ]
  },
  {
   "cell_type": "code",
   "execution_count": 98,
   "id": "b177c737",
   "metadata": {},
   "outputs": [],
   "source": [
    "position4 = df.iloc[[0,2]]"
   ]
  },
  {
   "cell_type": "code",
   "execution_count": 99,
   "id": "bfac374c",
   "metadata": {},
   "outputs": [
    {
     "name": "stdout",
     "output_type": "stream",
     "text": [
      "    수학  영어   음악   체육\n",
      "서준  90  98   85  100\n",
      "인아  70  95  100   90\n"
     ]
    }
   ],
   "source": [
    "print(position4)"
   ]
  },
  {
   "cell_type": "code",
   "execution_count": 105,
   "id": "1f4142a8",
   "metadata": {},
   "outputs": [],
   "source": [
    "# 인덱스를 임의대로 넣지 않을경우\n",
    "exam_data = {'수학' : [ 90, 80, 70], '영어' : [ 98, 89, 95],\n",
    "             '음악' : [ 85, 95, 100], '체육' : [ 100, 90, 90]}\n",
    "\n",
    "df2 = pd.DataFrame(exam_data)"
   ]
  },
  {
   "cell_type": "code",
   "execution_count": 108,
   "id": "4aff8f92",
   "metadata": {},
   "outputs": [
    {
     "name": "stdout",
     "output_type": "stream",
     "text": [
      "RangeIndex(start=0, stop=3, step=1)\n"
     ]
    }
   ],
   "source": [
    "print(df2.index)"
   ]
  },
  {
   "cell_type": "code",
   "execution_count": 109,
   "id": "e33d939d",
   "metadata": {},
   "outputs": [
    {
     "name": "stdout",
     "output_type": "stream",
     "text": [
      "   수학  영어   음악   체육\n",
      "0  90  98   85  100\n",
      "1  80  89   95   90\n",
      "2  70  95  100   90\n"
     ]
    }
   ],
   "source": [
    "#명시적으로 인덱스를 지정하지 않으면 숫자를 인덱스로 사용시, loc(), iloc()가 차이가 발생 \n",
    "print(df2)"
   ]
  },
  {
   "cell_type": "code",
   "execution_count": 116,
   "id": "1714f15d",
   "metadata": {},
   "outputs": [],
   "source": [
    "label3= df.loc[0:1]\n",
    "label4 = df.loc[1]"
   ]
  },
  {
   "cell_type": "code",
   "execution_count": 118,
   "id": "afcf9f9d",
   "metadata": {},
   "outputs": [
    {
     "name": "stdout",
     "output_type": "stream",
     "text": [
      "<class 'pandas.core.frame.DataFrame'>\n",
      "<class 'pandas.core.series.Series'>\n"
     ]
    }
   ],
   "source": [
    "print(type(label3))\n",
    "print(type(label4))"
   ]
  },
  {
   "cell_type": "markdown",
   "id": "1953304b",
   "metadata": {},
   "source": [
    "### 10.select_column.py"
   ]
  },
  {
   "cell_type": "code",
   "execution_count": 139,
   "id": "a15dc3f3",
   "metadata": {},
   "outputs": [
    {
     "name": "stdout",
     "output_type": "stream",
     "text": [
      "   이름  수학  영어   음악   체육\n",
      "0  서준  90  98   85  100\n",
      "1  우현  80  89   95   90\n",
      "2  인아  70  95  100   90\n",
      "<class 'pandas.core.frame.DataFrame'>\n",
      "  과학  수학  영어   음악   체육\n",
      "0  1  90  98   85  100\n",
      "1  3  80  89   95   90\n",
      "2  4  70  95  100   90\n",
      "<class 'pandas.core.frame.DataFrame'>\n"
     ]
    }
   ],
   "source": [
    "# 1개의 칼럼 선택되면 모든 행의 시리즈 객체 리턴 \n",
    "# DataFrame() 함수로 데이터프레임 변환. 변수 df에 저장 \n",
    "exam_data = {'이름' : [ '서준', '우현', '인아'],\n",
    "             '수학' : [ 90, 80, 70],\n",
    "             '영어' : [ 98, 89, 95],\n",
    "             '음악' : [ 85, 95, 100],\n",
    "             '체육' : [ 100, 90, 90]}\n",
    "\n",
    "exam_data2 = {'과학' : [ '1', '3', '4'],\n",
    "             '수학' : [ 90, 80, 70],\n",
    "             '영어' : [ 98, 89, 95],\n",
    "             '음악' : [ 85, 95, 100],\n",
    "             '체육' : [ 100, 90, 90]}\n",
    "df = pd.DataFrame(exam_data)\n",
    "df2 = pd.DataFrame(exam_data2)\n",
    "print(df)\n",
    "print(type(df))\n",
    "print(df2)\n",
    "print(type(df2))"
   ]
  },
  {
   "cell_type": "code",
   "execution_count": 136,
   "id": "c2d6e079",
   "metadata": {},
   "outputs": [
    {
     "name": "stdout",
     "output_type": "stream",
     "text": [
      "0    서준\n",
      "1    우현\n",
      "2    인아\n",
      "Name: 이름, dtype: object\n"
     ]
    }
   ],
   "source": [
    "name = df['이름']\n",
    "print(name)"
   ]
  },
  {
   "cell_type": "code",
   "execution_count": 135,
   "id": "95d39055",
   "metadata": {},
   "outputs": [
    {
     "name": "stdout",
     "output_type": "stream",
     "text": [
      "<class 'pandas.core.series.Series'>\n",
      "0    90\n",
      "1    80\n",
      "2    70\n",
      "Name: 수학, dtype: int64\n"
     ]
    }
   ],
   "source": [
    "math1 = df['수학']\n",
    "print(type(math1))\n",
    "print(math1)"
   ]
  },
  {
   "cell_type": "code",
   "execution_count": 137,
   "id": "59fe693f",
   "metadata": {},
   "outputs": [
    {
     "name": "stdout",
     "output_type": "stream",
     "text": [
      "0    90\n",
      "1    80\n",
      "2    70\n",
      "Name: 수학, dtype: int64\n"
     ]
    }
   ],
   "source": [
    "english = df.수학 \n",
    "print(english)"
   ]
  },
  {
   "cell_type": "code",
   "execution_count": 148,
   "id": "0b7cc39f",
   "metadata": {},
   "outputs": [],
   "source": [
    "#여러 컬럼을 선택할경우 : 리스트 자료혐 \n",
    "m_g = df[['음악','체육']]"
   ]
  },
  {
   "cell_type": "code",
   "execution_count": 149,
   "id": "41bdc3cb",
   "metadata": {},
   "outputs": [],
   "source": [
    "mg2 = df[['수학']]\n",
    "mg1 = df['수학']"
   ]
  },
  {
   "cell_type": "code",
   "execution_count": 152,
   "id": "d3565b47",
   "metadata": {},
   "outputs": [
    {
     "name": "stdout",
     "output_type": "stream",
     "text": [
      "<class 'pandas.core.frame.DataFrame'>\n",
      "<class 'pandas.core.frame.DataFrame'>\n",
      "<class 'pandas.core.series.Series'>\n"
     ]
    }
   ],
   "source": [
    "print(type(m_g))\n",
    "print(type(mg2))\n",
    "print(type(mg1)) # 타입이 다름"
   ]
  },
  {
   "cell_type": "markdown",
   "id": "18161211",
   "metadata": {},
   "source": [
    "## 11_select_element.py"
   ]
  },
  {
   "cell_type": "code",
   "execution_count": 155,
   "id": "c7226762",
   "metadata": {},
   "outputs": [
    {
     "name": "stdout",
     "output_type": "stream",
     "text": [
      "   이름  수학  영어   음악   체육\n",
      "0  서준  90  98   85  100\n",
      "1  우현  80  89   95   90\n",
      "2  인아  70  95  100   90\n"
     ]
    }
   ],
   "source": [
    "#원소 선택\n",
    "#loc[행 인덱스, 열이름(컬럼명)]\n",
    "#iloc[행 번호, 열번호(컬럼명)]\n",
    "#인덱스로 지정된 컬럼 명칭은 인덱스에 포함되지 않음. \n",
    "import pandas as pd\n",
    "\n",
    "# DataFrame() 함수로 데이터프레임 변환. 변수 df에 저장 \n",
    "exam_data = {'이름' : [ '서준', '우현', '인아'],\n",
    "             '수학' : [ 90, 80, 70],\n",
    "             '영어' : [ 98, 89, 95],\n",
    "             '음악' : [ 85, 95, 100],\n",
    "             '체육' : [ 100, 90, 90]}\n",
    "df = pd.DataFrame(exam_data)\n",
    "print(df)"
   ]
  },
  {
   "cell_type": "code",
   "execution_count": 156,
   "id": "75343817",
   "metadata": {},
   "outputs": [
    {
     "name": "stdout",
     "output_type": "stream",
     "text": [
      "    수학  영어   음악   체육\n",
      "이름                  \n",
      "서준  90  98   85  100\n",
      "우현  80  89   95   90\n",
      "인아  70  95  100   90\n"
     ]
    }
   ],
   "source": [
    "#이름을 인덱스로 지정하고, df 객체에 변경사항 반영\n",
    "df.set_index('이름', inplace=True)\n",
    "print(df) #인덱스가 바뀐 "
   ]
  },
  {
   "cell_type": "code",
   "execution_count": 171,
   "id": "34ac0179",
   "metadata": {},
   "outputs": [
    {
     "name": "stdout",
     "output_type": "stream",
     "text": [
      "    수학  영어   음악   체육\n",
      "이름                  \n",
      "서준  90  98   85  100\n",
      "우현  80  89   95   90\n",
      "인아  70  95  100   90\n"
     ]
    }
   ],
   "source": [
    "#print(df.loc['이름'])  이름은 인덱스로 지정되지 않음 \n",
    "\n",
    "df2 = df[:]\n",
    "print(df2)"
   ]
  },
  {
   "cell_type": "code",
   "execution_count": 172,
   "id": "b5afb121",
   "metadata": {},
   "outputs": [
    {
     "name": "stdout",
     "output_type": "stream",
     "text": [
      "85\n",
      "85\n",
      "\n",
      "\n"
     ]
    }
   ],
   "source": [
    "a = df.loc['서준', '음악']\n",
    "print(a)\n",
    "b = df.iloc[0, 2]\n",
    "print(b)\n",
    "print('\\n')"
   ]
  },
  {
   "cell_type": "code",
   "execution_count": 175,
   "id": "30b8d5ad",
   "metadata": {},
   "outputs": [
    {
     "name": "stdout",
     "output_type": "stream",
     "text": [
      "음악     85\n",
      "체육    100\n",
      "Name: 서준, dtype: int64\n",
      "<class 'pandas.core.series.Series'>\n"
     ]
    }
   ],
   "source": [
    "# 데이터프레임 df의 특정 원소 2개 이상 선택 ('서준'의 '음악', '체육' 점수) \n",
    "#리턴:Series,  컬럼이 인덱스, 인덱스가 칼럼 형태의 Series 로 리턴 \n",
    "c = df.loc['서준', ['음악','체육']]\n",
    "print(c)\n",
    "print(type(c))"
   ]
  },
  {
   "cell_type": "code",
   "execution_count": 178,
   "id": "f4ef360a",
   "metadata": {},
   "outputs": [
    {
     "name": "stdout",
     "output_type": "stream",
     "text": [
      "음악     85\n",
      "체육    100\n",
      "Name: 서준, dtype: int64\n",
      "<class 'pandas.core.series.Series'>\n"
     ]
    }
   ],
   "source": [
    "c = df.loc['서준', '음악':'체육']\n",
    "print(c)\n",
    "print(type(c))"
   ]
  },
  {
   "cell_type": "code",
   "execution_count": 182,
   "id": "8ac1b2db",
   "metadata": {},
   "outputs": [
    {
     "name": "stdout",
     "output_type": "stream",
     "text": [
      "음악     85\n",
      "체육    100\n",
      "Name: 서준, dtype: int64\n"
     ]
    }
   ],
   "source": [
    "f = df.iloc[0,2:]\n",
    "print(f)"
   ]
  },
  {
   "cell_type": "code",
   "execution_count": 183,
   "id": "b6063236",
   "metadata": {},
   "outputs": [],
   "source": [
    "# df의 2개 이상의 행과 열로부터 원소 선택 ('서준', '우현'의 '음악', '체육' 점수) \n",
    "g = df.loc[['서준','우현'],['음악','체육']]"
   ]
  },
  {
   "cell_type": "code",
   "execution_count": 185,
   "id": "b9d247b8",
   "metadata": {},
   "outputs": [
    {
     "name": "stdout",
     "output_type": "stream",
     "text": [
      "    음악   체육\n",
      "이름         \n",
      "서준  85  100\n",
      "우현  95   90\n",
      "<class 'pandas.core.frame.DataFrame'>\n"
     ]
    }
   ],
   "source": [
    "print(g)\n",
    "print(type(g))"
   ]
  },
  {
   "cell_type": "code",
   "execution_count": 187,
   "id": "7e6425ab",
   "metadata": {},
   "outputs": [
    {
     "name": "stdout",
     "output_type": "stream",
     "text": [
      "    음악   체육\n",
      "이름         \n",
      "서준  85  100\n",
      "우현  95   90\n"
     ]
    }
   ],
   "source": [
    "j = df.iloc[0:2, 2:] # 행(0,1), 열(2,3)\n",
    "print(j)"
   ]
  },
  {
   "cell_type": "code",
   "execution_count": null,
   "id": "b8b26c07",
   "metadata": {},
   "outputs": [],
   "source": []
  }
 ],
 "metadata": {
  "kernelspec": {
   "display_name": "Python 3 (ipykernel)",
   "language": "python",
   "name": "python3"
  },
  "language_info": {
   "codemirror_mode": {
    "name": "ipython",
    "version": 3
   },
   "file_extension": ".py",
   "mimetype": "text/x-python",
   "name": "python",
   "nbconvert_exporter": "python",
   "pygments_lexer": "ipython3",
   "version": "3.10.12"
  }
 },
 "nbformat": 4,
 "nbformat_minor": 5
}
