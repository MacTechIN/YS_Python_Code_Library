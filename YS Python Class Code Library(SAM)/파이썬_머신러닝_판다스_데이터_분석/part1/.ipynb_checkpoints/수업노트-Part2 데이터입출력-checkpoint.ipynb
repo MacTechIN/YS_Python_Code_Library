{
 "cells": [
  {
   "cell_type": "markdown",
   "id": "b464d099",
   "metadata": {},
   "source": [
    "# Part 2"
   ]
  },
  {
   "cell_type": "markdown",
   "id": "51d8f3f3",
   "metadata": {},
   "source": [
    "## 외부파일 다루기"
   ]
  },
  {
   "cell_type": "code",
   "execution_count": null,
   "id": "12d2759a",
   "metadata": {},
   "outputs": [],
   "source": []
  }
 ],
 "metadata": {
  "kernelspec": {
   "display_name": "Python 3 (ipykernel)",
   "language": "python",
   "name": "python3"
  },
  "language_info": {
   "codemirror_mode": {
    "name": "ipython",
    "version": 3
   },
   "file_extension": ".py",
   "mimetype": "text/x-python",
   "name": "python",
   "nbconvert_exporter": "python",
   "pygments_lexer": "ipython3",
   "version": "3.10.12"
  }
 },
 "nbformat": 4,
 "nbformat_minor": 5
}
