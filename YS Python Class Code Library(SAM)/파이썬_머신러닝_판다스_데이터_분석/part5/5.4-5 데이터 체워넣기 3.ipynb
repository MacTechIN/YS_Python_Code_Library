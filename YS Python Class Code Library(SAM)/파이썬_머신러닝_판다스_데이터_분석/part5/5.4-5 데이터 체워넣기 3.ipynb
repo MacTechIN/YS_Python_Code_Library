{
 "cells": [
  {
   "cell_type": "code",
   "execution_count": 38,
   "id": "07c15508",
   "metadata": {},
   "outputs": [],
   "source": [
    "# 라이브러리 불러오기\n",
    "import seaborn as sns\n",
    "\n",
    "# titanic 데이터셋 가져오기\n",
    "df = sns.load_dataset('titanic')"
   ]
  },
  {
   "cell_type": "code",
   "execution_count": 39,
   "id": "97b99512",
   "metadata": {},
   "outputs": [
    {
     "name": "stdout",
     "output_type": "stream",
     "text": [
      "0    Southampton\n",
      "1      Cherbourg\n",
      "2    Southampton\n",
      "3    Southampton\n",
      "4    Southampton\n",
      "5     Queenstown\n",
      "6    Southampton\n",
      "7    Southampton\n",
      "8    Southampton\n",
      "9      Cherbourg\n",
      "Name: embark_town, dtype: object\n"
     ]
    }
   ],
   "source": [
    "print(df['embark_town'].head(10))"
   ]
  },
  {
   "cell_type": "code",
   "execution_count": 41,
   "id": "385c93f9",
   "metadata": {},
   "outputs": [
    {
     "name": "stdout",
     "output_type": "stream",
     "text": [
      "Southampton\n",
      "nan\n",
      "Queenstown\n"
     ]
    }
   ],
   "source": [
    "#most_freq_city = df['embark_town'].value_counts(dropna=True).idxmax() # NaN 불포함 \n",
    "print (df['embark_town'].value_counts(dropna=True).idxmax()) #NaN: 포함\n",
    "\n",
    "print (df['embark_town'].value_counts(dropna=False).idxmin()) #NaN: 포함 NaN 출력 \n",
    "\n",
    "print (df['embark_town'].value_counts(dropna=True).idxmin()) #NaN: 불포함 가장작은 빈도 Queenstown 출력  "
   ]
  },
  {
   "cell_type": "code",
   "execution_count": 22,
   "id": "cbf26cfa",
   "metadata": {},
   "outputs": [
    {
     "name": "stdout",
     "output_type": "stream",
     "text": [
      "Southampton\n"
     ]
    }
   ],
   "source": [
    "print(most_freq_city)"
   ]
  },
  {
   "cell_type": "code",
   "execution_count": 23,
   "id": "e78b4c97",
   "metadata": {},
   "outputs": [],
   "source": [
    "df['embark_town'].fillna(most_freq_city, inplace=True) "
   ]
  },
  {
   "cell_type": "code",
   "execution_count": 24,
   "id": "c9b3fb93",
   "metadata": {},
   "outputs": [
    {
     "name": "stdout",
     "output_type": "stream",
     "text": [
      "820    Southampton\n",
      "821    Southampton\n",
      "822    Southampton\n",
      "823    Southampton\n",
      "824    Southampton\n",
      "825     Queenstown\n",
      "826    Southampton\n",
      "827      Cherbourg\n",
      "828     Queenstown\n",
      "829    Southampton\n",
      "Name: embark_town, dtype: object\n"
     ]
    }
   ],
   "source": [
    "print(df['embark_town'][820:830])"
   ]
  },
  {
   "cell_type": "code",
   "execution_count": null,
   "id": "eb7cad16",
   "metadata": {},
   "outputs": [],
   "source": []
  }
 ],
 "metadata": {
  "kernelspec": {
   "display_name": "Python 3 (ipykernel)",
   "language": "python",
   "name": "python3"
  },
  "language_info": {
   "codemirror_mode": {
    "name": "ipython",
    "version": 3
   },
   "file_extension": ".py",
   "mimetype": "text/x-python",
   "name": "python",
   "nbconvert_exporter": "python",
   "pygments_lexer": "ipython3",
   "version": "3.10.12"
  }
 },
 "nbformat": 4,
 "nbformat_minor": 5
}
