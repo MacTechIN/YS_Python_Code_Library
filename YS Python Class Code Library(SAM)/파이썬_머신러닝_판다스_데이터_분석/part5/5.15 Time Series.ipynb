{
 "cells": [
  {
   "cell_type": "code",
   "execution_count": 1,
   "id": "d4587bf3",
   "metadata": {},
   "outputs": [],
   "source": [
    "\n",
    "\n",
    "import pandas as pd"
   ]
  },
  {
   "cell_type": "code",
   "execution_count": 45,
   "id": "c07ecd62",
   "metadata": {},
   "outputs": [],
   "source": [
    "#dailyStockInfo = pd.read_csv('stock-data.csv')\n",
    "df = pd.read_csv('stock-data.csv')"
   ]
  },
  {
   "cell_type": "code",
   "execution_count": 46,
   "id": "5378e5dc",
   "metadata": {},
   "outputs": [
    {
     "name": "stdout",
     "output_type": "stream",
     "text": [
      "         Date  Close  Start   High    Low  Volume\n",
      "0  2018-07-02  10100  10850  10900  10000  137977\n",
      "1  2018-06-29  10700  10550  10900   9990  170253\n",
      "2  2018-06-28  10400  10900  10950  10150  155769\n",
      "3  2018-06-27  10900  10800  11050  10500  133548\n",
      "4  2018-06-26  10800  10900  11000  10700   63039\n"
     ]
    }
   ],
   "source": [
    "print(df.head())"
   ]
  },
  {
   "cell_type": "code",
   "execution_count": 4,
   "id": "5d25dbca",
   "metadata": {},
   "outputs": [
    {
     "name": "stdout",
     "output_type": "stream",
     "text": [
      "<class 'pandas.core.frame.DataFrame'>\n",
      "RangeIndex: 20 entries, 0 to 19\n",
      "Data columns (total 6 columns):\n",
      " #   Column  Non-Null Count  Dtype \n",
      "---  ------  --------------  ----- \n",
      " 0   Date    20 non-null     object\n",
      " 1   Close   20 non-null     int64 \n",
      " 2   Start   20 non-null     int64 \n",
      " 3   High    20 non-null     int64 \n",
      " 4   Low     20 non-null     int64 \n",
      " 5   Volume  20 non-null     int64 \n",
      "dtypes: int64(5), object(1)\n",
      "memory usage: 1.1+ KB\n"
     ]
    }
   ],
   "source": [
    "df.info()"
   ]
  },
  {
   "cell_type": "code",
   "execution_count": 38,
   "id": "45065ad0",
   "metadata": {},
   "outputs": [],
   "source": [
    "# 문자열 데이터(시리즈 객체)를 판다스 Timestamp로 변환\n",
    "# pd.to_datetime(df['Date'])\n",
    "\n",
    "df['new_Date'] = pd.to_datetime(df['Date'])"
   ]
  },
  {
   "cell_type": "code",
   "execution_count": 39,
   "id": "5b861bfa",
   "metadata": {},
   "outputs": [
    {
     "name": "stdout",
     "output_type": "stream",
     "text": [
      "        Date  Close  Start   High    Low  Volume   new_Date\n",
      "0 2018-07-02  10100  10850  10900  10000  137977 2018-07-02\n",
      "1 2018-06-29  10700  10550  10900   9990  170253 2018-06-29\n",
      "2 2018-06-28  10400  10900  10950  10150  155769 2018-06-28\n",
      "3 2018-06-27  10900  10800  11050  10500  133548 2018-06-27\n",
      "4 2018-06-26  10800  10900  11000  10700   63039 2018-06-26\n"
     ]
    }
   ],
   "source": [
    "print(df.head())"
   ]
  },
  {
   "cell_type": "code",
   "execution_count": 7,
   "id": "9a6a8974",
   "metadata": {},
   "outputs": [
    {
     "name": "stdout",
     "output_type": "stream",
     "text": [
      "<class 'pandas.core.frame.DataFrame'>\n",
      "RangeIndex: 20 entries, 0 to 19\n",
      "Data columns (total 7 columns):\n",
      " #   Column    Non-Null Count  Dtype         \n",
      "---  ------    --------------  -----         \n",
      " 0   Date      20 non-null     object        \n",
      " 1   Close     20 non-null     int64         \n",
      " 2   Start     20 non-null     int64         \n",
      " 3   High      20 non-null     int64         \n",
      " 4   Low       20 non-null     int64         \n",
      " 5   Volume    20 non-null     int64         \n",
      " 6   new_Date  20 non-null     datetime64[ns]\n",
      "dtypes: datetime64[ns](1), int64(5), object(1)\n",
      "memory usage: 1.2+ KB\n"
     ]
    }
   ],
   "source": [
    "df.info()"
   ]
  },
  {
   "cell_type": "code",
   "execution_count": 40,
   "id": "3126dc96",
   "metadata": {},
   "outputs": [
    {
     "name": "stdout",
     "output_type": "stream",
     "text": [
      "type :  <class 'pandas._libs.tslibs.timestamps.Timestamp'>\n"
     ]
    }
   ],
   "source": [
    "print('type : ', type(df['new_Date'][0])) #<class 'str'>"
   ]
  },
  {
   "cell_type": "code",
   "execution_count": 41,
   "id": "2965a5bc",
   "metadata": {},
   "outputs": [],
   "source": [
    "df.set_index('new_Date', inplace=True) "
   ]
  },
  {
   "cell_type": "code",
   "execution_count": 42,
   "id": "44ba0fbc",
   "metadata": {},
   "outputs": [],
   "source": [
    "df.drop('Date', axis=1, inplace=True)"
   ]
  },
  {
   "cell_type": "code",
   "execution_count": 43,
   "id": "091b0524",
   "metadata": {},
   "outputs": [
    {
     "name": "stdout",
     "output_type": "stream",
     "text": [
      "            Close  Start   High    Low  Volume\n",
      "new_Date                                      \n",
      "2018-07-02  10100  10850  10900  10000  137977\n",
      "2018-06-29  10700  10550  10900   9990  170253\n",
      "2018-06-28  10400  10900  10950  10150  155769\n",
      "2018-06-27  10900  10800  11050  10500  133548\n",
      "2018-06-26  10800  10900  11000  10700   63039\n"
     ]
    }
   ],
   "source": [
    "print(df.head()) #String 을 데이트 타입으로 바뀐것임. "
   ]
  },
  {
   "cell_type": "code",
   "execution_count": 47,
   "id": "ed12afd0",
   "metadata": {},
   "outputs": [],
   "source": [
    "#위에 방식을 한번에 바꿀수 있는 방법 (Line : 9,10)\n",
    "\n",
    "df['Date'] = pd.to_datetime(df['Date'])  #df에 새로운 열로 추가 "
   ]
  },
  {
   "cell_type": "code",
   "execution_count": 15,
   "id": "f402d3b5",
   "metadata": {},
   "outputs": [
    {
     "name": "stdout",
     "output_type": "stream",
     "text": [
      "        Date  Close  Start   High    Low  Volume\n",
      "0 2018-07-02  10100  10850  10900  10000  137977\n",
      "1 2018-06-29  10700  10550  10900   9990  170253\n",
      "2 2018-06-28  10400  10900  10950  10150  155769\n",
      "3 2018-06-27  10900  10800  11050  10500  133548\n",
      "4 2018-06-26  10800  10900  11000  10700   63039\n"
     ]
    }
   ],
   "source": [
    "print(df.head())"
   ]
  },
  {
   "cell_type": "markdown",
   "id": "649a743b",
   "metadata": {},
   "source": [
    "## 5.16 Timestamp "
   ]
  },
  {
   "cell_type": "code",
   "execution_count": 30,
   "id": "0d439447",
   "metadata": {},
   "outputs": [
    {
     "name": "stdout",
     "output_type": "stream",
     "text": [
      "<class 'str'>\n"
     ]
    }
   ],
   "source": [
    "# 날짜 형식의 문자열로 구성되는 리스트 정의\n",
    "dates = ['2019-01-01', '2020-03-01', '2021-06-01']\n",
    "\n",
    "print(type(dates[0]))"
   ]
  },
  {
   "cell_type": "code",
   "execution_count": 18,
   "id": "a7d9c1b3",
   "metadata": {},
   "outputs": [],
   "source": [
    "ts_dates = pd.to_datetime(dates)"
   ]
  },
  {
   "cell_type": "code",
   "execution_count": 19,
   "id": "6aa16a29",
   "metadata": {},
   "outputs": [
    {
     "name": "stdout",
     "output_type": "stream",
     "text": [
      "<class 'pandas.core.indexes.datetimes.DatetimeIndex'>\n"
     ]
    }
   ],
   "source": [
    "print(type(ts_dates))"
   ]
  },
  {
   "cell_type": "code",
   "execution_count": 31,
   "id": "1b420e85",
   "metadata": {},
   "outputs": [],
   "source": [
    "# Timestamp를 Period로 변환 "
   ]
  },
  {
   "cell_type": "code",
   "execution_count": 32,
   "id": "0e5a1b78",
   "metadata": {},
   "outputs": [],
   "source": [
    "pr_day = ts_dates.to_period(freq='D') #년-월-일"
   ]
  },
  {
   "cell_type": "code",
   "execution_count": 33,
   "id": "f042f162",
   "metadata": {},
   "outputs": [
    {
     "name": "stdout",
     "output_type": "stream",
     "text": [
      "PeriodIndex(['2019-01-01', '2020-03-01', '2021-06-01'], dtype='period[D]')\n"
     ]
    }
   ],
   "source": [
    "print(pr_day) # 시:분:초 없어짐"
   ]
  },
  {
   "cell_type": "code",
   "execution_count": 34,
   "id": "01998583",
   "metadata": {},
   "outputs": [],
   "source": [
    "pr_month = ts_dates.to_period(freq='M') #년-월"
   ]
  },
  {
   "cell_type": "code",
   "execution_count": 35,
   "id": "d04af30c",
   "metadata": {},
   "outputs": [
    {
     "name": "stdout",
     "output_type": "stream",
     "text": [
      "PeriodIndex(['2019-01', '2020-03', '2021-06'], dtype='period[M]')\n"
     ]
    }
   ],
   "source": [
    "print(pr_month)"
   ]
  },
  {
   "cell_type": "code",
   "execution_count": 36,
   "id": "554722b3",
   "metadata": {},
   "outputs": [],
   "source": [
    "pr_year = ts_dates.to_period(freq='A') # Anual 년도 "
   ]
  },
  {
   "cell_type": "code",
   "execution_count": 37,
   "id": "d143f476",
   "metadata": {},
   "outputs": [
    {
     "name": "stdout",
     "output_type": "stream",
     "text": [
      "PeriodIndex(['2019', '2020', '2021'], dtype='period[A-DEC]')\n"
     ]
    }
   ],
   "source": [
    "print(pr_year)"
   ]
  },
  {
   "cell_type": "markdown",
   "id": "e93c86bb",
   "metadata": {},
   "source": [
    "## Time stamp 만들기"
   ]
  },
  {
   "cell_type": "code",
   "execution_count": 48,
   "id": "551dabdb",
   "metadata": {},
   "outputs": [],
   "source": [
    "ts_ms = pd.date_range(start='2019-01-01',    # 날짜 범위의 시작\n",
    "                   end=None,                 # 날짜 범위의 끝\n",
    "                   periods=6,                # 생성할 Timestamp의 개수\n",
    "                   freq='MS',                # 시간 간격 (MS: 월의 시작일(01일))\n",
    "                   tz='Asia/Seoul')          # 시간대(timezone)"
   ]
  },
  {
   "cell_type": "code",
   "execution_count": 49,
   "id": "8c819aad",
   "metadata": {},
   "outputs": [
    {
     "name": "stdout",
     "output_type": "stream",
     "text": [
      "DatetimeIndex(['2019-01-01 00:00:00+09:00', '2019-02-01 00:00:00+09:00',\n",
      "               '2019-03-01 00:00:00+09:00', '2019-04-01 00:00:00+09:00',\n",
      "               '2019-05-01 00:00:00+09:00', '2019-06-01 00:00:00+09:00'],\n",
      "              dtype='datetime64[ns, Asia/Seoul]', freq='MS')\n"
     ]
    }
   ],
   "source": [
    "print(ts_ms)"
   ]
  },
  {
   "cell_type": "code",
   "execution_count": 50,
   "id": "05bad856",
   "metadata": {},
   "outputs": [],
   "source": [
    "# 월 간격, 월의 마지막 날 기준\n",
    "ts_me = pd.date_range(\n",
    "                start = '2019-01-01',\n",
    "                periods=6, \n",
    "                freq='M',              # 시간 간격 (M: 월의 마지막 날)\n",
    "                tz='Asia/Seoul')       # 시간대(timezone)"
   ]
  },
  {
   "cell_type": "code",
   "execution_count": 51,
   "id": "71fd8a61",
   "metadata": {},
   "outputs": [
    {
     "name": "stdout",
     "output_type": "stream",
     "text": [
      "DatetimeIndex(['2019-01-31 00:00:00+09:00', '2019-02-28 00:00:00+09:00',\n",
      "               '2019-03-31 00:00:00+09:00', '2019-04-30 00:00:00+09:00',\n",
      "               '2019-05-31 00:00:00+09:00', '2019-06-30 00:00:00+09:00'],\n",
      "              dtype='datetime64[ns, Asia/Seoul]', freq='M')\n"
     ]
    }
   ],
   "source": [
    "print(ts_me)"
   ]
  },
  {
   "cell_type": "code",
   "execution_count": 52,
   "id": "f0e2d417",
   "metadata": {},
   "outputs": [],
   "source": [
    "ts_3m = pd.date_range(\n",
    "                start = '2019-01-01',\n",
    "                periods=6, \n",
    "                freq='3M',             # 시간 간격 (3M: 3개월)\n",
    "                tz='Asia/Seoul')       # 시간대(timezone)"
   ]
  },
  {
   "cell_type": "code",
   "execution_count": 53,
   "id": "deadb095",
   "metadata": {},
   "outputs": [
    {
     "name": "stdout",
     "output_type": "stream",
     "text": [
      "DatetimeIndex(['2019-01-31 00:00:00+09:00', '2019-04-30 00:00:00+09:00',\n",
      "               '2019-07-31 00:00:00+09:00', '2019-10-31 00:00:00+09:00',\n",
      "               '2020-01-31 00:00:00+09:00', '2020-04-30 00:00:00+09:00'],\n",
      "              dtype='datetime64[ns, Asia/Seoul]', freq='3M')\n"
     ]
    }
   ],
   "source": [
    "print(ts_3m)"
   ]
  },
  {
   "cell_type": "code",
   "execution_count": 59,
   "id": "3ecaa26a",
   "metadata": {},
   "outputs": [],
   "source": [
    "#분기별\n",
    "ts_2023qs = pd.date_range(\n",
    "                start = '2023-01-01',periods=4, \n",
    "                freq='QS',             # 시간 간격 (3M: 3개월)\n",
    "                tz='Asia/Seoul') "
   ]
  },
  {
   "cell_type": "code",
   "execution_count": 60,
   "id": "da91d15a",
   "metadata": {},
   "outputs": [
    {
     "name": "stdout",
     "output_type": "stream",
     "text": [
      "DatetimeIndex(['2023-01-01 00:00:00+09:00', '2023-04-01 00:00:00+09:00',\n",
      "               '2023-07-01 00:00:00+09:00', '2023-10-01 00:00:00+09:00'],\n",
      "              dtype='datetime64[ns, Asia/Seoul]', freq='QS-JAN')\n"
     ]
    }
   ],
   "source": [
    "print(ts_2023qs)"
   ]
  },
  {
   "cell_type": "code",
   "execution_count": 62,
   "id": "a970909a",
   "metadata": {},
   "outputs": [],
   "source": [
    "# 분기초 : 3MS\n",
    "ts_3ms = pd.date_range(\n",
    "                start = '2023-01-01',periods=4, \n",
    "                freq='3MS',             # 시간 간격 (3M: 3개월)\n",
    "                tz='Asia/Seoul') "
   ]
  },
  {
   "cell_type": "code",
   "execution_count": 63,
   "id": "18970355",
   "metadata": {},
   "outputs": [
    {
     "name": "stdout",
     "output_type": "stream",
     "text": [
      "DatetimeIndex(['2023-01-01 00:00:00+09:00', '2023-04-01 00:00:00+09:00',\n",
      "               '2023-07-01 00:00:00+09:00', '2023-10-01 00:00:00+09:00'],\n",
      "              dtype='datetime64[ns, Asia/Seoul]', freq='3MS')\n"
     ]
    }
   ],
   "source": [
    "print(ts_3ms)"
   ]
  },
  {
   "cell_type": "code",
   "execution_count": 66,
   "id": "108d1b17",
   "metadata": {},
   "outputs": [],
   "source": [
    "#분기말(Q)의 날짜 표시 \n",
    "ts_qend = pd.date_range(\n",
    "                start = '2023-01-01',periods=4, \n",
    "                freq='Q',             # 시간 간격 (3M: 3개월)\n",
    "                tz='Asia/Seoul') "
   ]
  },
  {
   "cell_type": "code",
   "execution_count": 65,
   "id": "7d75dd3c",
   "metadata": {},
   "outputs": [
    {
     "name": "stdout",
     "output_type": "stream",
     "text": [
      "DatetimeIndex(['2023-03-31 00:00:00+09:00', '2023-06-30 00:00:00+09:00',\n",
      "               '2023-09-30 00:00:00+09:00', '2023-12-31 00:00:00+09:00'],\n",
      "              dtype='datetime64[ns, Asia/Seoul]', freq='Q-DEC')\n"
     ]
    }
   ],
   "source": [
    "print(ts_qend)"
   ]
  },
  {
   "cell_type": "markdown",
   "id": "0c38ec00",
   "metadata": {},
   "source": [
    "## pd.period_range"
   ]
  },
  {
   "cell_type": "code",
   "execution_count": 68,
   "id": "2481b1de",
   "metadata": {},
   "outputs": [],
   "source": [
    "pr_m = pd.period_range(\n",
    "        '2023-01-01',\n",
    "        end= None,\n",
    "        periods = 3,\n",
    "        freq = 'M'\n",
    ")"
   ]
  },
  {
   "cell_type": "code",
   "execution_count": 69,
   "id": "e348c9b5",
   "metadata": {},
   "outputs": [
    {
     "name": "stdout",
     "output_type": "stream",
     "text": [
      "PeriodIndex(['2023-01', '2023-02', '2023-03'], dtype='period[M]')\n"
     ]
    }
   ],
   "source": [
    "print(pr_m)"
   ]
  },
  {
   "cell_type": "code",
   "execution_count": 71,
   "id": "747345d8",
   "metadata": {},
   "outputs": [],
   "source": [
    "pr_h= pd.period_range(\n",
    "        '2023-01-01',\n",
    "        end= None,\n",
    "        periods = 3,\n",
    "        freq = 'H'\n",
    ")"
   ]
  },
  {
   "cell_type": "code",
   "execution_count": 72,
   "id": "0aa5d774",
   "metadata": {},
   "outputs": [
    {
     "name": "stdout",
     "output_type": "stream",
     "text": [
      "PeriodIndex(['2023-01-01 00:00', '2023-01-01 01:00', '2023-01-01 02:00'], dtype='period[H]')\n"
     ]
    }
   ],
   "source": [
    "print(pr_h)"
   ]
  },
  {
   "cell_type": "code",
   "execution_count": 75,
   "id": "4e582269",
   "metadata": {},
   "outputs": [],
   "source": [
    "pr_h2 = pd.period_range(\n",
    "        '2023-09-07 09:00:00',\n",
    "        end= None,\n",
    "        periods = 4,\n",
    "        freq = 'H' # 1시간당\n",
    ")"
   ]
  },
  {
   "cell_type": "code",
   "execution_count": 76,
   "id": "76341cf5",
   "metadata": {},
   "outputs": [
    {
     "name": "stdout",
     "output_type": "stream",
     "text": [
      "PeriodIndex(['2023-09-07 09:00', '2023-09-07 10:00', '2023-09-07 11:00',\n",
      "             '2023-09-07 12:00'],\n",
      "            dtype='period[H]')\n"
     ]
    }
   ],
   "source": [
    "print(pr_h2)"
   ]
  },
  {
   "cell_type": "code",
   "execution_count": 77,
   "id": "265e717c",
   "metadata": {},
   "outputs": [],
   "source": [
    "pr_2h = pd.period_range(\n",
    "        '2023-09-07 09:00:00',\n",
    "        end= None,\n",
    "        periods = 4,\n",
    "        freq = '2H' # 2시간당\n",
    ")"
   ]
  },
  {
   "cell_type": "code",
   "execution_count": 78,
   "id": "0be885e2",
   "metadata": {},
   "outputs": [
    {
     "name": "stdout",
     "output_type": "stream",
     "text": [
      "PeriodIndex(['2023-09-07 09:00', '2023-09-07 11:00', '2023-09-07 13:00',\n",
      "             '2023-09-07 15:00'],\n",
      "            dtype='period[2H]')\n"
     ]
    }
   ],
   "source": [
    "print(pr_2h)"
   ]
  },
  {
   "cell_type": "code",
   "execution_count": 85,
   "id": "7bf75ede",
   "metadata": {},
   "outputs": [
    {
     "name": "stdout",
     "output_type": "stream",
     "text": [
      "PeriodIndex(['2023-09-07 09:00', '2023-09-07 11:00', '2023-09-07 13:00',\n",
      "             '2023-09-07 15:00'],\n",
      "            dtype='period[2H]')\n"
     ]
    }
   ],
   "source": [
    "print (pr_2h) "
   ]
  },
  {
   "cell_type": "markdown",
   "id": "65000022",
   "metadata": {},
   "source": [
    "## 시계 Series Data Appliction"
   ]
  },
  {
   "cell_type": "code",
   "execution_count": 86,
   "id": "7c8d8b77",
   "metadata": {},
   "outputs": [
    {
     "name": "stdout",
     "output_type": "stream",
     "text": [
      "         Date  Close  Start   High    Low  Volume   new_Date\n",
      "0  2018-07-02  10100  10850  10900  10000  137977 2018-07-02\n",
      "1  2018-06-29  10700  10550  10900   9990  170253 2018-06-29\n",
      "2  2018-06-28  10400  10900  10950  10150  155769 2018-06-28\n",
      "3  2018-06-27  10900  10800  11050  10500  133548 2018-06-27\n",
      "4  2018-06-26  10800  10900  11000  10700   63039 2018-06-26\n",
      "\n",
      "\n"
     ]
    }
   ],
   "source": [
    "# read_csv() 함수로 파일 읽어와서 df로 변환\n",
    "df = pd.read_csv('stock-data.csv')\n",
    "\n",
    "# 문자열인 날짜 데이터를 판다스 Timestamp로 변환\n",
    "df['new_Date'] = pd.to_datetime(df['Date'])   #df에 새로운 열로 추가\n",
    "print(df.head())\n",
    "print('\\n')\n",
    "\n",
    "\n"
   ]
  },
  {
   "cell_type": "code",
   "execution_count": 87,
   "id": "44b3a0df",
   "metadata": {},
   "outputs": [
    {
     "name": "stdout",
     "output_type": "stream",
     "text": [
      "         Date  Close  Start   High    Low  Volume   new_Date  Year  Month  Day\n",
      "0  2018-07-02  10100  10850  10900  10000  137977 2018-07-02  2018      7    2\n",
      "1  2018-06-29  10700  10550  10900   9990  170253 2018-06-29  2018      6   29\n",
      "2  2018-06-28  10400  10900  10950  10150  155769 2018-06-28  2018      6   28\n",
      "3  2018-06-27  10900  10800  11050  10500  133548 2018-06-27  2018      6   27\n",
      "4  2018-06-26  10800  10900  11000  10700   63039 2018-06-26  2018      6   26\n",
      "\n",
      "\n"
     ]
    }
   ],
   "source": [
    "# new_Date를 연도 , 월, 일 별도 짤라서 따로 보관 \n",
    "df['Year'] = df['new_Date'].dt.year\n",
    "df['Month'] = df['new_Date'].dt.month\n",
    "df['Day'] = df['new_Date'].dt.day\n",
    "print(df.head())\n",
    "print('\\n')"
   ]
  },
  {
   "cell_type": "code",
   "execution_count": 88,
   "id": "f99d9ba7",
   "metadata": {},
   "outputs": [],
   "source": [
    "#dt 의 의미 \n",
    "#to_datetime으로 변환시키면 dt. 타입이 생성된다. \n",
    "new_Date_dt = df['new_Date'].dt"
   ]
  },
  {
   "cell_type": "code",
   "execution_count": 90,
   "id": "8557e552",
   "metadata": {},
   "outputs": [
    {
     "name": "stdout",
     "output_type": "stream",
     "text": [
      "<class 'pandas.core.indexes.accessors.DatetimeProperties'>\n"
     ]
    }
   ],
   "source": [
    "print(type(new_Date_dt)) #dt 를 통해서 데이트를 꺼내야함."
   ]
  },
  {
   "cell_type": "code",
   "execution_count": 91,
   "id": "fd65c5d2",
   "metadata": {},
   "outputs": [
    {
     "name": "stdout",
     "output_type": "stream",
     "text": [
      "<pandas.core.indexes.accessors.DatetimeProperties object at 0x14c20f3a0>\n"
     ]
    }
   ],
   "source": [
    "print(new_Date_dt) "
   ]
  },
  {
   "cell_type": "code",
   "execution_count": 96,
   "id": "7121f225",
   "metadata": {},
   "outputs": [
    {
     "name": "stdout",
     "output_type": "stream",
     "text": [
      "0     2018-07-02\n",
      "1     2018-06-29\n",
      "2     2018-06-28\n",
      "3     2018-06-27\n",
      "4     2018-06-26\n",
      "5     2018-06-25\n",
      "6     2018-06-22\n",
      "7     2018-06-21\n",
      "8     2018-06-20\n",
      "9     2018-06-19\n",
      "10    2018-06-18\n",
      "11    2018-06-15\n",
      "12    2018-06-14\n",
      "13    2018-06-12\n",
      "14    2018-06-11\n",
      "15    2018-06-08\n",
      "16    2018-06-07\n",
      "17    2018-06-05\n",
      "18    2018-06-04\n",
      "19    2018-06-01\n",
      "Name: new_Date, dtype: object\n",
      "<class 'pandas.core.series.Series'>\n"
     ]
    }
   ],
   "source": [
    "print(new_Date_dt.date) #type : <class 'pandas.core.series.Series'>\n",
    "print(type(new_Date_dt.date)) "
   ]
  },
  {
   "cell_type": "code",
   "execution_count": 97,
   "id": "37d53751",
   "metadata": {},
   "outputs": [
    {
     "name": "stdout",
     "output_type": "stream",
     "text": [
      "         Date  Close  Start   High    Low  Volume   new_Date  Year  Month  \\\n",
      "0  2018-07-02  10100  10850  10900  10000  137977 2018-07-02  2018      7   \n",
      "1  2018-06-29  10700  10550  10900   9990  170253 2018-06-29  2018      6   \n",
      "2  2018-06-28  10400  10900  10950  10150  155769 2018-06-28  2018      6   \n",
      "3  2018-06-27  10900  10800  11050  10500  133548 2018-06-27  2018      6   \n",
      "4  2018-06-26  10800  10900  11000  10700   63039 2018-06-26  2018      6   \n",
      "\n",
      "   Day Date_yr   Date_m  \n",
      "0    2    2018  2018-07  \n",
      "1   29    2018  2018-06  \n",
      "2   28    2018  2018-06  \n",
      "3   27    2018  2018-06  \n",
      "4   26    2018  2018-06  \n",
      "\n",
      "\n"
     ]
    }
   ],
   "source": [
    "# Timestamp를 Period로 변환하여 년월일 표기 변경하기\n",
    "df['Date_yr'] = df['new_Date'].dt.to_period(freq='A')\n",
    "df['Date_m'] = df['new_Date'].dt.to_period(freq='M')\n",
    "print(df.head())\n",
    "print('\\n')"
   ]
  },
  {
   "cell_type": "code",
   "execution_count": 98,
   "id": "922bb2fa",
   "metadata": {},
   "outputs": [
    {
     "name": "stdout",
     "output_type": "stream",
     "text": [
      "               Date  Close  Start   High    Low  Volume   new_Date  Year  \\\n",
      "Date_m                                                                     \n",
      "2018-07  2018-07-02  10100  10850  10900  10000  137977 2018-07-02  2018   \n",
      "2018-06  2018-06-29  10700  10550  10900   9990  170253 2018-06-29  2018   \n",
      "2018-06  2018-06-28  10400  10900  10950  10150  155769 2018-06-28  2018   \n",
      "2018-06  2018-06-27  10900  10800  11050  10500  133548 2018-06-27  2018   \n",
      "2018-06  2018-06-26  10800  10900  11000  10700   63039 2018-06-26  2018   \n",
      "\n",
      "         Month  Day Date_yr  \n",
      "Date_m                       \n",
      "2018-07      7    2    2018  \n",
      "2018-06      6   29    2018  \n",
      "2018-06      6   28    2018  \n",
      "2018-06      6   27    2018  \n",
      "2018-06      6   26    2018  \n"
     ]
    }
   ],
   "source": [
    "# 원하는 열을 새로운 행 인덱스로 지정\n",
    "df.set_index('Date_m', inplace=True)\n",
    "print(df.head())"
   ]
  },
  {
   "cell_type": "markdown",
   "id": "db44f32b",
   "metadata": {},
   "source": [
    "### 5-20 날짜 인덱스 활용"
   ]
  },
  {
   "cell_type": "code",
   "execution_count": 115,
   "id": "63940167",
   "metadata": {},
   "outputs": [
    {
     "name": "stdout",
     "output_type": "stream",
     "text": [
      "                  Date  Close  Start   High    Low  Volume\n",
      "new_Date                                                  \n",
      "2018-07-02  2018-07-02  10100  10850  10900  10000  137977\n",
      "2018-06-29  2018-06-29  10700  10550  10900   9990  170253\n",
      "2018-06-28  2018-06-28  10400  10900  10950  10150  155769\n",
      "2018-06-27  2018-06-27  10900  10800  11050  10500  133548\n",
      "2018-06-26  2018-06-26  10800  10900  11000  10700   63039\n",
      "\n",
      "\n",
      "DatetimeIndex(['2018-07-02', '2018-06-29', '2018-06-28', '2018-06-27',\n",
      "               '2018-06-26', '2018-06-25', '2018-06-22', '2018-06-21',\n",
      "               '2018-06-20', '2018-06-19', '2018-06-18', '2018-06-15',\n",
      "               '2018-06-14', '2018-06-12', '2018-06-11', '2018-06-08',\n",
      "               '2018-06-07', '2018-06-05', '2018-06-04', '2018-06-01'],\n",
      "              dtype='datetime64[ns]', name='new_Date', freq=None)\n",
      "\n",
      "\n"
     ]
    }
   ],
   "source": [
    "# read_csv() 함수로 파일 읽어와서 df로 변환\n",
    "df = pd.read_csv('stock-data.csv')\n",
    "\n"
   ]
  },
  {
   "cell_type": "code",
   "execution_count": null,
   "id": "39e08dd5",
   "metadata": {},
   "outputs": [],
   "source": [
    "# 문자열인 날짜 데이터를 판다스 Timestamp로 변환\n",
    "df['new_Date'] = pd.to_datetime(df['Date'])   # 새로운 열에 추가\n",
    "df.set_index('new_Date', inplace=True)        # 행 인덱스로 지정\n",
    "\n",
    "print(df.head())\n",
    "print('\\n')\n",
    "print(df.index)\n",
    "print('\\n')"
   ]
  },
  {
   "cell_type": "code",
   "execution_count": null,
   "id": "18267640",
   "metadata": {},
   "outputs": [],
   "source": [
    "## 책에 오류 수정 \n",
    "\n",
    "#내림차순\n",
    "\n",
    "\n"
   ]
  },
  {
   "cell_type": "code",
   "execution_count": 103,
   "id": "a1c98e71",
   "metadata": {},
   "outputs": [
    {
     "name": "stdout",
     "output_type": "stream",
     "text": [
      "Date      20\n",
      "Close     20\n",
      "Start     20\n",
      "High      20\n",
      "Low       20\n",
      "Volume    20\n",
      "dtype: int64\n",
      "\n",
      "\n"
     ]
    }
   ],
   "source": [
    "# 날짜 인덱스를 이용하여 데이터 선택하기\n",
    "# 교재가 잘못됨. df_y = df['2018']\n",
    "df_y = df.loc['2018']\n",
    "print(df_y.count())\n",
    "print('\\n')\n"
   ]
  },
  {
   "cell_type": "code",
   "execution_count": 104,
   "id": "4c0b8cdf",
   "metadata": {},
   "outputs": [
    {
     "name": "stdout",
     "output_type": "stream",
     "text": [
      "                  Date  Close  Start   High    Low  Volume\n",
      "new_Date                                                  \n",
      "2018-07-02  2018-07-02  10100  10850  10900  10000  137977\n",
      "\n",
      "\n"
     ]
    }
   ],
   "source": [
    "df_ym = df.loc['2018-07']    # loc 인덱서 활용\n",
    "print(df_ym)\n",
    "print('\\n')"
   ]
  },
  {
   "cell_type": "code",
   "execution_count": 106,
   "id": "99af74b6",
   "metadata": {},
   "outputs": [
    {
     "name": "stdout",
     "output_type": "stream",
     "text": [
      "            Start   High\n",
      "new_Date                \n",
      "2018-07-02  10850  10900\n",
      "\n",
      "\n"
     ]
    }
   ],
   "source": [
    " df_ym_cols = df.loc['2018-07', 'Start':'High']    # 열 범위 슬라이싱\n",
    "print(df_ym_cols)\n",
    "print('\\n')\n"
   ]
  },
  {
   "cell_type": "code",
   "execution_count": 108,
   "id": "3f8f8d35",
   "metadata": {},
   "outputs": [
    {
     "name": "stdout",
     "output_type": "stream",
     "text": [
      "Date      2018-07-02\n",
      "Close          10100\n",
      "Start          10850\n",
      "High           10900\n",
      "Low            10000\n",
      "Volume        137977\n",
      "Name: 2018-07-02 00:00:00, dtype: object\n"
     ]
    }
   ],
   "source": [
    "df_ymd = df.loc['2018-07-02']\n",
    "print(df_ymd)"
   ]
  },
  {
   "cell_type": "code",
   "execution_count": 116,
   "id": "e8476218",
   "metadata": {},
   "outputs": [
    {
     "name": "stdout",
     "output_type": "stream",
     "text": [
      "\n",
      "\n",
      "2018-06-05 00:00:00 2018-06-29 00:00:00\n",
      "Empty DataFrame\n",
      "Columns: [Date, Close, Start, High, Low, Volume]\n",
      "Index: []\n"
     ]
    }
   ],
   "source": [
    "# 오류 \n",
    "print('\\n')\n",
    "#df_ymd_range = df['2018-06-25':'2018-06-20']    # 날짜 범위 지정\n",
    "#print(df_ymd_range)\n",
    "#print('\\n')\n",
    "\n",
    "df_y1 = pd.to_datetime('2018-06-05')\n",
    "df_y2 = pd.to_datetime('2018-06-29')\n",
    "\n",
    "print(df_y1,df_y2)\n",
    "\n",
    "df_yy = df.loc[df_y1:df_y2]\n",
    "print(df_yy)\n"
   ]
  },
  {
   "cell_type": "code",
   "execution_count": 110,
   "id": "8f188d97",
   "metadata": {},
   "outputs": [
    {
     "name": "stdout",
     "output_type": "stream",
     "text": [
      "                  Date  Close  Start   High    Low  Volume\n",
      "time_delta                                                \n",
      "180 days    2018-06-28  10400  10900  10950  10150  155769\n",
      "181 days    2018-06-27  10900  10800  11050  10500  133548\n",
      "182 days    2018-06-26  10800  10900  11000  10700   63039\n",
      "183 days    2018-06-25  11150  11400  11450  11000   55519\n",
      "186 days    2018-06-22  11300  11250  11450  10750  134805\n",
      "187 days    2018-06-21  11200  11350  11750  11200  133002\n",
      "188 days    2018-06-20  11550  11200  11600  10900  308596\n",
      "189 days    2018-06-19  11300  11850  11950  11300  180656\n"
     ]
    }
   ],
   "source": [
    "# 시간 간격 계산. 최근 180일 ~ 189일 사이의 값들만 선택하기\n",
    "today = pd.to_datetime('2018-12-25')            # 기준일 생성\n",
    "df['time_delta'] = today - df.index             # 날짜 차이 계산\n",
    "df.set_index('time_delta', inplace=True)        # 행 인덱스로 지정\n",
    "df_180 = df['180 days':'189 days']\n",
    "print(df_180)"
   ]
  },
  {
   "cell_type": "code",
   "execution_count": null,
   "id": "96beab1f",
   "metadata": {},
   "outputs": [],
   "source": []
  }
 ],
 "metadata": {
  "kernelspec": {
   "display_name": "Python 3 (ipykernel)",
   "language": "python",
   "name": "python3"
  },
  "language_info": {
   "codemirror_mode": {
    "name": "ipython",
    "version": 3
   },
   "file_extension": ".py",
   "mimetype": "text/x-python",
   "name": "python",
   "nbconvert_exporter": "python",
   "pygments_lexer": "ipython3",
   "version": "3.10.12"
  }
 },
 "nbformat": 4,
 "nbformat_minor": 5
}
