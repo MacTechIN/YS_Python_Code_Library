{
 "cells": [
  {
   "cell_type": "code",
   "execution_count": 1,
   "id": "6823253c",
   "metadata": {},
   "outputs": [],
   "source": [
    "# 라이브러리 불러오기\n",
    "import pandas as pd\n",
    "\n",
    "# 파일경로를 찾고, 변수 file_path에 저장\n",
    "file_path = './read_csv_sample.csv'\n",
    "\n",
    "df1 = pd.read_csv(file_path)"
   ]
  },
  {
   "cell_type": "code",
   "execution_count": 2,
   "id": "f47786fa",
   "metadata": {},
   "outputs": [
    {
     "name": "stdout",
     "output_type": "stream",
     "text": [
      "   c0  c1  c2  c3\n",
      "0   0   1   4   7\n",
      "1   1   2   5   8\n",
      "2   2   3   6   9\n"
     ]
    }
   ],
   "source": [
    "print(df1)"
   ]
  },
  {
   "cell_type": "code",
   "execution_count": 3,
   "id": "7274847e",
   "metadata": {},
   "outputs": [
    {
     "name": "stdout",
     "output_type": "stream",
     "text": [
      "    0   1   2   3\n",
      "0  c0  c1  c2  c3\n",
      "1   0   1   4   7\n",
      "2   1   2   5   8\n",
      "3   2   3   6   9\n",
      "\n",
      "\n"
     ]
    }
   ],
   "source": [
    "# read_csv() 함수로 데이터프레임 변환. 변수 df2에 저장. header=None 옵션\n",
    "df2 = pd.read_csv(file_path, header=None) \n",
    "print(df2)\n",
    "print('\\n')"
   ]
  },
  {
   "cell_type": "markdown",
   "id": "f31934c1",
   "metadata": {},
   "source": [
    "### 01 \n",
    "  0   1   2   3\n",
    "0  c0  c1  c2  c3\n",
    "1   0   1   4   7\n",
    "2   1   2   5   8\n",
    "3   2   3   6   9"
   ]
  },
  {
   "cell_type": "code",
   "execution_count": 14,
   "id": "b2ccdc9f",
   "metadata": {},
   "outputs": [],
   "source": [
    "file_path2 = './read_csv_sample-1.csv'"
   ]
  },
  {
   "cell_type": "code",
   "execution_count": 15,
   "id": "71c6f1cd",
   "metadata": {},
   "outputs": [],
   "source": [
    "df2 = pd.read_csv(file_path2, header=None)"
   ]
  },
  {
   "cell_type": "code",
   "execution_count": 16,
   "id": "3651ed59",
   "metadata": {},
   "outputs": [
    {
     "name": "stdout",
     "output_type": "stream",
     "text": [
      "   0  1  2  3\n",
      "0  0  1  4  7\n",
      "1  1  2  5  8\n",
      "2  2  3  6  9\n"
     ]
    }
   ],
   "source": [
    "print(df2)"
   ]
  },
  {
   "cell_type": "markdown",
   "id": "59c0c803",
   "metadata": {},
   "source": [
    "## 2.2 read excel"
   ]
  },
  {
   "cell_type": "code",
   "execution_count": null,
   "id": "efb33eb8",
   "metadata": {},
   "outputs": [],
   "source": []
  }
 ],
 "metadata": {
  "kernelspec": {
   "display_name": "Python 3 (ipykernel)",
   "language": "python",
   "name": "python3"
  },
  "language_info": {
   "codemirror_mode": {
    "name": "ipython",
    "version": 3
   },
   "file_extension": ".py",
   "mimetype": "text/x-python",
   "name": "python",
   "nbconvert_exporter": "python",
   "pygments_lexer": "ipython3",
   "version": "3.10.12"
  }
 },
 "nbformat": 4,
 "nbformat_minor": 5
}
