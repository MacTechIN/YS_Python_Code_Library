{
 "cells": [
  {
   "cell_type": "markdown",
   "id": "6c59463e",
   "metadata": {},
   "source": [
    "## 01.함수 매핑\n",
    "<h3> 기존 판다스로 안되는 부분 보강 </h3>"
   ]
  },
  {
   "cell_type": "code",
   "execution_count": 1,
   "id": "dfca22c8",
   "metadata": {},
   "outputs": [
    {
     "name": "stdout",
     "output_type": "stream",
     "text": [
      "    age     fare  ten\n",
      "0  22.0   7.2500   10\n",
      "1  38.0  71.2833   10\n",
      "2  26.0   7.9250   10\n",
      "3  35.0  53.1000   10\n",
      "4  35.0   8.0500   10\n",
      "\n",
      "\n"
     ]
    }
   ],
   "source": [
    "# seaborn 라이브러리 불러오기 \n",
    "import seaborn as sns\n",
    "\n",
    "# titanic 데이터셋에서 age, fare 2개 열을 선택하여 데이터프레임 만들기\n",
    "titanic = sns.load_dataset('titanic')\n",
    "df = titanic.loc[:, ['age','fare']]\n",
    "df['ten'] = 10\n",
    "print(df.head())\n",
    "print('\\n')"
   ]
  },
  {
   "cell_type": "code",
   "execution_count": 22,
   "id": "07ed0a73",
   "metadata": {},
   "outputs": [],
   "source": [
    "#사용자 정의 함수 \n",
    "def add_10(n):\n",
    "    #print(f\"add_10({n})\")\n",
    "    return n+10\n",
    "\n",
    "def add_two_obj(a,b):\n",
    "    #print(f\"add_10({a}+{b})\")\n",
    "    return a+b\n"
   ]
  },
  {
   "cell_type": "markdown",
   "id": "8bdd4f6c",
   "metadata": {},
   "source": [
    "<h3> 함수를 판다스에 적용시켜보자"
   ]
  },
  {
   "cell_type": "code",
   "execution_count": 26,
   "id": "f21bae83",
   "metadata": {},
   "outputs": [],
   "source": [
    "sr1 = df['age'].apply(add_10) # n= df['age'] 의 모든 원소를 n에 대입 (for loop 효과 )"
   ]
  },
  {
   "cell_type": "code",
   "execution_count": 27,
   "id": "c25b8fa1",
   "metadata": {},
   "outputs": [
    {
     "name": "stdout",
     "output_type": "stream",
     "text": [
      "/n\n"
     ]
    },
    {
     "data": {
      "text/plain": [
       "0    32.0\n",
       "1    48.0\n",
       "2    36.0\n",
       "3    45.0\n",
       "4    45.0\n",
       "Name: age, dtype: float64"
      ]
     },
     "execution_count": 27,
     "metadata": {},
     "output_type": "execute_result"
    }
   ],
   "source": [
    "print('/n')\n",
    "sr1.head()"
   ]
  },
  {
   "cell_type": "code",
   "execution_count": 28,
   "id": "cc26bd8d",
   "metadata": {},
   "outputs": [
    {
     "data": {
      "text/plain": [
       "(891,)"
      ]
     },
     "execution_count": 28,
     "metadata": {},
     "output_type": "execute_result"
    }
   ],
   "source": [
    "sr1.shape"
   ]
  },
  {
   "cell_type": "code",
   "execution_count": 29,
   "id": "caf50a75",
   "metadata": {},
   "outputs": [
    {
     "data": {
      "text/plain": [
       "pandas.core.series.Series"
      ]
     },
     "execution_count": 29,
     "metadata": {},
     "output_type": "execute_result"
    }
   ],
   "source": [
    "type (sr1)"
   ]
  },
  {
   "cell_type": "code",
   "execution_count": 30,
   "id": "3f7bdef5",
   "metadata": {},
   "outputs": [
    {
     "name": "stdout",
     "output_type": "stream",
     "text": [
      "0    32.0\n",
      "1    48.0\n",
      "2    36.0\n",
      "3    45.0\n",
      "4    45.0\n",
      "Name: age, dtype: float64\n",
      "\n",
      "\n"
     ]
    }
   ],
   "source": [
    "# 시리즈 객체와 숫자에 적용 : 2개의 인수(시리즈 + 숫자)\n",
    "sr2 = df['age'].apply(add_two_obj, b=10)    # a=df['age']의 모든 원소, b=10\n",
    "print(sr2.head())\n",
    "print('\\n')"
   ]
  },
  {
   "cell_type": "code",
   "execution_count": 25,
   "id": "23ed89b7",
   "metadata": {},
   "outputs": [
    {
     "name": "stdout",
     "output_type": "stream",
     "text": [
      "0    32.0\n",
      "1    48.0\n",
      "2    36.0\n",
      "3    45.0\n",
      "4    45.0\n",
      "Name: age, dtype: float64\n",
      "0    32.0\n",
      "1    48.0\n",
      "2    36.0\n",
      "3    45.0\n",
      "4    45.0\n",
      "Name: age, dtype: float64\n"
     ]
    }
   ],
   "source": [
    "\n",
    "# 람다 함수 활용: 시리즈 객체에 적용\n",
    "sr3 = df['age'].apply(lambda x: add_10(x))  # x=df['age']\n",
    "print(sr3.head())\n",
    "\n",
    "\n",
    "sr4 = df['age'].apply(lambda n : n+10)\n",
    "print(sr4.head())"
   ]
  },
  {
   "cell_type": "markdown",
   "id": "26556f88",
   "metadata": {},
   "source": [
    "## version 2"
   ]
  },
  {
   "cell_type": "code",
   "execution_count": 96,
   "id": "92e0949d",
   "metadata": {},
   "outputs": [
    {
     "name": "stdout",
     "output_type": "stream",
     "text": [
      "    age     fare  ten\n",
      "0  22.0   7.2500   10\n",
      "1  38.0  71.2833   10\n",
      "2  26.0   7.9250   10\n",
      "3  35.0  53.1000   10\n",
      "4  35.0   8.0500   10\n",
      "\n",
      "\n"
     ]
    }
   ],
   "source": [
    "# seaborn 라이브러리 불러오기 \n",
    "import seaborn as sns\n",
    "\n",
    "# titanic 데이터셋에서 age, fare 2개 열을 선택하여 데이터프레임 만들기\n",
    "titanic = sns.load_dataset('titanic')\n",
    "df = titanic.loc[:, ['age','fare']]\n",
    "df['ten'] = 10\n",
    "print(df.head())\n",
    "print('\\n')"
   ]
  },
  {
   "cell_type": "code",
   "execution_count": 99,
   "id": "c1473c72",
   "metadata": {},
   "outputs": [],
   "source": [
    "#사용자 정의 함수 \n",
    "def add_two(a, b):\n",
    "    #print(f\"add_two({a})+({b})\")\n",
    "    return a + b\n"
   ]
  },
  {
   "cell_type": "code",
   "execution_count": 103,
   "id": "89baf94e",
   "metadata": {},
   "outputs": [
    {
     "ename": "SyntaxError",
     "evalue": "incomplete input (1696181744.py, line 4)",
     "output_type": "error",
     "traceback": [
      "\u001b[0;36m  Cell \u001b[0;32mIn[103], line 4\u001b[0;36m\u001b[0m\n\u001b[0;31m    sr['ageten'] = df[['age']].apply(add_two, b = (df['ten'])\u001b[0m\n\u001b[0m                                                             ^\u001b[0m\n\u001b[0;31mSyntaxError\u001b[0m\u001b[0;31m:\u001b[0m incomplete input\n"
     ]
    }
   ],
   "source": [
    "#[문제] 컬럼 : age, ten 을 apply() 함수로 전달하여 \n",
    "# age + ten의 결과를 새로운 컬럼 ageten으로 만들어 넣어라 \n",
    "sr['ageten'] = df[['age']].apply(add_two, b = (df['ten'].values))"
   ]
  },
  {
   "cell_type": "code",
   "execution_count": 101,
   "id": "28852df7",
   "metadata": {},
   "outputs": [],
   "source": [
    "#sr['ageten'] = df['age'].apply(add_two, b = (df['ten']))"
   ]
  },
  {
   "cell_type": "code",
   "execution_count": 102,
   "id": "55cd6981",
   "metadata": {},
   "outputs": [
    {
     "name": "stdout",
     "output_type": "stream",
     "text": [
      "    0     1     2     3     4     5     6     7     8     9    ...   881  \\\n",
      "0  32.0  32.0  32.0  32.0  32.0  32.0  32.0  32.0  32.0  32.0  ...  32.0   \n",
      "1  48.0  48.0  48.0  48.0  48.0  48.0  48.0  48.0  48.0  48.0  ...  48.0   \n",
      "2  36.0  36.0  36.0  36.0  36.0  36.0  36.0  36.0  36.0  36.0  ...  36.0   \n",
      "3  45.0  45.0  45.0  45.0  45.0  45.0  45.0  45.0  45.0  45.0  ...  45.0   \n",
      "4  45.0  45.0  45.0  45.0  45.0  45.0  45.0  45.0  45.0  45.0  ...  45.0   \n",
      "\n",
      "    882   883   884   885   886   887   888   889   890  \n",
      "0  32.0  32.0  32.0  32.0  32.0  32.0  32.0  32.0  32.0  \n",
      "1  48.0  48.0  48.0  48.0  48.0  48.0  48.0  48.0  48.0  \n",
      "2  36.0  36.0  36.0  36.0  36.0  36.0  36.0  36.0  36.0  \n",
      "3  45.0  45.0  45.0  45.0  45.0  45.0  45.0  45.0  45.0  \n",
      "4  45.0  45.0  45.0  45.0  45.0  45.0  45.0  45.0  45.0  \n",
      "\n",
      "[5 rows x 891 columns]\n"
     ]
    }
   ],
   "source": [
    "print(sr['ageten'].head())"
   ]
  },
  {
   "cell_type": "code",
   "execution_count": 83,
   "id": "3d2c3a32",
   "metadata": {},
   "outputs": [
    {
     "data": {
      "text/plain": [
       "0      10\n",
       "1      10\n",
       "2      10\n",
       "3      10\n",
       "4      10\n",
       "       ..\n",
       "886    10\n",
       "887    10\n",
       "888    10\n",
       "889    10\n",
       "890    10\n",
       "Name: ten, Length: 891, dtype: int64"
      ]
     },
     "execution_count": 83,
     "metadata": {},
     "output_type": "execute_result"
    }
   ],
   "source": [
    "df['ten']"
   ]
  },
  {
   "cell_type": "code",
   "execution_count": 104,
   "id": "4a83ce8d",
   "metadata": {},
   "outputs": [],
   "source": [
    "#선생님 \n",
    "\n",
    "sr4 = df"
   ]
  },
  {
   "cell_type": "raw",
   "id": "f71dec5c",
   "metadata": {},
   "source": []
  },
  {
   "cell_type": "markdown",
   "id": "74b44ec3",
   "metadata": {},
   "source": [
    "### 6.2 "
   ]
  },
  {
   "cell_type": "code",
   "execution_count": 105,
   "id": "c11f288e",
   "metadata": {},
   "outputs": [
    {
     "name": "stdout",
     "output_type": "stream",
     "text": [
      "    age     fare\n",
      "0  22.0   7.2500\n",
      "1  38.0  71.2833\n",
      "2  26.0   7.9250\n",
      "3  35.0  53.1000\n",
      "4  35.0   8.0500\n",
      "\n",
      "\n"
     ]
    }
   ],
   "source": [
    "# titanic 데이터셋에서 age, fare 2개 열을 선택하여 데이터프레임 만들기\n",
    "titanic = sns.load_dataset('titanic')\n",
    "df = titanic.loc[:, ['age','fare']]\n",
    "print(df.head())\n",
    "print('\\n')"
   ]
  },
  {
   "cell_type": "code",
   "execution_count": 107,
   "id": "7d8815d1",
   "metadata": {},
   "outputs": [],
   "source": [
    "# 사용자 함수 정의\n",
    "def add_10(n):   # 10을 더하는 함수\n",
    "    return n + 10"
   ]
  },
  {
   "cell_type": "code",
   "execution_count": 108,
   "id": "79f926a8",
   "metadata": {},
   "outputs": [
    {
     "name": "stdout",
     "output_type": "stream",
     "text": [
      "    age     fare\n",
      "0  32.0  17.2500\n",
      "1  48.0  81.2833\n",
      "2  36.0  17.9250\n",
      "3  45.0  63.1000\n",
      "4  45.0  18.0500\n"
     ]
    }
   ],
   "source": [
    "# 데이터프레임에 applymap()으로 add_10() 함수를 매핑 적용\n",
    "df_map = df.applymap(add_10)   \n",
    "print(df_map.head())\n"
   ]
  },
  {
   "cell_type": "markdown",
   "id": "3fe17abb",
   "metadata": {},
   "source": [
    "### 6.3"
   ]
  },
  {
   "cell_type": "code",
   "execution_count": 109,
   "id": "6efcd387",
   "metadata": {},
   "outputs": [
    {
     "name": "stdout",
     "output_type": "stream",
     "text": [
      "     age   fare\n",
      "0  False  False\n",
      "1  False  False\n",
      "2  False  False\n",
      "3  False  False\n",
      "4  False  False\n",
      "\n",
      "\n",
      "<class 'pandas.core.frame.DataFrame'>\n"
     ]
    }
   ],
   "source": [
    "# 사용자 함수 정의\n",
    "def missing_value(series):# 시리즈를 인수로 전달\n",
    "    global missing_value_cnt\n",
    "    missing_value_cnt += 1\n",
    "    return series.isnull()    # 불린 시리즈를 반환\n",
    "    \n",
    "# 데이터프레임의 각 열을 인수로 전달하면 데이터프레임을 반환\n",
    "result = df.apply(missing_value, axis=0)  \n",
    "print(result.head())\n",
    "print('\\n')\n",
    "print(type(result))\n",
    "\n",
    "#2번 호출 : 각 컬럼 단위로 2번 호출 \n",
    "print(\"총 함수 호출 횟수 : \", missing_value_cnt)"
   ]
  },
  {
   "cell_type": "code",
   "execution_count": 114,
   "id": "ba5a10d9",
   "metadata": {},
   "outputs": [],
   "source": [
    "#칼럼(age, fare)를 묶어서 True, False갯수 \n",
    "age_count = result['age'].value_counts()"
   ]
  },
  {
   "cell_type": "code",
   "execution_count": 115,
   "id": "46ea432b",
   "metadata": {},
   "outputs": [
    {
     "name": "stdout",
     "output_type": "stream",
     "text": [
      "age\n",
      "False    714\n",
      "True     177\n",
      "Name: count, dtype: int64\n"
     ]
    }
   ],
   "source": [
    "print(age_count)"
   ]
  },
  {
   "cell_type": "code",
   "execution_count": 116,
   "id": "554d7cd5",
   "metadata": {},
   "outputs": [],
   "source": [
    "fare_counts = result['fare'].value_counts() "
   ]
  },
  {
   "cell_type": "code",
   "execution_count": 117,
   "id": "0711918b",
   "metadata": {},
   "outputs": [
    {
     "name": "stdout",
     "output_type": "stream",
     "text": [
      "fare\n",
      "False    891\n",
      "Name: count, dtype: int64\n"
     ]
    }
   ],
   "source": [
    "print(fare_counts)"
   ]
  },
  {
   "cell_type": "code",
   "execution_count": 134,
   "id": "a69d1d3e",
   "metadata": {
    "scrolled": true
   },
   "outputs": [
    {
     "name": "stdout",
     "output_type": "stream",
     "text": [
      "    age     fare\n",
      "0  22.0   7.2500\n",
      "1  38.0  71.2833\n",
      "2  26.0   7.9250\n",
      "3  35.0  53.1000\n",
      "4  35.0   8.0500\n",
      "\n",
      "\n"
     ]
    }
   ],
   "source": [
    "# 6.4 \n",
    "\n",
    "# titanic 데이터셋에서 age, fare 2개 열을 선택하여 데이터프레임 만들기\n",
    "titanic = sns.load_dataset('titanic')\n",
    "df = titanic.loc[:, ['age','fare']]\n",
    "print(df.head())\n",
    "print('\\n')\n"
   ]
  },
  {
   "cell_type": "code",
   "execution_count": null,
   "id": "c886e05d",
   "metadata": {},
   "outputs": [],
   "source": []
  },
  {
   "cell_type": "code",
   "execution_count": 261,
   "id": "9ec979be",
   "metadata": {},
   "outputs": [
    {
     "name": "stdout",
     "output_type": "stream",
     "text": [
      "age      79.5800\n",
      "fare    512.3292\n",
      "ten       0.0000\n",
      "dtype: float64\n",
      "\n",
      "\n",
      "<class 'pandas.core.series.Series'>\n",
      ":  79.58\n",
      ":  512.3292\n",
      ":  0.0\n"
     ]
    }
   ],
   "source": [
    "# 사용자 함수 정의\n",
    "def min_max(x): \n",
    "    #print(f\"x.max({x.max})- x.min({x.min})\")# 최대값 - 최소값\n",
    "    return x.max() - x.min()\n",
    "    \n",
    "# 데이터프레임의 각 열을 인수로 전달하면 시리즈를 반환\n",
    "result = df.apply(min_max)   #기본값 axis=0 \n",
    "print(result)\n",
    "print('\\n')\n",
    "print(type(result))\n",
    "\n",
    "\n",
    "for i in result.index:\n",
    "    print( \": \", result[i])"
   ]
  },
  {
   "cell_type": "code",
   "execution_count": 136,
   "id": "2122d7e4",
   "metadata": {},
   "outputs": [],
   "source": [
    "#검산"
   ]
  },
  {
   "cell_type": "code",
   "execution_count": 139,
   "id": "f34c17e2",
   "metadata": {},
   "outputs": [
    {
     "name": "stdout",
     "output_type": "stream",
     "text": [
      "age (79.58) , fare(512.3292)\n"
     ]
    }
   ],
   "source": [
    "age = df['age'].max() - df['age'].min()\n",
    "fare = df['fare'].max() - df['fare'].min()\n",
    "\n",
    "print(f\"age ({age}) , fare({fare})\")"
   ]
  },
  {
   "cell_type": "markdown",
   "id": "fa408e28",
   "metadata": {},
   "source": [
    "## 6.5 데이터프레임의 각행에 함수 매핑 "
   ]
  },
  {
   "cell_type": "code",
   "execution_count": 262,
   "id": "76d211c3",
   "metadata": {},
   "outputs": [
    {
     "name": "stdout",
     "output_type": "stream",
     "text": [
      "    age     fare  ten\n",
      "0  22.0   7.2500   10\n",
      "1  38.0  71.2833   10\n",
      "2  26.0   7.9250   10\n",
      "3  35.0  53.1000   10\n",
      "4  35.0   8.0500   10\n",
      "\n",
      "\n"
     ]
    }
   ],
   "source": [
    "# titanic 데이터셋에서 age, fare 2개 열을 선택하여 데이터프레임 만들기\n",
    "titanic = sns.load_dataset('titanic')\n",
    "df = titanic.loc[:, ['age','fare']]\n",
    "df['ten'] = 10\n",
    "print(df.head())\n",
    "print('\\n')"
   ]
  },
  {
   "cell_type": "code",
   "execution_count": 268,
   "id": "3e92d92e",
   "metadata": {},
   "outputs": [],
   "source": [
    "df2 = df.transpose()\n",
    "df3 = df2"
   ]
  },
  {
   "cell_type": "code",
   "execution_count": 269,
   "id": "ce0b91a9",
   "metadata": {},
   "outputs": [
    {
     "name": "stdout",
     "output_type": "stream",
     "text": [
      "        0        1       2     3      4        5        6       7        8    \\\n",
      "age   22.00  38.0000  26.000  35.0  35.00      NaN  54.0000   2.000  27.0000   \n",
      "fare   7.25  71.2833   7.925  53.1   8.05   8.4583  51.8625  21.075  11.1333   \n",
      "ten   10.00  10.0000  10.000  10.0  10.00  10.0000  10.0000  10.000  10.0000   \n",
      "\n",
      "          9    ...      881      882   883    884     885   886   887    888  \\\n",
      "age   14.0000  ...  33.0000  22.0000  28.0  25.00  39.000  27.0  19.0    NaN   \n",
      "fare  30.0708  ...   7.8958  10.5167  10.5   7.05  29.125  13.0  30.0  23.45   \n",
      "ten   10.0000  ...  10.0000  10.0000  10.0  10.00  10.000  10.0  10.0  10.00   \n",
      "\n",
      "       889    890  \n",
      "age   26.0  32.00  \n",
      "fare  30.0   7.75  \n",
      "ten   10.0  10.00  \n",
      "\n",
      "[3 rows x 891 columns]\n"
     ]
    }
   ],
   "source": [
    "print(df2.head(5))"
   ]
  },
  {
   "cell_type": "code",
   "execution_count": null,
   "id": "b364768c",
   "metadata": {},
   "outputs": [],
   "source": []
  },
  {
   "cell_type": "code",
   "execution_count": null,
   "id": "57c6c27e",
   "metadata": {},
   "outputs": [],
   "source": []
  },
  {
   "cell_type": "code",
   "execution_count": 195,
   "id": "67ecc7d7",
   "metadata": {},
   "outputs": [],
   "source": [
    "# 사용자 함수 정의\n",
    "def add_two_obj(a, b):    # 두 객체의 합\n",
    "    return a + b"
   ]
  },
  {
   "cell_type": "code",
   "execution_count": 219,
   "id": "ecb35044",
   "metadata": {},
   "outputs": [
    {
     "name": "stdout",
     "output_type": "stream",
     "text": [
      "    age     fare  ten   add\n",
      "0  22.0   7.2500   10  32.0\n",
      "1  38.0  71.2833   10  48.0\n",
      "2  26.0   7.9250   10  36.0\n",
      "3  35.0  53.1000   10  45.0\n",
      "4  35.0   8.0500   10  45.0\n"
     ]
    }
   ],
   "source": [
    "# 데이터프레임의 2개 열을 선택하여 적용\n",
    "# x=df, a=df['age'], b=df['ten']\n",
    "df['add'] = df.apply(lambda x: , axis=1)   \n",
    "print(df.head())"
   ]
  },
  {
   "cell_type": "markdown",
   "id": "7d9ce848",
   "metadata": {},
   "source": [
    "## 문제\n",
    "<h4> 칼럼(age,fare,ten) 의 합을 구하여 , 새로운 컬럼 (tot) 대입하라,  apply() 함수를 이용 "
   ]
  },
  {
   "cell_type": "code",
   "execution_count": 284,
   "id": "ccbf03f9",
   "metadata": {},
   "outputs": [
    {
     "name": "stdout",
     "output_type": "stream",
     "text": [
      "    age     fare  ten\n",
      "0  22.0   7.2500   10\n",
      "1  38.0  71.2833   10\n",
      "2  26.0   7.9250   10\n",
      "3  35.0  53.1000   10\n",
      "4  35.0   8.0500   10\n",
      "\n",
      "\n"
     ]
    }
   ],
   "source": [
    "# titanic 데이터셋에서 age, fare 2개 열을 선택하여 데이터프레임 만들기\n",
    "titanic = sns.load_dataset('titanic')\n",
    "df = titanic.loc[:, ['age','fare']]\n",
    "df['ten'] = 10\n",
    "print(df.head())\n",
    "print('\\n')"
   ]
  },
  {
   "cell_type": "code",
   "execution_count": 285,
   "id": "a71e6ea3",
   "metadata": {},
   "outputs": [],
   "source": [
    "def add_all(a):\n",
    "    return a.sum()"
   ]
  },
  {
   "cell_type": "code",
   "execution_count": 282,
   "id": "56445b76",
   "metadata": {},
   "outputs": [
    {
     "ename": "SyntaxError",
     "evalue": "invalid syntax (1320281015.py, line 1)",
     "output_type": "error",
     "traceback": [
      "\u001b[0;36m  Cell \u001b[0;32mIn[282], line 1\u001b[0;36m\u001b[0m\n\u001b[0;31m    tot = df.apply(lambda n : n.)\u001b[0m\n\u001b[0m                                ^\u001b[0m\n\u001b[0;31mSyntaxError\u001b[0m\u001b[0;31m:\u001b[0m invalid syntax\n"
     ]
    }
   ],
   "source": [
    "tot = df.apply(lambda n :.)"
   ]
  },
  {
   "cell_type": "code",
   "execution_count": 287,
   "id": "f74a955f",
   "metadata": {},
   "outputs": [],
   "source": [
    "tot = df.apply(lambda n : n.sum(), axis=1)"
   ]
  },
  {
   "cell_type": "code",
   "execution_count": 289,
   "id": "8dfd8dea",
   "metadata": {},
   "outputs": [],
   "source": [
    "df['tot'] = tot"
   ]
  },
  {
   "cell_type": "code",
   "execution_count": 290,
   "id": "94821005",
   "metadata": {},
   "outputs": [
    {
     "name": "stdout",
     "output_type": "stream",
     "text": [
      "    age     fare  ten       tot\n",
      "0  22.0   7.2500   10   39.2500\n",
      "1  38.0  71.2833   10  119.2833\n",
      "2  26.0   7.9250   10   43.9250\n",
      "3  35.0  53.1000   10   98.1000\n",
      "4  35.0   8.0500   10   53.0500\n"
     ]
    }
   ],
   "source": [
    "print(df.head(5))"
   ]
  },
  {
   "cell_type": "code",
   "execution_count": null,
   "id": "28bc2662",
   "metadata": {},
   "outputs": [],
   "source": []
  },
  {
   "cell_type": "markdown",
   "id": "fa458cb1",
   "metadata": {},
   "source": [
    "## 6.6 데이터 프레임 객체에 함수 매핑 "
   ]
  },
  {
   "cell_type": "code",
   "execution_count": 296,
   "id": "a991307e",
   "metadata": {},
   "outputs": [],
   "source": [
    "#titanic 데이터셋에서 age, fare 2개 열을 선택하여 데이터프레임 만들기\n",
    "titanic = sns.load_dataset('titanic')\n",
    "df = titanic.loc[:, ['age','fare']]"
   ]
  },
  {
   "cell_type": "code",
   "execution_count": 299,
   "id": "472123c6",
   "metadata": {},
   "outputs": [],
   "source": [
    "# 각 열의 NaN 찾기 - 데이터프레임 전달하면 데이터프레임을 반환\n",
    "def missing_value(x):\n",
    "    print(\"[missing value]\")\n",
    "    return x.isnull()    \n",
    "\n",
    "# 각 열의 NaN 개수 반환 - 데이터프레임 전달하면 시리즈 반환\n",
    "def missing_count(x):    # \n",
    "    return missing_value(x).sum()\n",
    "# 데이터프레임의 총 NaN 개수 - 데이터프레임 전달하면 값을 반환\n",
    "def totoal_number_missing(x):    \n",
    "    return missing_count(x).sum()\n"
   ]
  },
  {
   "cell_type": "code",
   "execution_count": 300,
   "id": "94295d86",
   "metadata": {},
   "outputs": [
    {
     "name": "stdout",
     "output_type": "stream",
     "text": [
      "[missing value]\n",
      "     age   fare\n",
      "0  False  False\n",
      "1  False  False\n",
      "2  False  False\n",
      "3  False  False\n",
      "4  False  False\n",
      "<class 'pandas.core.frame.DataFrame'>\n",
      "\n",
      "\n"
     ]
    }
   ],
   "source": [
    "# 데이터프레임에 pipe() 메소드로 함수 매핑\n",
    "result_df = df.pipe(missing_value)   \n",
    "print(result_df.head())\n",
    "#%%\n",
    "print(type(result_df))\n",
    "print('\\n')"
   ]
  },
  {
   "cell_type": "code",
   "execution_count": 301,
   "id": "234d6202",
   "metadata": {},
   "outputs": [
    {
     "name": "stdout",
     "output_type": "stream",
     "text": [
      "[missing value]\n",
      "age     177\n",
      "fare      0\n",
      "dtype: int64\n",
      "<class 'pandas.core.series.Series'>\n",
      "\n",
      "\n"
     ]
    }
   ],
   "source": [
    "result_series = df.pipe(missing_count)   \n",
    "print(result_series)\n",
    "print(type(result_series))\n",
    "print('\\n')\n"
   ]
  },
  {
   "cell_type": "code",
   "execution_count": 302,
   "id": "c58eb1fa",
   "metadata": {},
   "outputs": [
    {
     "name": "stdout",
     "output_type": "stream",
     "text": [
      "[missing value]\n",
      "177\n",
      "<class 'numpy.int64'>\n"
     ]
    }
   ],
   "source": [
    "result_value = df.pipe(totoal_number_missing)   \n",
    "print(result_value)\n",
    "print(type(result_value))"
   ]
  },
  {
   "cell_type": "code",
   "execution_count": null,
   "id": "e361a779",
   "metadata": {},
   "outputs": [],
   "source": []
  },
  {
   "cell_type": "code",
   "execution_count": null,
   "id": "5348773c",
   "metadata": {},
   "outputs": [],
   "source": []
  },
  {
   "cell_type": "code",
   "execution_count": null,
   "id": "52da963d",
   "metadata": {},
   "outputs": [],
   "source": []
  },
  {
   "cell_type": "code",
   "execution_count": null,
   "id": "a70ead59",
   "metadata": {},
   "outputs": [],
   "source": []
  },
  {
   "cell_type": "code",
   "execution_count": null,
   "id": "88be4cf8",
   "metadata": {},
   "outputs": [],
   "source": []
  },
  {
   "cell_type": "code",
   "execution_count": null,
   "id": "52b8e825",
   "metadata": {},
   "outputs": [],
   "source": []
  },
  {
   "cell_type": "code",
   "execution_count": null,
   "id": "d0ffbc97",
   "metadata": {},
   "outputs": [],
   "source": []
  },
  {
   "cell_type": "code",
   "execution_count": null,
   "id": "78f9ccda",
   "metadata": {},
   "outputs": [],
   "source": []
  },
  {
   "cell_type": "code",
   "execution_count": null,
   "id": "a287ff84",
   "metadata": {},
   "outputs": [],
   "source": []
  },
  {
   "cell_type": "code",
   "execution_count": 270,
   "id": "ff4cc1d0",
   "metadata": {},
   "outputs": [],
   "source": [
    "# 사용자 함수 정의\n",
    "def add_objs(a,b,c):    # 두 객체의 합\n",
    "    return a + b + c"
   ]
  },
  {
   "cell_type": "code",
   "execution_count": 241,
   "id": "5c0080a2",
   "metadata": {},
   "outputs": [],
   "source": [
    "#df3 = df.apply(lambda x: add_three_obj(x[], x['fare'], x['ten'] ), axis=0)  "
   ]
  },
  {
   "cell_type": "code",
   "execution_count": 271,
   "id": "405fb533",
   "metadata": {},
   "outputs": [],
   "source": [
    "df3.loc[\"tot\"] = df2.apply(lambda x: add_objs(df2.index[0],df2.index[1],df2.index[2]), axis = 0)  "
   ]
  },
  {
   "cell_type": "code",
   "execution_count": 246,
   "id": "886bd463",
   "metadata": {},
   "outputs": [
    {
     "name": "stdout",
     "output_type": "stream",
     "text": [
      "age\n"
     ]
    }
   ],
   "source": [
    "c = df2.index[0]\n",
    "print(c)"
   ]
  },
  {
   "cell_type": "code",
   "execution_count": 250,
   "id": "ef3835ab",
   "metadata": {},
   "outputs": [
    {
     "data": {
      "text/plain": [
       "0      22.0\n",
       "1      38.0\n",
       "2      26.0\n",
       "3      35.0\n",
       "4      35.0\n",
       "       ... \n",
       "886    27.0\n",
       "887    19.0\n",
       "888     NaN\n",
       "889    26.0\n",
       "890    32.0\n",
       "Name: age, Length: 891, dtype: float64"
      ]
     },
     "execution_count": 250,
     "metadata": {},
     "output_type": "execute_result"
    }
   ],
   "source": [
    "df2.loc['age']"
   ]
  },
  {
   "cell_type": "code",
   "execution_count": 272,
   "id": "215d65ca",
   "metadata": {},
   "outputs": [
    {
     "name": "stdout",
     "output_type": "stream",
     "text": [
      "             0           1           2           3           4           5    \\\n",
      "age         22.0        38.0        26.0        35.0        35.0         NaN   \n",
      "fare        7.25     71.2833       7.925        53.1        8.05      8.4583   \n",
      "ten         10.0        10.0        10.0        10.0        10.0        10.0   \n",
      "tot   agefareten  agefareten  agefareten  agefareten  agefareten  agefareten   \n",
      "\n",
      "             6           7           8           9    ...         881  \\\n",
      "age         54.0         2.0        27.0        14.0  ...        33.0   \n",
      "fare     51.8625      21.075     11.1333     30.0708  ...      7.8958   \n",
      "ten         10.0        10.0        10.0        10.0  ...        10.0   \n",
      "tot   agefareten  agefareten  agefareten  agefareten  ...  agefareten   \n",
      "\n",
      "             882         883         884         885         886         887  \\\n",
      "age         22.0        28.0        25.0        39.0        27.0        19.0   \n",
      "fare     10.5167        10.5        7.05      29.125        13.0        30.0   \n",
      "ten         10.0        10.0        10.0        10.0        10.0        10.0   \n",
      "tot   agefareten  agefareten  agefareten  agefareten  agefareten  agefareten   \n",
      "\n",
      "             888         889         890  \n",
      "age          NaN        26.0        32.0  \n",
      "fare       23.45        30.0        7.75  \n",
      "ten         10.0        10.0        10.0  \n",
      "tot   agefareten  agefareten  agefareten  \n",
      "\n",
      "[4 rows x 891 columns]\n"
     ]
    }
   ],
   "source": [
    "print(df3)"
   ]
  },
  {
   "cell_type": "code",
   "execution_count": 274,
   "id": "8f03c287",
   "metadata": {},
   "outputs": [],
   "source": [
    "df4 = df3.transpose()"
   ]
  },
  {
   "cell_type": "code",
   "execution_count": 275,
   "id": "6bcd8546",
   "metadata": {},
   "outputs": [
    {
     "name": "stdout",
     "output_type": "stream",
     "text": [
      "      age     fare   ten         tot\n",
      "0    22.0     7.25  10.0  agefareten\n",
      "1    38.0  71.2833  10.0  agefareten\n",
      "2    26.0    7.925  10.0  agefareten\n",
      "3    35.0     53.1  10.0  agefareten\n",
      "4    35.0     8.05  10.0  agefareten\n",
      "..    ...      ...   ...         ...\n",
      "886  27.0     13.0  10.0  agefareten\n",
      "887  19.0     30.0  10.0  agefareten\n",
      "888   NaN    23.45  10.0  agefareten\n",
      "889  26.0     30.0  10.0  agefareten\n",
      "890  32.0     7.75  10.0  agefareten\n",
      "\n",
      "[891 rows x 4 columns]\n"
     ]
    }
   ],
   "source": [
    "print(df4)"
   ]
  },
  {
   "cell_type": "code",
   "execution_count": 193,
   "id": "054c7a63",
   "metadata": {},
   "outputs": [
    {
     "ename": "TypeError",
     "evalue": "add_three_obj() missing 1 required positional argument: 'c'",
     "output_type": "error",
     "traceback": [
      "\u001b[0;31m---------------------------------------------------------------------------\u001b[0m",
      "\u001b[0;31mTypeError\u001b[0m                                 Traceback (most recent call last)",
      "Cell \u001b[0;32mIn[193], line 1\u001b[0m\n\u001b[0;32m----> 1\u001b[0m df[\u001b[38;5;124m'\u001b[39m\u001b[38;5;124mtot\u001b[39m\u001b[38;5;124m'\u001b[39m]\u001b[38;5;241m=\u001b[39m df[\u001b[38;5;124m'\u001b[39m\u001b[38;5;124mage\u001b[39m\u001b[38;5;124m'\u001b[39m]\u001b[38;5;241m.\u001b[39mapply(\u001b[43madd_three_obj\u001b[49m\u001b[43m(\u001b[49m\u001b[43mdf\u001b[49m\u001b[43m[\u001b[49m\u001b[38;5;124;43m'\u001b[39;49m\u001b[38;5;124;43mfare\u001b[39;49m\u001b[38;5;124;43m'\u001b[39;49m\u001b[43m]\u001b[49m\u001b[43m,\u001b[49m\u001b[43mdf\u001b[49m\u001b[43m[\u001b[49m\u001b[38;5;124;43m'\u001b[39;49m\u001b[38;5;124;43mten\u001b[39;49m\u001b[38;5;124;43m'\u001b[39;49m\u001b[43m]\u001b[49m\u001b[43m)\u001b[49m)\n",
      "\u001b[0;31mTypeError\u001b[0m: add_three_obj() missing 1 required positional argument: 'c'"
     ]
    }
   ],
   "source": [
    "df.apply(add_three_obj(df['fare'],df['ten']))"
   ]
  },
  {
   "cell_type": "code",
   "execution_count": null,
   "id": "9929b194",
   "metadata": {},
   "outputs": [],
   "source": []
  },
  {
   "cell_type": "code",
   "execution_count": 188,
   "id": "7c368bab",
   "metadata": {},
   "outputs": [
    {
     "name": "stdout",
     "output_type": "stream",
     "text": [
      "      age     fare  ten\n",
      "0    22.0   7.2500   10\n",
      "1    38.0  71.2833   10\n",
      "2    26.0   7.9250   10\n",
      "3    35.0  53.1000   10\n",
      "4    35.0   8.0500   10\n",
      "..    ...      ...  ...\n",
      "886  27.0  13.0000   10\n",
      "887  19.0  30.0000   10\n",
      "888   NaN  23.4500   10\n",
      "889  26.0  30.0000   10\n",
      "890  32.0   7.7500   10\n",
      "\n",
      "[891 rows x 3 columns]\n"
     ]
    }
   ],
   "source": [
    "print(df.loc[:,['age','fare','ten']])"
   ]
  },
  {
   "cell_type": "code",
   "execution_count": null,
   "id": "2819b759",
   "metadata": {},
   "outputs": [],
   "source": []
  },
  {
   "cell_type": "markdown",
   "id": "681a2fc9",
   "metadata": {},
   "source": [
    "## 6.7 열 재구성 "
   ]
  },
  {
   "cell_type": "code",
   "execution_count": 318,
   "id": "7f4b538b",
   "metadata": {},
   "outputs": [
    {
     "name": "stdout",
     "output_type": "stream",
     "text": [
      "   survived  pclass     sex   age\n",
      "0         0       3    male  22.0\n",
      "1         1       1  female  38.0\n",
      "2         1       3  female  26.0\n",
      "3         1       1  female  35.0\n",
      "4         0       3    male  35.0 \n",
      "\n",
      "df.columns.values:  <class 'pandas.core.indexes.base.Index'>\n",
      "['survived', 'pclass', 'sex', 'age'] \n",
      "\n",
      "df.columns:  Index(['survived', 'pclass', 'sex', 'age'], dtype='object')\n",
      "df.columns.values:  ['survived' 'pclass' 'sex' 'age']\n"
     ]
    }
   ],
   "source": [
    "# titanic 데이터셋의 부분을 선택하여 데이터프레임 만들기\n",
    "titanic = sns.load_dataset('titanic')\n",
    "df = titanic.loc[0:4, 'survived':'age']\n",
    "print(df, '\\n')\n",
    "\n",
    "# 열 이름의 리스트 만들기\n",
    "columns = list(df.columns.values)   #기존 열 이름 list \n",
    "print(\"df.columns.values: \", type(df.columns)) #<class 'pandas.core.indexes.base.Index'>\n",
    "print(columns, '\\n')\n",
    "\n",
    "df_columns = df.columns \n",
    "print(\"df.columns: \", df_columns)\n",
    "print(\"df.columns.values: \", df_columns.values)\n"
   ]
  },
  {
   "cell_type": "code",
   "execution_count": 320,
   "id": "e5c7fd5a",
   "metadata": {},
   "outputs": [
    {
     "name": "stdout",
     "output_type": "stream",
     "text": [
      "3\n"
     ]
    }
   ],
   "source": [
    "#pclass 의 0번째 \n",
    "print(df['pclass'][0])"
   ]
  },
  {
   "cell_type": "code",
   "execution_count": 333,
   "id": "a215ad98",
   "metadata": {},
   "outputs": [
    {
     "name": "stdout",
     "output_type": "stream",
     "text": [
      "   survived     sex\n",
      "0         0    male\n",
      "1         1  female\n",
      "2         1  female\n",
      "3         1  female\n",
      "4         0    male\n"
     ]
    }
   ],
   "source": [
    "#pclass 전체 \n",
    "print(df.loc[ : , [\"survived\",'sex']])"
   ]
  },
  {
   "cell_type": "code",
   "execution_count": 307,
   "id": "965f7933",
   "metadata": {},
   "outputs": [
    {
     "name": "stdout",
     "output_type": "stream",
     "text": [
      "    age  pclass     sex  survived\n",
      "0  22.0       3    male         0\n",
      "1  38.0       1  female         1\n",
      "2  26.0       3  female         1\n",
      "3  35.0       1  female         1\n",
      "4  35.0       3    male         0 \n",
      "\n"
     ]
    }
   ],
   "source": [
    "# 열 이름을 알파벳 순으로 정렬하기\n",
    "columns_sorted = sorted(columns)    #알파벳 순으로 정렬\n",
    "df_sorted = df[columns_sorted]\n",
    "print(df_sorted, '\\n')"
   ]
  },
  {
   "cell_type": "code",
   "execution_count": 308,
   "id": "83eb5308",
   "metadata": {},
   "outputs": [
    {
     "name": "stdout",
     "output_type": "stream",
     "text": [
      "    age     sex  pclass  survived\n",
      "0  22.0    male       3         0\n",
      "1  38.0  female       1         1\n",
      "2  26.0  female       3         1\n",
      "3  35.0  female       1         1\n",
      "4  35.0    male       3         0 \n",
      "\n"
     ]
    }
   ],
   "source": [
    "# 열 이름을 기존 순서의 정반대 역순으로 정렬하기\n",
    "columns_reversed = list(reversed(columns))  \n",
    "df_reversed = df[columns_reversed]\n",
    "print(df_reversed, '\\n')"
   ]
  },
  {
   "cell_type": "code",
   "execution_count": 309,
   "id": "a8e57b3b",
   "metadata": {},
   "outputs": [
    {
     "name": "stdout",
     "output_type": "stream",
     "text": [
      "   pclass     sex   age  survived\n",
      "0       3    male  22.0         0\n",
      "1       1  female  38.0         1\n",
      "2       3  female  26.0         1\n",
      "3       1  female  35.0         1\n",
      "4       3    male  35.0         0\n"
     ]
    }
   ],
   "source": [
    "# 열 이름을 사용자가 정의한 임의의 순서로 재배치하기\n",
    "columns_customed = ['pclass', 'sex', 'age', 'survived']  \n",
    "df_customed = df[columns_customed]\n",
    "print(df_customed)"
   ]
  },
  {
   "cell_type": "markdown",
   "id": "56558b21",
   "metadata": {},
   "source": [
    "## 6.8 열분리 "
   ]
  },
  {
   "cell_type": "code",
   "execution_count": 355,
   "id": "793da4ee",
   "metadata": {},
   "outputs": [
    {
     "name": "stdout",
     "output_type": "stream",
     "text": [
      "         연월일   당일종가  전일종가     시가     고가     저가     거래량\n",
      "0 2018-07-02  10100   600  10850  10900  10000  137977\n",
      "1 2018-06-29  10700   300  10550  10900   9990  170253\n",
      "2 2018-06-28  10400   500  10900  10950  10150  155769\n",
      "3 2018-06-27  10900   100  10800  11050  10500  133548\n",
      "4 2018-06-26  10800   350  10900  11000  10700   63039 \n",
      "\n",
      "연월일     datetime64[ns]\n",
      "당일종가             int64\n",
      "전일종가             int64\n",
      "시가               int64\n",
      "고가               int64\n",
      "저가               int64\n",
      "거래량              int64\n",
      "dtype: object \n",
      "\n"
     ]
    }
   ],
   "source": [
    "# 라이브러리 불러오기\n",
    "import pandas as pd\n",
    "\n",
    "# 데이터셋 가져오기\n",
    "df = pd.read_excel('./주가데이터.xlsx', engine= 'openpyxl')\n",
    "print(df.head(), '\\n')\n",
    "print(df.dtypes, '\\n')\n"
   ]
  },
  {
   "cell_type": "code",
   "execution_count": 348,
   "id": "34c6a9cc",
   "metadata": {},
   "outputs": [],
   "source": [
    "df['연월일'] = df['연월일'].astype('str')"
   ]
  },
  {
   "cell_type": "code",
   "execution_count": 349,
   "id": "dc372f4c",
   "metadata": {},
   "outputs": [],
   "source": [
    "dates = df['연월일'].str.split('-')"
   ]
  },
  {
   "cell_type": "code",
   "execution_count": 356,
   "id": "edadd4b8",
   "metadata": {},
   "outputs": [
    {
     "name": "stdout",
     "output_type": "stream",
     "text": [
      "0    2018-07-02\n",
      "1    2018-06-29\n",
      "2    2018-06-28\n",
      "3    2018-06-27\n",
      "4    2018-06-26\n",
      "Name: 연월일, dtype: object \n",
      "\n"
     ]
    }
   ],
   "source": [
    "print(dates.head(),'\\n') "
   ]
  },
  {
   "cell_type": "code",
   "execution_count": 357,
   "id": "abb400d6",
   "metadata": {},
   "outputs": [],
   "source": [
    "# Mac 에서 Excel File을 가져올때 아래 코드를 실행 시켜야한다. \n",
    "dates = pd.to_datetime(df['연월일'])"
   ]
  },
  {
   "cell_type": "code",
   "execution_count": 358,
   "id": "122a04df",
   "metadata": {},
   "outputs": [],
   "source": [
    "dates = df['연월일']\n",
    "df_y = dates.dt.year \n",
    "df_m = dates.dt.month\n",
    "df_d = dates.dt.day "
   ]
  },
  {
   "cell_type": "code",
   "execution_count": null,
   "id": "7cec47a0",
   "metadata": {},
   "outputs": [],
   "source": []
  },
  {
   "cell_type": "code",
   "execution_count": 343,
   "id": "f67d7381",
   "metadata": {},
   "outputs": [],
   "source": [
    "df['연'] = dates.str.get(0)\n",
    "df['월'] = dates.str.get(1)\n",
    "df['일'] = dates.str.get(2)"
   ]
  },
  {
   "cell_type": "code",
   "execution_count": 344,
   "id": "c7cfac0b",
   "metadata": {},
   "outputs": [
    {
     "name": "stdout",
     "output_type": "stream",
     "text": [
      "           연월일   당일종가  전일종가     시가     고가     저가     거래량     연   월   일\n",
      "0   2018-07-02  10100   600  10850  10900  10000  137977  2018  07  02\n",
      "1   2018-06-29  10700   300  10550  10900   9990  170253  2018  06  29\n",
      "2   2018-06-28  10400   500  10900  10950  10150  155769  2018  06  28\n",
      "3   2018-06-27  10900   100  10800  11050  10500  133548  2018  06  27\n",
      "4   2018-06-26  10800   350  10900  11000  10700   63039  2018  06  26\n",
      "5   2018-06-25  11150   150  11400  11450  11000   55519  2018  06  25\n",
      "6   2018-06-22  11300   100  11250  11450  10750  134805  2018  06  22\n",
      "7   2018-06-21  11200   350  11350  11750  11200  133002  2018  06  21\n",
      "8   2018-06-20  11550   250  11200  11600  10900  308596  2018  06  20\n",
      "9   2018-06-19  11300   700  11850  11950  11300  180656  2018  06  19\n",
      "10  2018-06-18  12000  1400  13400  13400  12000  309787  2018  06  18\n",
      "11  2018-06-15  13400    50  13600  13600  12900  201376  2018  06  15\n",
      "12  2018-06-14  13450   250  13200  13700  13150  347451  2018  06  14\n",
      "13  2018-06-12  13200  1250  12200  13300  12050  558148  2018  06  12\n",
      "14  2018-06-11  11950     0  12000  12250  11950   62293  2018  06  11\n",
      "15  2018-06-08  11950     0  11950  12200  11800   59258  2018  06  08\n",
      "16  2018-06-07  11950   200  12200  12300  11900   49088  2018  06  07\n",
      "17  2018-06-05  12150   250  11800  12250  11800   42485  2018  06  05\n",
      "18  2018-06-04  11900     0  11900  12200  11700   25171  2018  06  04\n",
      "19  2018-06-01  11900   100  11800  12100  11750   32062  2018  06  01\n"
     ]
    }
   ],
   "source": [
    "print(df)"
   ]
  },
  {
   "cell_type": "markdown",
   "id": "b94316ed",
   "metadata": {},
   "source": [
    "## 6.9 필터링 "
   ]
  },
  {
   "cell_type": "code",
   "execution_count": 361,
   "id": "4b4eed3d",
   "metadata": {},
   "outputs": [
    {
     "name": "stdout",
     "output_type": "stream",
     "text": [
      "    survived  pclass     sex   age  sibsp  parch      fare embarked   class  \\\n",
      "9          1       2  female  14.0      1      0   30.0708        C  Second   \n",
      "14         0       3  female  14.0      0      0    7.8542        S   Third   \n",
      "22         1       3  female  15.0      0      0    8.0292        Q   Third   \n",
      "27         0       1    male  19.0      3      2  263.0000        S   First   \n",
      "38         0       3  female  18.0      2      0   18.0000        S   Third   \n",
      "39         1       3  female  14.0      1      0   11.2417        C   Third   \n",
      "44         1       3  female  19.0      0      0    7.8792        Q   Third   \n",
      "49         0       3  female  18.0      1      0   17.8000        S   Third   \n",
      "59         0       3    male  11.0      5      2   46.9000        S   Third   \n",
      "67         0       3    male  19.0      0      0    8.1583        S   Third   \n",
      "\n",
      "      who  adult_male deck  embark_town alive  alone  \n",
      "9   child       False  NaN    Cherbourg   yes  False  \n",
      "14  child       False  NaN  Southampton    no   True  \n",
      "22  child       False  NaN   Queenstown   yes   True  \n",
      "27    man        True    C  Southampton    no  False  \n",
      "38  woman       False  NaN  Southampton    no  False  \n",
      "39  child       False  NaN    Cherbourg   yes  False  \n",
      "44  woman       False  NaN   Queenstown   yes   True  \n",
      "49  woman       False  NaN  Southampton    no  False  \n",
      "59  child       False  NaN  Southampton    no  False  \n",
      "67    man        True  NaN  Southampton    no   True  \n",
      "\n",
      "\n"
     ]
    }
   ],
   "source": [
    "# titanic 데이터셋 로딩\n",
    "titanic = sns.load_dataset('titanic')\n",
    "\n",
    "# 나이가 10대(10~19세)인 승객만 따로 선택\n",
    "mask1 = (titanic.age >= 10) & (titanic.age < 20)\n",
    "\n",
    "#시리즈에서 같은 인덱스에서 Mask1의 값이 True인 행만 선택 \n",
    "df_teenage = titanic.loc[mask1, :] # 마스크 적용 , 선택된 행 9,14,22,27,38 \n",
    "print(df_teenage.head(10))\n",
    "print('\\n')"
   ]
  },
  {
   "cell_type": "code",
   "execution_count": 363,
   "id": "7200baa0",
   "metadata": {},
   "outputs": [
    {
     "name": "stdout",
     "output_type": "stream",
     "text": [
      "     survived  pclass     sex  age  sibsp  parch     fare embarked   class  \\\n",
      "10          1       3  female  4.0      1      1  16.7000        S   Third   \n",
      "24          0       3  female  8.0      3      1  21.0750        S   Third   \n",
      "43          1       2  female  3.0      1      2  41.5792        C  Second   \n",
      "58          1       2  female  5.0      1      2  27.7500        S  Second   \n",
      "119         0       3  female  2.0      4      2  31.2750        S   Third   \n",
      "\n",
      "       who  adult_male deck  embark_town alive  alone  \n",
      "10   child       False    G  Southampton   yes  False  \n",
      "24   child       False  NaN  Southampton    no  False  \n",
      "43   child       False  NaN    Cherbourg   yes  False  \n",
      "58   child       False  NaN  Southampton   yes  False  \n",
      "119  child       False  NaN  Southampton    no  False  \n",
      "\n",
      "\n"
     ]
    }
   ],
   "source": [
    "# 나이가 10세 미만(0~9세)이고 여성인 승객만 따로 선택\n",
    "mask2 = (titanic.age < 10) & (titanic.sex == 'female')\n",
    "df_female_under10 = titanic.loc[mask2, :]\n",
    "print(df_female_under10.head())\n",
    "print('\\n')"
   ]
  },
  {
   "cell_type": "code",
   "execution_count": 366,
   "id": "9739714a",
   "metadata": {},
   "outputs": [
    {
     "name": "stdout",
     "output_type": "stream",
     "text": [
      "     age     sex  alone\n",
      "7    2.0    male  False\n",
      "10   4.0  female  False\n",
      "16   2.0    male  False\n",
      "24   8.0  female  False\n",
      "33  66.0    male   True\n"
     ]
    }
   ],
   "source": [
    "# 나이가 10세 미만(0~9세) 또는 60세 이상인 승객의 age, sex, alone 열만 선택\n",
    "mask3 = (titanic.age < 10) | (titanic.age >= 60)\n",
    "df_under10_morethan60 = titanic.loc[mask3, ['age', 'sex', 'alone']]\n",
    "print(df_under10_morethan60.head())"
   ]
  },
  {
   "cell_type": "markdown",
   "id": "fe5828df",
   "metadata": {},
   "source": [
    "### 6-10 isin() 메소드 활용 \n"
   ]
  },
  {
   "cell_type": "code",
   "execution_count": 372,
   "id": "44e8bbb8",
   "metadata": {},
   "outputs": [
    {
     "name": "stdout",
     "output_type": "stream",
     "text": [
      "    survived  pclass     sex   age  sibsp  ...  adult_male  deck  embark_town  \\\n",
      "7          0       3    male   2.0      3  ...       False   NaN  Southampton   \n",
      "16         0       3    male   2.0      4  ...       False   NaN   Queenstown   \n",
      "24         0       3  female   8.0      3  ...       False   NaN  Southampton   \n",
      "27         0       1    male  19.0      3  ...        True     C  Southampton   \n",
      "50         0       3    male   7.0      4  ...       False   NaN  Southampton   \n",
      "\n",
      "   alive  alone  \n",
      "7     no  False  \n",
      "16    no  False  \n",
      "24    no  False  \n",
      "27    no  False  \n",
      "50    no  False  \n",
      "\n",
      "[5 rows x 15 columns]\n",
      "\n",
      "\n"
     ]
    }
   ],
   "source": [
    "# titanic 데이터셋 로딩\n",
    "titanic = sns.load_dataset('titanic')\n",
    "\n",
    "# IPyhton 디스플레이 설정 변경 - 출력할 최대 열의 개수\n",
    "pd.set_option('display.max_columns', 10)  \n",
    "    \n",
    "# 함께 탑승한 형제 또는 배우자의 수가 3, 4, 5인 승객만 따로 추출 - 불린 인덱싱\n",
    "mask3 = titanic['sibsp'] == 3\n",
    "mask4 = titanic['sibsp'] == 4\n",
    "mask5 = titanic['sibsp'] == 5\n",
    "df_boolean = titanic[mask3 | mask4 | mask5]\n",
    "print(df_boolean.head())\n",
    "#print(info(df_boolean.))\n",
    "print('\\n')\n"
   ]
  },
  {
   "cell_type": "code",
   "execution_count": 371,
   "id": "e30edcdf",
   "metadata": {},
   "outputs": [
    {
     "name": "stdout",
     "output_type": "stream",
     "text": [
      "    survived  pclass     sex   age  sibsp  ...  adult_male  deck  embark_town  \\\n",
      "7          0       3    male   2.0      3  ...       False   NaN  Southampton   \n",
      "16         0       3    male   2.0      4  ...       False   NaN   Queenstown   \n",
      "24         0       3  female   8.0      3  ...       False   NaN  Southampton   \n",
      "27         0       1    male  19.0      3  ...        True     C  Southampton   \n",
      "50         0       3    male   7.0      4  ...       False   NaN  Southampton   \n",
      "\n",
      "   alive  alone  \n",
      "7     no  False  \n",
      "16    no  False  \n",
      "24    no  False  \n",
      "27    no  False  \n",
      "50    no  False  \n",
      "\n",
      "[5 rows x 15 columns]\n"
     ]
    }
   ],
   "source": [
    "# isin() 메서드 활용하여 동일한 조건으로 추출\n",
    "isin_filter = titanic['sibsp'].isin([3, 4, 5])\n",
    "df_isin = titanic[isin_filter]\n",
    "print(df_isin.head())\n"
   ]
  },
  {
   "cell_type": "markdown",
   "id": "eb692eed",
   "metadata": {},
   "source": [
    "## 6.11 : 4. 데이터 합치기 "
   ]
  },
  {
   "cell_type": "code",
   "execution_count": 376,
   "id": "b6153575",
   "metadata": {},
   "outputs": [],
   "source": [
    "# titanic 데이터셋 로딩\n",
    "titanic = sns.load_dataset('titanic')\n",
    "\n",
    "# IPyhton 디스플레이 설정 변경 - 출력할 최대 열의 개수\n",
    "pd.set_option('display.max_columns', 20)  "
   ]
  },
  {
   "cell_type": "code",
   "execution_count": 377,
   "id": "7a84d22b",
   "metadata": {},
   "outputs": [
    {
     "name": "stdout",
     "output_type": "stream",
     "text": [
      "    survived  pclass     sex   age  sibsp  parch      fare embarked  class  \\\n",
      "7          0       3    male   2.0      3      1   21.0750        S  Third   \n",
      "16         0       3    male   2.0      4      1   29.1250        Q  Third   \n",
      "24         0       3  female   8.0      3      1   21.0750        S  Third   \n",
      "27         0       1    male  19.0      3      2  263.0000        S  First   \n",
      "50         0       3    male   7.0      4      1   39.6875        S  Third   \n",
      "\n",
      "      who  adult_male deck  embark_town alive  alone  \n",
      "7   child       False  NaN  Southampton    no  False  \n",
      "16  child       False  NaN   Queenstown    no  False  \n",
      "24  child       False  NaN  Southampton    no  False  \n",
      "27    man        True    C  Southampton    no  False  \n",
      "50  child       False  NaN  Southampton    no  False  \n",
      "\n",
      "\n"
     ]
    }
   ],
   "source": [
    "# 함께 탑승한 형제 또는 배우자의 수가 3, 4, 5인 승객만 따로 추출 - 불린 인덱싱\n",
    "mask3 = titanic['sibsp'] == 3\n",
    "mask4 = titanic['sibsp'] == 4\n",
    "mask5 = titanic['sibsp'] == 5\n",
    "df_boolean = titanic[mask3 | mask4 | mask5]\n",
    "print(df_boolean.head())\n",
    "print('\\n')"
   ]
  },
  {
   "cell_type": "code",
   "execution_count": 378,
   "id": "54d800d7",
   "metadata": {},
   "outputs": [
    {
     "name": "stdout",
     "output_type": "stream",
     "text": [
      "    survived  pclass     sex   age  sibsp  parch      fare embarked  class  \\\n",
      "7          0       3    male   2.0      3      1   21.0750        S  Third   \n",
      "16         0       3    male   2.0      4      1   29.1250        Q  Third   \n",
      "24         0       3  female   8.0      3      1   21.0750        S  Third   \n",
      "27         0       1    male  19.0      3      2  263.0000        S  First   \n",
      "50         0       3    male   7.0      4      1   39.6875        S  Third   \n",
      "\n",
      "      who  adult_male deck  embark_town alive  alone  \n",
      "7   child       False  NaN  Southampton    no  False  \n",
      "16  child       False  NaN   Queenstown    no  False  \n",
      "24  child       False  NaN  Southampton    no  False  \n",
      "27    man        True    C  Southampton    no  False  \n",
      "50  child       False  NaN  Southampton    no  False  \n"
     ]
    }
   ],
   "source": [
    "# isin() 메서드 활용하여 동일한 조건으로 추출\n",
    "isin_filter = titanic['sibsp'].isin([3, 4, 5])\n",
    "df_isin = titanic[isin_filter]\n",
    "print(df_isin.head())\n"
   ]
  },
  {
   "cell_type": "markdown",
   "id": "9e1d4fd4",
   "metadata": {},
   "source": [
    "## 6-11 데이터 프레임 연결 2"
   ]
  },
  {
   "cell_type": "code",
   "execution_count": 379,
   "id": "8bd63c23",
   "metadata": {},
   "outputs": [
    {
     "name": "stdout",
     "output_type": "stream",
     "text": [
      "    a   b   c\n",
      "0  a0  b0  c0\n",
      "1  a1  b1  c1\n",
      "2  a2  b2  c2\n",
      "3  a3  b3  c3 \n",
      "\n",
      "    a   b   c   d\n",
      "2  a2  b2  c2  d2\n",
      "3  a3  b3  c3  d3\n",
      "4  a4  b4  c4  d4\n",
      "5  a5  b5  c5  d5 \n",
      "\n"
     ]
    }
   ],
   "source": [
    "# 데이터프레임 만들기\n",
    "df1 = pd.DataFrame({'a': ['a0', 'a1', 'a2', 'a3'],\n",
    "                    'b': ['b0', 'b1', 'b2', 'b3'],\n",
    "                    'c': ['c0', 'c1', 'c2', 'c3']},\n",
    "                    index=[0, 1, 2, 3])\n",
    " \n",
    "df2 = pd.DataFrame({'a': ['a2', 'a3', 'a4', 'a5'],\n",
    "                    'b': ['b2', 'b3', 'b4', 'b5'],\n",
    "                    'c': ['c2', 'c3', 'c4', 'c5'],\n",
    "                    'd': ['d2', 'd3', 'd4', 'd5']},\n",
    "                    index=[2, 3, 4, 5])\n",
    "\n",
    "print(df1, '\\n')\n",
    "print(df2, '\\n')"
   ]
  },
  {
   "cell_type": "code",
   "execution_count": 380,
   "id": "0768233f",
   "metadata": {},
   "outputs": [
    {
     "name": "stdout",
     "output_type": "stream",
     "text": [
      "    a   b   c    d\n",
      "0  a0  b0  c0  NaN\n",
      "1  a1  b1  c1  NaN\n",
      "2  a2  b2  c2  NaN\n",
      "3  a3  b3  c3  NaN\n",
      "2  a2  b2  c2   d2\n",
      "3  a3  b3  c3   d3\n",
      "4  a4  b4  c4   d4\n",
      "5  a5  b5  c5   d5 \n",
      "\n"
     ]
    }
   ],
   "source": [
    "# 2개의 데이터프레임을 위 아래 행 방향으로 이어 붙이듯 연결하기 \n",
    "result1 = pd.concat([df1, df2])\n",
    "print(result1, '\\n')"
   ]
  },
  {
   "cell_type": "code",
   "execution_count": 381,
   "id": "405649f7",
   "metadata": {},
   "outputs": [
    {
     "name": "stdout",
     "output_type": "stream",
     "text": [
      "    a   b   c    d\n",
      "0  a0  b0  c0  NaN\n",
      "1  a1  b1  c1  NaN\n",
      "2  a2  b2  c2  NaN\n",
      "3  a3  b3  c3  NaN\n",
      "4  a2  b2  c2   d2\n",
      "5  a3  b3  c3   d3\n",
      "6  a4  b4  c4   d4\n",
      "7  a5  b5  c5   d5 \n",
      "\n"
     ]
    }
   ],
   "source": [
    "# ignore_index=True 옵션 설정하기 \n",
    "result2 = pd.concat([df1, df2], ignore_index=True)\n",
    "print(result2, '\\n')"
   ]
  },
  {
   "cell_type": "code",
   "execution_count": 382,
   "id": "e7bcdab2",
   "metadata": {},
   "outputs": [
    {
     "name": "stdout",
     "output_type": "stream",
     "text": [
      "    a   b   c   a   b   c   d\n",
      "2  a2  b2  c2  a2  b2  c2  d2\n",
      "3  a3  b3  c3  a3  b3  c3  d3 \n",
      "\n"
     ]
    }
   ],
   "source": [
    "# join='inner' 옵션 적용하기(교집합)\n",
    "result3_in = pd.concat([df1, df2], axis=1, join='inner')\n",
    "print(result3_in, '\\n')"
   ]
  },
  {
   "cell_type": "code",
   "execution_count": 383,
   "id": "fc4732b1",
   "metadata": {},
   "outputs": [],
   "source": [
    "# 시리즈 만들기\n",
    "sr1 = pd.Series(['e0', 'e1', 'e2', 'e3'], name='e')\n",
    "sr2 = pd.Series(['f0', 'f1', 'f2'], name='f', index=[3, 4, 5])\n",
    "sr3 = pd.Series(['g0', 'g1', 'g2', 'g3'], name='g')"
   ]
  },
  {
   "cell_type": "code",
   "execution_count": 384,
   "id": "706051a0",
   "metadata": {},
   "outputs": [
    {
     "name": "stdout",
     "output_type": "stream",
     "text": [
      "    a   b   c   e\n",
      "0  a0  b0  c0  e0\n",
      "1  a1  b1  c1  e1\n",
      "2  a2  b2  c2  e2\n",
      "3  a3  b3  c3  e3 \n",
      "\n"
     ]
    }
   ],
   "source": [
    "# df1과 sr1을 좌우 열 방향으로 연결하기\n",
    "result4 = pd.concat([df1, sr1], axis=1)\n",
    "print(result4, '\\n')"
   ]
  },
  {
   "cell_type": "code",
   "execution_count": 385,
   "id": "08a1d4e9",
   "metadata": {},
   "outputs": [
    {
     "name": "stdout",
     "output_type": "stream",
     "text": [
      "    a   b   c   d    f\n",
      "2  a2  b2  c2  d2  NaN\n",
      "3  a3  b3  c3  d3   f0\n",
      "4  a4  b4  c4  d4   f1\n",
      "5  a5  b5  c5  d5   f2 \n",
      "\n"
     ]
    }
   ],
   "source": [
    "# df2과 sr2을 좌우 열 방향으로 연결하기\n",
    "result5 = pd.concat([df2, sr2], axis=1, sort=True)\n",
    "print(result5, '\\n')"
   ]
  },
  {
   "cell_type": "code",
   "execution_count": 386,
   "id": "6c18eab9",
   "metadata": {},
   "outputs": [
    {
     "name": "stdout",
     "output_type": "stream",
     "text": [
      "    e   g\n",
      "0  e0  g0\n",
      "1  e1  g1\n",
      "2  e2  g2\n",
      "3  e3  g3 \n",
      "\n"
     ]
    }
   ],
   "source": [
    "# sr1과 sr3을 좌우 열 방향으로 연결하기\n",
    "result6 = pd.concat([sr1, sr3], axis=1)\n",
    "print(result6, '\\n')"
   ]
  },
  {
   "cell_type": "code",
   "execution_count": 387,
   "id": "cb2ee272",
   "metadata": {},
   "outputs": [
    {
     "name": "stdout",
     "output_type": "stream",
     "text": [
      "0    e0\n",
      "1    e1\n",
      "2    e2\n",
      "3    e3\n",
      "0    g0\n",
      "1    g1\n",
      "2    g2\n",
      "3    g3\n",
      "dtype: object \n",
      "\n"
     ]
    }
   ],
   "source": [
    "result7 = pd.concat([sr1, sr3], axis=0)\n",
    "print(result7, '\\n')"
   ]
  },
  {
   "cell_type": "code",
   "execution_count": null,
   "id": "10269993",
   "metadata": {},
   "outputs": [],
   "source": []
  }
 ],
 "metadata": {
  "kernelspec": {
   "display_name": "Python 3 (ipykernel)",
   "language": "python",
   "name": "python3"
  },
  "language_info": {
   "codemirror_mode": {
    "name": "ipython",
    "version": 3
   },
   "file_extension": ".py",
   "mimetype": "text/x-python",
   "name": "python",
   "nbconvert_exporter": "python",
   "pygments_lexer": "ipython3",
   "version": "3.10.12"
  }
 },
 "nbformat": 4,
 "nbformat_minor": 5
}
