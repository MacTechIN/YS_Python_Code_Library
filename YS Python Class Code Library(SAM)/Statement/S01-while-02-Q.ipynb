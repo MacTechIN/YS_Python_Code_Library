{
 "cells": [
  {
   "cell_type": "raw",
   "id": "d5513c83",
   "metadata": {},
   "source": [
    "[문제] \n",
    "정기예금 복리계산\n",
    "원금 10만원, 이자가 연 10%, 만기 10년 복리로 계산하라.\n",
    "\n"
   ]
  },
  {
   "cell_type": "code",
   "execution_count": 17,
   "id": "563bdd80",
   "metadata": {},
   "outputs": [
    {
     "name": "stdout",
     "output_type": "stream",
     "text": [
      "2'st year - amount: 110000.0, interest : 10000.0\n",
      "3'st year - amount: 121000.0, interest : 11000.0\n",
      "4'st year - amount: 133100.0, interest : 12100.0\n",
      "5'st year - amount: 146410.0, interest : 13310.0\n",
      "6'st year - amount: 161051.0, interest : 14641.0\n",
      "7'st year - amount: 177156.1, interest : 16105.1\n",
      "8'st year - amount: 194871.71000000002, interest : 17715.61\n",
      "9'st year - amount: 214358.88100000002, interest : 19487.171000000002\n",
      "10'st year - amount: 235794.76910000003, interest : 21435.888100000004\n",
      "총 이자 : 21435.888100000004\n",
      "총 금액 : 235794.76910000003 \n"
     ]
    }
   ],
   "source": [
    "paid  = 100000\n",
    "total = paid\n",
    "last = 10\n",
    "interest =0.1\n",
    "cnt = 1 \n",
    "\n",
    "while cnt <10:\n",
    "    cost = total * interest \n",
    "    total += cost \n",
    "    cnt += 1 \n",
    "    print(f\"{cnt}'st year - amount: {total}, interest : {cost}\")\n",
    "\n",
    "print(f\"총 이자 : {cost}\")\n",
    "print(f\"총 금액 : {total} \")\n",
    "\n"
   ]
  },
  {
   "cell_type": "code",
   "execution_count": null,
   "id": "68ae3008",
   "metadata": {},
   "outputs": [],
   "source": []
  }
 ],
 "metadata": {
  "kernelspec": {
   "display_name": "Python 3 (ipykernel)",
   "language": "python",
   "name": "python3"
  },
  "language_info": {
   "codemirror_mode": {
    "name": "ipython",
    "version": 3
   },
   "file_extension": ".py",
   "mimetype": "text/x-python",
   "name": "python",
   "nbconvert_exporter": "python",
   "pygments_lexer": "ipython3",
   "version": "3.10.12"
  }
 },
 "nbformat": 4,
 "nbformat_minor": 5
}
