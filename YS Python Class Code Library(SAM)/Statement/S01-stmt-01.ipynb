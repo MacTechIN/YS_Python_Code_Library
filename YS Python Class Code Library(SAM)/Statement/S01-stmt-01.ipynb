{
 "cells": [
  {
   "cell_type": "markdown",
   "id": "c562dd0e",
   "metadata": {},
   "source": [
    "## If Statement"
   ]
  },
  {
   "cell_type": "code",
   "execution_count": 1,
   "id": "b0500252",
   "metadata": {},
   "outputs": [
    {
     "name": "stdout",
     "output_type": "stream",
     "text": [
      "참이다\n"
     ]
    }
   ],
   "source": [
    "#0이 아니면 참 \n",
    "money = -1 #참이다.(거짓아님 값이 존재 하기 때문에 참) \n",
    "\n",
    "if money : \n",
    "    print(\"참이다\")\n",
    "else:\n",
    "    print(\"거짓이다\")"
   ]
  },
  {
   "cell_type": "code",
   "execution_count": 2,
   "id": "37fd752a",
   "metadata": {},
   "outputs": [
    {
     "name": "stdout",
     "output_type": "stream",
     "text": [
      "참이다\n"
     ]
    }
   ],
   "source": [
    "#0이 아니면 참 \n",
    "money = 99\n",
    "\n",
    "if money : \n",
    "    print(\"참이다\")\n",
    "else:\n",
    "    print(\"거짓이다\")"
   ]
  },
  {
   "cell_type": "code",
   "execution_count": 3,
   "id": "2fe7c604",
   "metadata": {},
   "outputs": [
    {
     "name": "stdout",
     "output_type": "stream",
     "text": [
      "거짓이다\n"
     ]
    }
   ],
   "source": [
    "money = 0\n",
    "\n",
    "if money : \n",
    "    print(\"참이다\")\n",
    "else:\n",
    "    print(\"거짓이다\")"
   ]
  },
  {
   "cell_type": "markdown",
   "id": "653fb01a",
   "metadata": {},
   "source": [
    "### No2"
   ]
  },
  {
   "cell_type": "code",
   "execution_count": 4,
   "id": "f911cca6",
   "metadata": {},
   "outputs": [
    {
     "name": "stdout",
     "output_type": "stream",
     "text": [
      "It's True\n"
     ]
    }
   ],
   "source": [
    "money = False \n",
    "\n",
    "if money != True:\n",
    "    print(\"It's True\")\n",
    "else:\n",
    "    print(\"It's False\")"
   ]
  },
  {
   "cell_type": "code",
   "execution_count": 5,
   "id": "70e9a23e",
   "metadata": {},
   "outputs": [
    {
     "name": "stdout",
     "output_type": "stream",
     "text": [
      "It's True\n"
     ]
    }
   ],
   "source": [
    "money = False \n",
    "\n",
    "if money == False:\n",
    "    print(\"It's True\")\n",
    "else:\n",
    "    print(\"It's False\")"
   ]
  },
  {
   "cell_type": "code",
   "execution_count": 7,
   "id": "79b921bb",
   "metadata": {},
   "outputs": [
    {
     "name": "stdout",
     "output_type": "stream",
     "text": [
      "It's True\n"
     ]
    }
   ],
   "source": [
    "# 0,1의 표현은 권고하지 않음. \n",
    "money = 1 #1은 참, 0 은 거짓 이나. 사용하지 마라.  \n",
    "\n",
    "if money == True:\n",
    "    print(\"It's True\")\n",
    "else:\n",
    "    print(\"It's False\")"
   ]
  },
  {
   "cell_type": "code",
   "execution_count": 13,
   "id": "3285a685",
   "metadata": {},
   "outputs": [
    {
     "name": "stdout",
     "output_type": "stream",
     "text": [
      "I have money\n"
     ]
    }
   ],
   "source": [
    "money = \"1000\"\n",
    "\n",
    "if money:\n",
    "    print(\"I have money\")\n",
    "else:\n",
    "    print(\"I don't have money\")"
   ]
  },
  {
   "cell_type": "code",
   "execution_count": 12,
   "id": "713f409c",
   "metadata": {},
   "outputs": [
    {
     "name": "stdout",
     "output_type": "stream",
     "text": [
      "I don't have money\n"
     ]
    }
   ],
   "source": [
    "money = \"\" #None is 0 \n",
    "\n",
    "if money:\n",
    "    print(\"I have money\")\n",
    "else:\n",
    "    print(\"I don't have money\")"
   ]
  },
  {
   "cell_type": "code",
   "execution_count": 14,
   "id": "e13a0b4b",
   "metadata": {},
   "outputs": [
    {
     "name": "stdout",
     "output_type": "stream",
     "text": [
      "I don't have money\n"
     ]
    }
   ],
   "source": [
    "money = None \n",
    "\n",
    "if money:\n",
    "    print(\"I have money\")\n",
    "else:\n",
    "    print(\"I don't have money\")"
   ]
  },
  {
   "cell_type": "code",
   "execution_count": 16,
   "id": "30435b89",
   "metadata": {},
   "outputs": [
    {
     "name": "stdout",
     "output_type": "stream",
     "text": [
      "<class 'NoneType'>\n",
      "모른다\n"
     ]
    }
   ],
   "source": [
    "money = None #None은 참도 거짓도 아니다. \n",
    "\n",
    "print(type(money)) #Nonetype \n",
    "\n",
    "if money == True:\n",
    "    print(\"I have money\")\n",
    "elif money == False:\n",
    "    print(\"I don't have money\")\n",
    "else:\n",
    "    print(\"모른다\")"
   ]
  },
  {
   "cell_type": "markdown",
   "id": "7b0077aa",
   "metadata": {},
   "source": [
    "## [문제]  가진돈으로 음료수 구매\n",
    "조건 : 가지돈의 가장 비싼 음료수를 구매 \n",
    "1.돈이 1000원 미만면 생수를 산다.  \n",
    "2.돈이 2000원 미만이면 콜라를 산다. \n",
    "3.돈이 3000원 미만이면 사이다를 산다. \n",
    "4.돈이 4000원 이상이면 커피를 산다. "
   ]
  },
  {
   "cell_type": "code",
   "execution_count": 119,
   "id": "a5ae0ad1",
   "metadata": {},
   "outputs": [
    {
     "name": "stdout",
     "output_type": "stream",
     "text": [
      "사이다를 산다.\n"
     ]
    }
   ],
   "source": [
    "money = 3000\n",
    "\n",
    "if money >= 4000:\n",
    "    print(\"커피를 산다.\")\n",
    "elif money >=3000: \n",
    "    print('사이다를 산다.')\n",
    "elif money >=2000:\n",
    "    print('콜라를 산다')\n",
    "elif money >=1000:\n",
    "    print('생수를 산다')\n",
    "else :\n",
    "    print('아무것도 못산다')\n",
    "\n",
    "    "
   ]
  },
  {
   "cell_type": "code",
   "execution_count": 128,
   "id": "82c96cc8",
   "metadata": {},
   "outputs": [
    {
     "name": "stdout",
     "output_type": "stream",
     "text": [
      "생수를 산다\n"
     ]
    }
   ],
   "source": [
    "money = 1500\n",
    "if money < 1000:\n",
    "    print('못산다.')\n",
    "elif money < 2000:\n",
    "    print(\"생수를 산다\")\n",
    "elif money < 3000:\n",
    "    print(\"콜라를 산다.\")\n",
    "elif money < 4000:\n",
    "    print(\"사이다를 산다.\")\n",
    "else :\n",
    "    print(\"커피를 산다.\")"
   ]
  },
  {
   "cell_type": "markdown",
   "id": "494e54ea",
   "metadata": {},
   "source": [
    "    <!> 위에 문재에서 1000원 미만과 1000원 이상 처리하고, 가진 돈으로 구매할 수 있는 음료수를 선택 "
   ]
  },
  {
   "cell_type": "code",
   "execution_count": 129,
   "id": "45d4cf11",
   "metadata": {},
   "outputs": [
    {
     "name": "stdout",
     "output_type": "stream",
     "text": [
      "생수\n"
     ]
    }
   ],
   "source": [
    "m = 1999\n",
    "if m >= 1000:\n",
    "    if m<2000:\n",
    "        print(\"생수\")\n",
    "    elif m <3000:\n",
    "        print(\"콜라\")\n",
    "    elif m < 4000: \n",
    "        print(\"사이다\")\n",
    "        \n",
    "    else:\n",
    "        print('커피')\n"
   ]
  },
  {
   "cell_type": "code",
   "execution_count": null,
   "id": "6be79779",
   "metadata": {},
   "outputs": [],
   "source": [
    "    "
   ]
  },
  {
   "cell_type": "code",
   "execution_count": 130,
   "id": "ced6a61c",
   "metadata": {},
   "outputs": [
    {
     "name": "stdout",
     "output_type": "stream",
     "text": [
      "None은 거깃이다\n"
     ]
    }
   ],
   "source": [
    "thing = None\n",
    "\n",
    "if thing == True:\n",
    "    print(\"None은 참이다\")\n",
    "else:\n",
    "    print(\"None은 거깃이다\")"
   ]
  },
  {
   "cell_type": "code",
   "execution_count": null,
   "id": "65c607a2",
   "metadata": {
    "collapsed": true
   },
   "outputs": [],
   "source": [
    "if thing === True :\n",
    "    print(\"None은 참이다\")\n",
    "elif thing == False:\n",
    "    print(\"None은 거깃이다\")\n",
    "else:\n",
    "    print(\"모른다\")\n",
    "    #결과는 모른다,"
   ]
  },
  {
   "cell_type": "code",
   "execution_count": 132,
   "id": "7f4e20d9",
   "metadata": {},
   "outputs": [
    {
     "name": "stdout",
     "output_type": "stream",
     "text": [
      "thing is None\n"
     ]
    }
   ],
   "source": [
    "thing = None\n",
    "\n",
    "if thing is None:\n",
    "    print(\"thing is None\")\n",
    "else :\n",
    "    print(\"thing is not None\")"
   ]
  },
  {
   "cell_type": "code",
   "execution_count": null,
   "id": "05ad6bbe",
   "metadata": {},
   "outputs": [],
   "source": []
  },
  {
   "cell_type": "code",
   "execution_count": null,
   "id": "126580f8",
   "metadata": {},
   "outputs": [],
   "source": []
  },
  {
   "cell_type": "code",
   "execution_count": null,
   "id": "a050a304",
   "metadata": {},
   "outputs": [],
   "source": []
  },
  {
   "cell_type": "code",
   "execution_count": null,
   "id": "a9bc311b",
   "metadata": {},
   "outputs": [],
   "source": []
  },
  {
   "cell_type": "code",
   "execution_count": null,
   "id": "82826f25",
   "metadata": {},
   "outputs": [],
   "source": []
  },
  {
   "cell_type": "code",
   "execution_count": null,
   "id": "26bde8f6",
   "metadata": {},
   "outputs": [],
   "source": []
  },
  {
   "cell_type": "code",
   "execution_count": null,
   "id": "3e62cc12",
   "metadata": {},
   "outputs": [],
   "source": []
  },
  {
   "cell_type": "code",
   "execution_count": null,
   "id": "54076ebc",
   "metadata": {},
   "outputs": [],
   "source": []
  },
  {
   "cell_type": "code",
   "execution_count": null,
   "id": "eb46b7cd",
   "metadata": {},
   "outputs": [],
   "source": []
  },
  {
   "cell_type": "code",
   "execution_count": null,
   "id": "169626a5",
   "metadata": {},
   "outputs": [],
   "source": []
  },
  {
   "cell_type": "code",
   "execution_count": null,
   "id": "dea4f099",
   "metadata": {},
   "outputs": [],
   "source": []
  },
  {
   "cell_type": "code",
   "execution_count": null,
   "id": "465b3912",
   "metadata": {},
   "outputs": [],
   "source": []
  },
  {
   "cell_type": "code",
   "execution_count": null,
   "id": "f5d395dd",
   "metadata": {},
   "outputs": [],
   "source": []
  },
  {
   "cell_type": "code",
   "execution_count": null,
   "id": "e6eb57f4",
   "metadata": {},
   "outputs": [],
   "source": []
  },
  {
   "cell_type": "code",
   "execution_count": null,
   "id": "a782c177",
   "metadata": {},
   "outputs": [],
   "source": []
  },
  {
   "cell_type": "code",
   "execution_count": null,
   "id": "a482f259",
   "metadata": {},
   "outputs": [],
   "source": []
  },
  {
   "cell_type": "code",
   "execution_count": null,
   "id": "854b5236",
   "metadata": {},
   "outputs": [],
   "source": []
  },
  {
   "cell_type": "code",
   "execution_count": null,
   "id": "5551c0f4",
   "metadata": {},
   "outputs": [],
   "source": []
  },
  {
   "cell_type": "code",
   "execution_count": null,
   "id": "90a95c19",
   "metadata": {},
   "outputs": [],
   "source": []
  }
 ],
 "metadata": {
  "kernelspec": {
   "display_name": "Python 3 (ipykernel)",
   "language": "python",
   "name": "python3"
  },
  "language_info": {
   "codemirror_mode": {
    "name": "ipython",
    "version": 3
   },
   "file_extension": ".py",
   "mimetype": "text/x-python",
   "name": "python",
   "nbconvert_exporter": "python",
   "pygments_lexer": "ipython3",
   "version": "3.10.12"
  }
 },
 "nbformat": 4,
 "nbformat_minor": 5
}
