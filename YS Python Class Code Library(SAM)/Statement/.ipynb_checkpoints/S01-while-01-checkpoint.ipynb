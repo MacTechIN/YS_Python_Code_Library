{
 "cells": [
  {
   "cell_type": "markdown",
   "id": "b244501a",
   "metadata": {},
   "source": [
    "# 반복문 : while \n",
    "\n"
   ]
  },
  {
   "cell_type": "raw",
   "id": "31ab211b",
   "metadata": {},
   "source": [
    "1부터 10까지의 합을 구하라 \n",
    "i = 1 부터 5까지 증가 시키면서 \n",
    "증가값을 출력하고 증가값의 합을 구해라 "
   ]
  },
  {
   "cell_type": "code",
   "execution_count": 11,
   "id": "1b8b032f",
   "metadata": {},
   "outputs": [
    {
     "name": "stdout",
     "output_type": "stream",
     "text": [
      "i (11) = 합(11)\n"
     ]
    }
   ],
   "source": [
    "i = 10\n",
    "s = 0 \n",
    "\n",
    "##5번 반복 \n",
    "i += 1\n",
    "s += i\n",
    "\n",
    "print (f'i ({i}) = 합({s})')\n",
    "\n",
    "#RPA Robotic Process Automation - 비지니스 프로세스 자동화 기술 \n",
    "# 상품 : UIPath \n",
    "# 섬성 : 브리티 RPA \n",
    "# Zapire \n",
    "# \n"
   ]
  },
  {
   "cell_type": "code",
   "execution_count": 13,
   "id": "859fab9a",
   "metadata": {
    "collapsed": true
   },
   "outputs": [
    {
     "name": "stdout",
     "output_type": "stream",
     "text": [
      "i (1) = 합(1)\n",
      "i (2) = 합(3)\n",
      "i (3) = 합(6)\n",
      "i (4) = 합(10)\n",
      "i (5) = 합(15)\n",
      "i (6) = 합(21)\n",
      "i (7) = 합(28)\n",
      "i (8) = 합(36)\n",
      "i (9) = 합(45)\n",
      "i (10) = 합(55)\n",
      "i (11) = 합(66)\n",
      "i (12) = 합(78)\n",
      "i (13) = 합(91)\n",
      "i (14) = 합(105)\n",
      "i (15) = 합(120)\n",
      "i (16) = 합(136)\n",
      "i (17) = 합(153)\n",
      "i (18) = 합(171)\n",
      "i (19) = 합(190)\n",
      "i (20) = 합(210)\n",
      "i (21) = 합(231)\n",
      "i (22) = 합(253)\n",
      "i (23) = 합(276)\n",
      "i (24) = 합(300)\n",
      "i (25) = 합(325)\n",
      "i (26) = 합(351)\n",
      "i (27) = 합(378)\n",
      "i (28) = 합(406)\n",
      "i (29) = 합(435)\n",
      "i (30) = 합(465)\n",
      "i (31) = 합(496)\n",
      "i (32) = 합(528)\n",
      "i (33) = 합(561)\n",
      "i (34) = 합(595)\n",
      "i (35) = 합(630)\n",
      "i (36) = 합(666)\n",
      "i (37) = 합(703)\n",
      "i (38) = 합(741)\n",
      "i (39) = 합(780)\n",
      "i (40) = 합(820)\n",
      "i (41) = 합(861)\n",
      "i (42) = 합(903)\n",
      "i (43) = 합(946)\n",
      "i (44) = 합(990)\n",
      "i (45) = 합(1035)\n",
      "i (46) = 합(1081)\n",
      "i (47) = 합(1128)\n",
      "i (48) = 합(1176)\n",
      "i (49) = 합(1225)\n",
      "i (50) = 합(1275)\n",
      "i (51) = 합(1326)\n",
      "i (52) = 합(1378)\n",
      "i (53) = 합(1431)\n",
      "i (54) = 합(1485)\n",
      "i (55) = 합(1540)\n",
      "i (56) = 합(1596)\n",
      "i (57) = 합(1653)\n",
      "i (58) = 합(1711)\n",
      "i (59) = 합(1770)\n",
      "i (60) = 합(1830)\n",
      "i (61) = 합(1891)\n",
      "i (62) = 합(1953)\n",
      "i (63) = 합(2016)\n",
      "i (64) = 합(2080)\n",
      "i (65) = 합(2145)\n",
      "i (66) = 합(2211)\n",
      "i (67) = 합(2278)\n",
      "i (68) = 합(2346)\n",
      "i (69) = 합(2415)\n",
      "i (70) = 합(2485)\n",
      "i (71) = 합(2556)\n",
      "i (72) = 합(2628)\n",
      "i (73) = 합(2701)\n",
      "i (74) = 합(2775)\n",
      "i (75) = 합(2850)\n",
      "i (76) = 합(2926)\n",
      "i (77) = 합(3003)\n",
      "i (78) = 합(3081)\n",
      "i (79) = 합(3160)\n",
      "i (80) = 합(3240)\n",
      "i (81) = 합(3321)\n",
      "i (82) = 합(3403)\n",
      "i (83) = 합(3486)\n",
      "i (84) = 합(3570)\n",
      "i (85) = 합(3655)\n",
      "i (86) = 합(3741)\n",
      "i (87) = 합(3828)\n",
      "i (88) = 합(3916)\n",
      "i (89) = 합(4005)\n",
      "i (90) = 합(4095)\n",
      "i (91) = 합(4186)\n",
      "i (92) = 합(4278)\n",
      "i (93) = 합(4371)\n",
      "i (94) = 합(4465)\n",
      "i (95) = 합(4560)\n",
      "i (96) = 합(4656)\n",
      "i (97) = 합(4753)\n",
      "i (98) = 합(4851)\n",
      "i (99) = 합(4950)\n",
      "i (100) = 합(5050)\n",
      "i(100) = 합(5050)\n"
     ]
    }
   ],
   "source": [
    "last = 100\n",
    "i = 0 \n",
    "s = 0\n",
    "\n",
    "while i < last: \n",
    "    i += 1 \n",
    "    s +=i \n",
    "    print (f'i ({i}) = 합({s})')\n",
    "\n",
    "print (f'i({i}) = 합({s})')"
   ]
  },
  {
   "cell_type": "code",
   "execution_count": 17,
   "id": "e828a0c5",
   "metadata": {},
   "outputs": [
    {
     "name": "stdout",
     "output_type": "stream",
     "text": [
      "i (1) = 합(1)\n",
      "i (2) = 합(3)\n",
      "i (3) = 합(6)\n",
      "i (4) = 합(10)\n",
      "i (5) = 합(15)\n",
      "i(5) = 합(15)\n"
     ]
    }
   ],
   "source": [
    "last = 5\n",
    "i = 0 \n",
    "s = 0\n",
    "\n",
    "while True: # while i>=last  와 동일함  While 무한 루프에 break 조건문  \n",
    "    if i >= last:\n",
    "        break\n",
    "    i += 1 \n",
    "    s +=i \n",
    "    print (f'i ({i}) = 합({s})')\n",
    "\n",
    "print (f'i({i}) = 합({s})')"
   ]
  },
  {
   "cell_type": "code",
   "execution_count": 24,
   "id": "b31050bb",
   "metadata": {},
   "outputs": [
    {
     "ename": "IndentationError",
     "evalue": "unexpected indent (782821616.py, line 8)",
     "output_type": "error",
     "traceback": [
      "\u001b[0;36m  Cell \u001b[0;32mIn[24], line 8\u001b[0;36m\u001b[0m\n\u001b[0;31m    if i >10:\u001b[0m\n\u001b[0m    ^\u001b[0m\n\u001b[0;31mIndentationError\u001b[0m\u001b[0;31m:\u001b[0m unexpected indent\n"
     ]
    }
   ],
   "source": [
    "last = 5\n",
    "i = 0\n",
    "s = 0\n",
    "\n",
    "while True: # while i>=last  와 동일함  While 무한 루프에 break 조건문  \n",
    "    \n",
    "    i += 1 \n",
    "    if i >10:\n",
    "        break\n",
    "    s +=i \n",
    "    print (f'i ({i}) = 합({s})')\n",
    "  \n",
    "    \n",
    "print (f'i({i}) = 합({s})')"
   ]
  },
  {
   "cell_type": "code",
   "execution_count": null,
   "id": "e4cb65b9",
   "metadata": {},
   "outputs": [],
   "source": []
  }
 ],
 "metadata": {
  "kernelspec": {
   "display_name": "Python 3 (ipykernel)",
   "language": "python",
   "name": "python3"
  },
  "language_info": {
   "codemirror_mode": {
    "name": "ipython",
    "version": 3
   },
   "file_extension": ".py",
   "mimetype": "text/x-python",
   "name": "python",
   "nbconvert_exporter": "python",
   "pygments_lexer": "ipython3",
   "version": "3.10.12"
  }
 },
 "nbformat": 4,
 "nbformat_minor": 5
}
