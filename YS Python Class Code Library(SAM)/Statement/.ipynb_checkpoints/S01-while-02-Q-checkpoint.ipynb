{
 "cells": [
  {
   "cell_type": "raw",
   "id": "4485c7c0",
   "metadata": {},
   "source": [
    "[문제] \n",
    "정기예금 복리계산\n",
    "원금 10만원, 이자가 연 10%, 만기 10년 복리로 계산하라.\n",
    "\n"
   ]
  },
  {
   "cell_type": "code",
   "execution_count": null,
   "id": "b43037d4",
   "metadata": {},
   "outputs": [],
   "source": [
    "amount = 100000\n",
    "\n",
    "year = 0 \n",
    "while year >=10 \n",
    "\n"
   ]
  }
 ],
 "metadata": {
  "kernelspec": {
   "display_name": "Python 3 (ipykernel)",
   "language": "python",
   "name": "python3"
  },
  "language_info": {
   "codemirror_mode": {
    "name": "ipython",
    "version": 3
   },
   "file_extension": ".py",
   "mimetype": "text/x-python",
   "name": "python",
   "nbconvert_exporter": "python",
   "pygments_lexer": "ipython3",
   "version": "3.10.12"
  }
 },
 "nbformat": 4,
 "nbformat_minor": 5
}
