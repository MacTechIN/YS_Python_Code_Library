{
 "cells": [
  {
   "cell_type": "markdown",
   "id": "1351c540",
   "metadata": {},
   "source": [
    "## If Statement"
   ]
  },
  {
   "cell_type": "code",
   "execution_count": 1,
   "id": "d152d0e9",
   "metadata": {},
   "outputs": [
    {
     "name": "stdout",
     "output_type": "stream",
     "text": [
      "참이다\n"
     ]
    }
   ],
   "source": [
    "#0이 아니면 참 \n",
    "money = -1 #참이다.(거짓아님 값이 존재 하기 때문에 참) \n",
    "\n",
    "if money : \n",
    "    print(\"참이다\")\n",
    "else:\n",
    "    print(\"거짓이다\")"
   ]
  },
  {
   "cell_type": "code",
   "execution_count": 2,
   "id": "f2d6dd91",
   "metadata": {},
   "outputs": [
    {
     "name": "stdout",
     "output_type": "stream",
     "text": [
      "참이다\n"
     ]
    }
   ],
   "source": [
    "#0이 아니면 참 \n",
    "money = 99\n",
    "\n",
    "if money : \n",
    "    print(\"참이다\")\n",
    "else:\n",
    "    print(\"거짓이다\")"
   ]
  },
  {
   "cell_type": "code",
   "execution_count": 3,
   "id": "dcc08883",
   "metadata": {},
   "outputs": [
    {
     "name": "stdout",
     "output_type": "stream",
     "text": [
      "거짓이다\n"
     ]
    }
   ],
   "source": [
    "money = 0\n",
    "\n",
    "if money : \n",
    "    print(\"참이다\")\n",
    "else:\n",
    "    print(\"거짓이다\")"
   ]
  },
  {
   "cell_type": "markdown",
   "id": "80bc27f3",
   "metadata": {},
   "source": [
    "### No2"
   ]
  },
  {
   "cell_type": "code",
   "execution_count": 4,
   "id": "e733374b",
   "metadata": {},
   "outputs": [
    {
     "name": "stdout",
     "output_type": "stream",
     "text": [
      "It's True\n"
     ]
    }
   ],
   "source": [
    "money = False \n",
    "\n",
    "if money != True:\n",
    "    print(\"It's True\")\n",
    "else:\n",
    "    print(\"It's False\")"
   ]
  },
  {
   "cell_type": "code",
   "execution_count": 5,
   "id": "d7067de4",
   "metadata": {},
   "outputs": [
    {
     "name": "stdout",
     "output_type": "stream",
     "text": [
      "It's True\n"
     ]
    }
   ],
   "source": [
    "money = False \n",
    "\n",
    "if money == False:\n",
    "    print(\"It's True\")\n",
    "else:\n",
    "    print(\"It's False\")"
   ]
  },
  {
   "cell_type": "code",
   "execution_count": 7,
   "id": "8bf9744c",
   "metadata": {},
   "outputs": [
    {
     "name": "stdout",
     "output_type": "stream",
     "text": [
      "It's True\n"
     ]
    }
   ],
   "source": [
    "# 0,1의 표현은 권고하지 않음. \n",
    "money = 1 #1은 참, 0 은 거짓 이나. 사용하지 마라.  \n",
    "\n",
    "if money == True:\n",
    "    print(\"It's True\")\n",
    "else:\n",
    "    print(\"It's False\")"
   ]
  },
  {
   "cell_type": "code",
   "execution_count": 13,
   "id": "98546425",
   "metadata": {},
   "outputs": [
    {
     "name": "stdout",
     "output_type": "stream",
     "text": [
      "I have money\n"
     ]
    }
   ],
   "source": [
    "money = \"1000\"\n",
    "\n",
    "if money:\n",
    "    print(\"I have money\")\n",
    "else:\n",
    "    print(\"I don't have money\")"
   ]
  },
  {
   "cell_type": "code",
   "execution_count": 12,
   "id": "bc9a4e51",
   "metadata": {},
   "outputs": [
    {
     "name": "stdout",
     "output_type": "stream",
     "text": [
      "I don't have money\n"
     ]
    }
   ],
   "source": [
    "money = \"\" #None is 0 \n",
    "\n",
    "if money:\n",
    "    print(\"I have money\")\n",
    "else:\n",
    "    print(\"I don't have money\")"
   ]
  },
  {
   "cell_type": "code",
   "execution_count": 14,
   "id": "2876de96",
   "metadata": {},
   "outputs": [
    {
     "name": "stdout",
     "output_type": "stream",
     "text": [
      "I don't have money\n"
     ]
    }
   ],
   "source": [
    "money = None \n",
    "\n",
    "if money:\n",
    "    print(\"I have money\")\n",
    "else:\n",
    "    print(\"I don't have money\")"
   ]
  },
  {
   "cell_type": "code",
   "execution_count": 16,
   "id": "d2ba5e03",
   "metadata": {},
   "outputs": [
    {
     "name": "stdout",
     "output_type": "stream",
     "text": [
      "<class 'NoneType'>\n",
      "모른다\n"
     ]
    }
   ],
   "source": [
    "money = None #None은 참도 거짓도 아니다. \n",
    "\n",
    "print(type(money)) #Nonetype \n",
    "\n",
    "if money == True:\n",
    "    print(\"I have money\")\n",
    "elif money == False:\n",
    "    print(\"I don't have money\")\n",
    "else:\n",
    "    print(\"모른다\")"
   ]
  },
  {
   "cell_type": "markdown",
   "id": "548e3ffa",
   "metadata": {},
   "source": [
    "## [문제]  가진돈으로 음료수 구매\n",
    "조건 : 가지돈의 가장 비싼 음료수를 구매 \n",
    "1.돈이 1000원 미만면 생수를 산다.  \n",
    "2.돈이 2000원 미만이면 콜라를 산다. \n",
    "3.돈이 3000원 미만이면 사이다를 산다. \n",
    "4.돈이 4000원 이상이면 커피를 산다. "
   ]
  },
  {
   "cell_type": "code",
   "execution_count": 119,
   "id": "d207374d",
   "metadata": {},
   "outputs": [
    {
     "name": "stdout",
     "output_type": "stream",
     "text": [
      "사이다를 산다.\n"
     ]
    }
   ],
   "source": [
    "money = 3000\n",
    "\n",
    "if money >= 4000:\n",
    "    print(\"커피를 산다.\")\n",
    "elif money >=3000: \n",
    "    print('사이다를 산다.')\n",
    "elif money >=2000:\n",
    "    print('콜라를 산다')\n",
    "elif money >=1000:\n",
    "    print('생수를 산다')\n",
    "else :\n",
    "    print('아무것도 못산다')\n",
    "\n",
    "    "
   ]
  },
  {
   "cell_type": "code",
   "execution_count": 128,
   "id": "a084cd18",
   "metadata": {},
   "outputs": [
    {
     "name": "stdout",
     "output_type": "stream",
     "text": [
      "생수를 산다\n"
     ]
    }
   ],
   "source": [
    "money = 1500\n",
    "if money < 1000:\n",
    "    print('못산다.')\n",
    "elif money < 2000:\n",
    "    print(\"생수를 산다\")\n",
    "elif money < 3000:\n",
    "    print(\"콜라를 산다.\")\n",
    "elif money < 4000:\n",
    "    print(\"사이다를 산다.\")\n",
    "else :\n",
    "    print(\"커피를 산다.\")"
   ]
  },
  {
   "cell_type": "code",
   "execution_count": null,
   "id": "2daffd01",
   "metadata": {},
   "outputs": [],
   "source": []
  },
  {
   "cell_type": "code",
   "execution_count": null,
   "id": "6677cd28",
   "metadata": {},
   "outputs": [],
   "source": []
  },
  {
   "cell_type": "code",
   "execution_count": null,
   "id": "8ff12808",
   "metadata": {},
   "outputs": [],
   "source": []
  },
  {
   "cell_type": "code",
   "execution_count": null,
   "id": "39a2dd0a",
   "metadata": {},
   "outputs": [],
   "source": []
  },
  {
   "cell_type": "code",
   "execution_count": null,
   "id": "446c23cc",
   "metadata": {},
   "outputs": [],
   "source": []
  },
  {
   "cell_type": "code",
   "execution_count": null,
   "id": "1b054828",
   "metadata": {},
   "outputs": [],
   "source": []
  },
  {
   "cell_type": "code",
   "execution_count": null,
   "id": "3c242983",
   "metadata": {},
   "outputs": [],
   "source": []
  },
  {
   "cell_type": "code",
   "execution_count": null,
   "id": "f89f4646",
   "metadata": {},
   "outputs": [],
   "source": []
  },
  {
   "cell_type": "code",
   "execution_count": null,
   "id": "370f7a76",
   "metadata": {},
   "outputs": [],
   "source": []
  },
  {
   "cell_type": "code",
   "execution_count": null,
   "id": "bc426bad",
   "metadata": {},
   "outputs": [],
   "source": []
  },
  {
   "cell_type": "code",
   "execution_count": null,
   "id": "a392c98f",
   "metadata": {},
   "outputs": [],
   "source": []
  },
  {
   "cell_type": "code",
   "execution_count": null,
   "id": "22dac3a2",
   "metadata": {},
   "outputs": [],
   "source": []
  },
  {
   "cell_type": "code",
   "execution_count": null,
   "id": "e0ff7d46",
   "metadata": {},
   "outputs": [],
   "source": []
  },
  {
   "cell_type": "code",
   "execution_count": null,
   "id": "9eb62125",
   "metadata": {},
   "outputs": [],
   "source": []
  },
  {
   "cell_type": "code",
   "execution_count": null,
   "id": "a5ad3501",
   "metadata": {},
   "outputs": [],
   "source": []
  },
  {
   "cell_type": "code",
   "execution_count": null,
   "id": "b8f5f8a5",
   "metadata": {},
   "outputs": [],
   "source": []
  },
  {
   "cell_type": "code",
   "execution_count": null,
   "id": "ee8e4c27",
   "metadata": {},
   "outputs": [],
   "source": []
  },
  {
   "cell_type": "code",
   "execution_count": null,
   "id": "5d8062ad",
   "metadata": {},
   "outputs": [],
   "source": []
  },
  {
   "cell_type": "code",
   "execution_count": null,
   "id": "aa590d84",
   "metadata": {},
   "outputs": [],
   "source": []
  },
  {
   "cell_type": "code",
   "execution_count": null,
   "id": "58fd5e56",
   "metadata": {},
   "outputs": [],
   "source": []
  },
  {
   "cell_type": "code",
   "execution_count": null,
   "id": "33112c45",
   "metadata": {},
   "outputs": [],
   "source": []
  },
  {
   "cell_type": "code",
   "execution_count": null,
   "id": "752ffe21",
   "metadata": {},
   "outputs": [],
   "source": []
  },
  {
   "cell_type": "code",
   "execution_count": null,
   "id": "36d5010e",
   "metadata": {},
   "outputs": [],
   "source": []
  },
  {
   "cell_type": "code",
   "execution_count": null,
   "id": "c5e89cee",
   "metadata": {},
   "outputs": [],
   "source": []
  },
  {
   "cell_type": "code",
   "execution_count": null,
   "id": "a8668802",
   "metadata": {},
   "outputs": [],
   "source": []
  }
 ],
 "metadata": {
  "kernelspec": {
   "display_name": "Python 3 (ipykernel)",
   "language": "python",
   "name": "python3"
  },
  "language_info": {
   "codemirror_mode": {
    "name": "ipython",
    "version": 3
   },
   "file_extension": ".py",
   "mimetype": "text/x-python",
   "name": "python",
   "nbconvert_exporter": "python",
   "pygments_lexer": "ipython3",
   "version": "3.10.12"
  }
 },
 "nbformat": 4,
 "nbformat_minor": 5
}
