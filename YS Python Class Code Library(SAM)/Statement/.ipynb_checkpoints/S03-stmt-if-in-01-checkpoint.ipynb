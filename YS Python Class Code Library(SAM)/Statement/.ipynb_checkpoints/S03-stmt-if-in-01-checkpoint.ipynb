{
 "cells": [
  {
   "cell_type": "markdown",
   "id": "f37c8762",
   "metadata": {},
   "source": [
    "## 해당하는 자료형에 x값을 가지고 있는가?\n",
    "\n",
    "x in list\n",
    "x in tuple \n",
    "x in String "
   ]
  },
  {
   "cell_type": "code",
   "execution_count": 3,
   "id": "39fe1a14",
   "metadata": {
    "scrolled": true
   },
   "outputs": [
    {
     "name": "stdout",
     "output_type": "stream",
     "text": [
      "(7)is included on list [1, 3, 5, 7, 9]\n"
     ]
    }
   ],
   "source": [
    "# List \n",
    "a = [1,3,5,7,9]\n",
    "\n",
    "x = 7 \n",
    "\n",
    "if x in a:\n",
    "    print(f'({x})is included on list {a}')\n",
    "else: \n",
    "    print(f'({x})is not included on list {a}')"
   ]
  },
  {
   "cell_type": "code",
   "execution_count": 4,
   "id": "9585cd20",
   "metadata": {
    "scrolled": true
   },
   "outputs": [
    {
     "name": "stdout",
     "output_type": "stream",
     "text": [
      "(7)is included on tuple (1, 3, 5, 7, 9)\n"
     ]
    }
   ],
   "source": [
    "# Tuple \n",
    "\n",
    "a = (1,3,5,7,9)\n",
    "\n",
    "x = 7 \n",
    "\n",
    "if x in a:\n",
    "    print(f'({x})is included on tuple {a}')\n",
    "else: \n",
    "    print(f'({x})is not included on tuple {a}')"
   ]
  },
  {
   "cell_type": "code",
   "execution_count": null,
   "id": "9a26db81",
   "metadata": {},
   "outputs": [],
   "source": []
  }
 ],
 "metadata": {
  "kernelspec": {
   "display_name": "Python 3 (ipykernel)",
   "language": "python",
   "name": "python3"
  },
  "language_info": {
   "codemirror_mode": {
    "name": "ipython",
    "version": 3
   },
   "file_extension": ".py",
   "mimetype": "text/x-python",
   "name": "python",
   "nbconvert_exporter": "python",
   "pygments_lexer": "ipython3",
   "version": "3.10.12"
  }
 },
 "nbformat": 4,
 "nbformat_minor": 5
}
