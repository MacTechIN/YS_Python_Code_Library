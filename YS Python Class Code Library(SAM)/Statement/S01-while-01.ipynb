{
 "cells": [
  {
   "cell_type": "markdown",
   "id": "bdac91a6",
   "metadata": {},
   "source": [
    "# 반복문 : while \n",
    "\n"
   ]
  },
  {
   "cell_type": "raw",
   "id": "cb4ae351",
   "metadata": {},
   "source": [
    "1부터 10까지의 합을 구하라 \n",
    "i = 1 부터 5까지 증가 시키면서 \n",
    "증가값을 출력하고 증가값의 합을 구해라 "
   ]
  },
  {
   "cell_type": "code",
   "execution_count": 11,
   "id": "ac8df78c",
   "metadata": {},
   "outputs": [
    {
     "name": "stdout",
     "output_type": "stream",
     "text": [
      "i (11) = 합(11)\n"
     ]
    }
   ],
   "source": [
    "i = 10\n",
    "s = 0 \n",
    "\n",
    "##5번 반복 \n",
    "i += 1\n",
    "s += i\n",
    "\n",
    "print (f'i ({i}) = 합({s})')\n",
    "\n",
    "#RPA Robotic Process Automation - 비지니스 프로세스 자동화 기술 \n",
    "# 상품 : UIPath \n",
    "# 섬성 : 브리티 RPA \n",
    "# Zapire \n",
    "# \n"
   ]
  },
  {
   "cell_type": "code",
   "execution_count": 13,
   "id": "1749f1ca",
   "metadata": {
    "collapsed": true
   },
   "outputs": [
    {
     "name": "stdout",
     "output_type": "stream",
     "text": [
      "i (1) = 합(1)\n",
      "i (2) = 합(3)\n",
      "i (3) = 합(6)\n",
      "i (4) = 합(10)\n",
      "i (5) = 합(15)\n",
      "i (6) = 합(21)\n",
      "i (7) = 합(28)\n",
      "i (8) = 합(36)\n",
      "i (9) = 합(45)\n",
      "i (10) = 합(55)\n",
      "i (11) = 합(66)\n",
      "i (12) = 합(78)\n",
      "i (13) = 합(91)\n",
      "i (14) = 합(105)\n",
      "i (15) = 합(120)\n",
      "i (16) = 합(136)\n",
      "i (17) = 합(153)\n",
      "i (18) = 합(171)\n",
      "i (19) = 합(190)\n",
      "i (20) = 합(210)\n",
      "i (21) = 합(231)\n",
      "i (22) = 합(253)\n",
      "i (23) = 합(276)\n",
      "i (24) = 합(300)\n",
      "i (25) = 합(325)\n",
      "i (26) = 합(351)\n",
      "i (27) = 합(378)\n",
      "i (28) = 합(406)\n",
      "i (29) = 합(435)\n",
      "i (30) = 합(465)\n",
      "i (31) = 합(496)\n",
      "i (32) = 합(528)\n",
      "i (33) = 합(561)\n",
      "i (34) = 합(595)\n",
      "i (35) = 합(630)\n",
      "i (36) = 합(666)\n",
      "i (37) = 합(703)\n",
      "i (38) = 합(741)\n",
      "i (39) = 합(780)\n",
      "i (40) = 합(820)\n",
      "i (41) = 합(861)\n",
      "i (42) = 합(903)\n",
      "i (43) = 합(946)\n",
      "i (44) = 합(990)\n",
      "i (45) = 합(1035)\n",
      "i (46) = 합(1081)\n",
      "i (47) = 합(1128)\n",
      "i (48) = 합(1176)\n",
      "i (49) = 합(1225)\n",
      "i (50) = 합(1275)\n",
      "i (51) = 합(1326)\n",
      "i (52) = 합(1378)\n",
      "i (53) = 합(1431)\n",
      "i (54) = 합(1485)\n",
      "i (55) = 합(1540)\n",
      "i (56) = 합(1596)\n",
      "i (57) = 합(1653)\n",
      "i (58) = 합(1711)\n",
      "i (59) = 합(1770)\n",
      "i (60) = 합(1830)\n",
      "i (61) = 합(1891)\n",
      "i (62) = 합(1953)\n",
      "i (63) = 합(2016)\n",
      "i (64) = 합(2080)\n",
      "i (65) = 합(2145)\n",
      "i (66) = 합(2211)\n",
      "i (67) = 합(2278)\n",
      "i (68) = 합(2346)\n",
      "i (69) = 합(2415)\n",
      "i (70) = 합(2485)\n",
      "i (71) = 합(2556)\n",
      "i (72) = 합(2628)\n",
      "i (73) = 합(2701)\n",
      "i (74) = 합(2775)\n",
      "i (75) = 합(2850)\n",
      "i (76) = 합(2926)\n",
      "i (77) = 합(3003)\n",
      "i (78) = 합(3081)\n",
      "i (79) = 합(3160)\n",
      "i (80) = 합(3240)\n",
      "i (81) = 합(3321)\n",
      "i (82) = 합(3403)\n",
      "i (83) = 합(3486)\n",
      "i (84) = 합(3570)\n",
      "i (85) = 합(3655)\n",
      "i (86) = 합(3741)\n",
      "i (87) = 합(3828)\n",
      "i (88) = 합(3916)\n",
      "i (89) = 합(4005)\n",
      "i (90) = 합(4095)\n",
      "i (91) = 합(4186)\n",
      "i (92) = 합(4278)\n",
      "i (93) = 합(4371)\n",
      "i (94) = 합(4465)\n",
      "i (95) = 합(4560)\n",
      "i (96) = 합(4656)\n",
      "i (97) = 합(4753)\n",
      "i (98) = 합(4851)\n",
      "i (99) = 합(4950)\n",
      "i (100) = 합(5050)\n",
      "i(100) = 합(5050)\n"
     ]
    }
   ],
   "source": [
    "last = 100\n",
    "i = 0 \n",
    "s = 0\n",
    "\n",
    "while i < last: \n",
    "    i += 1 \n",
    "    s +=i \n",
    "    print (f'i ({i}) = 합({s})')\n",
    "\n",
    "print (f'i({i}) = 합({s})')"
   ]
  },
  {
   "cell_type": "code",
   "execution_count": 17,
   "id": "edaacdbf",
   "metadata": {},
   "outputs": [
    {
     "name": "stdout",
     "output_type": "stream",
     "text": [
      "i (1) = 합(1)\n",
      "i (2) = 합(3)\n",
      "i (3) = 합(6)\n",
      "i (4) = 합(10)\n",
      "i (5) = 합(15)\n",
      "i(5) = 합(15)\n"
     ]
    }
   ],
   "source": [
    "last = 5\n",
    "i = 0 \n",
    "s = 0\n",
    "\n",
    "while True: # while i>=last  와 동일함  While 무한 루프에 break 조건문  \n",
    "    if i >= last:\n",
    "        break\n",
    "    i += 1 \n",
    "    s +=i \n",
    "    print (f'i ({i}) = 합({s})')\n",
    "\n",
    "print (f'i({i}) = 합({s})')"
   ]
  },
  {
   "cell_type": "code",
   "execution_count": 25,
   "id": "dba9da81",
   "metadata": {},
   "outputs": [
    {
     "name": "stdout",
     "output_type": "stream",
     "text": [
      "i (1) = 합(1)\n",
      "i (2) = 합(3)\n",
      "i (3) = 합(6)\n",
      "i (4) = 합(10)\n",
      "i (5) = 합(15)\n",
      "i (6) = 합(21)\n",
      "i (7) = 합(28)\n",
      "i (8) = 합(36)\n",
      "i (9) = 합(45)\n",
      "i (10) = 합(55)\n",
      "i(11) = 합(55)\n"
     ]
    }
   ],
   "source": [
    "last = 5\n",
    "i = 0\n",
    "s = 0\n",
    "\n",
    "while True: # while i>=last  와 동일함  While 무한 루프에 break 조건문  \n",
    "    \n",
    "    i += 1 \n",
    "    if i >10: #i i10이상이 되면 정지(11) \n",
    "        break ## i = 11 되면 정지\n",
    "    s +=i \n",
    "    print (f'i ({i}) = 합({s})')\n",
    "  \n",
    "    \n",
    "print (f'i({i}) = 합({s})')"
   ]
  },
  {
   "cell_type": "code",
   "execution_count": 29,
   "id": "f2607ac7",
   "metadata": {
    "collapsed": true
   },
   "outputs": [
    {
     "name": "stdout",
     "output_type": "stream",
     "text": [
      "2\n",
      "6\n",
      "12\n",
      "20\n",
      "30\n",
      "42\n",
      "56\n",
      "72\n",
      "90\n",
      "110\n",
      "132\n",
      "156\n",
      "182\n",
      "210\n",
      "240\n",
      "272\n",
      "306\n",
      "342\n",
      "380\n",
      "420\n",
      "462\n",
      "506\n",
      "552\n",
      "600\n",
      "650\n",
      "702\n",
      "756\n",
      "812\n",
      "870\n",
      "930\n",
      "992\n",
      "1056\n",
      "1122\n",
      "1190\n",
      "1260\n",
      "1332\n",
      "1406\n",
      "1482\n",
      "1560\n",
      "1640\n",
      "1722\n",
      "1806\n",
      "1892\n",
      "1980\n",
      "2070\n",
      "2162\n",
      "2256\n",
      "2352\n",
      "2450\n",
      "2550\n",
      "2550\n"
     ]
    }
   ],
   "source": [
    "i = 0\n",
    "s = 0 \n",
    "\n",
    "while i<100:\n",
    "    i+=1\n",
    "    if 0==i%2:\n",
    "        s+=i\n",
    "        print(s)\n",
    "\n",
    "print(s)"
   ]
  },
  {
   "cell_type": "code",
   "execution_count": 61,
   "id": "4db5bddf",
   "metadata": {},
   "outputs": [
    {
     "name": "stdout",
     "output_type": "stream",
     "text": [
      "2550\n"
     ]
    }
   ],
   "source": [
    "i = 1\n",
    "e = 0 \n",
    "\n",
    "while i<=100:\n",
    "    if i%2 == 0:\n",
    "        e += i\n",
    "\n",
    "    i+=1 \n",
    "\n",
    "print(e)"
   ]
  },
  {
   "cell_type": "code",
   "execution_count": 72,
   "id": "3775af45",
   "metadata": {},
   "outputs": [
    {
     "name": "stdout",
     "output_type": "stream",
     "text": [
      "1\n",
      "3\n",
      "5\n",
      "7\n",
      "9\n",
      "홀수의합 25\n"
     ]
    }
   ],
   "source": [
    "i = 1\n",
    "o = 0\n",
    "\n",
    "while i < 10:\n",
    "    print(f\"{i}\")\n",
    "    o += i\n",
    "    i += 2\n",
    "\n",
    "print(f\"홀수의합 {o}\")\n"
   ]
  },
  {
   "cell_type": "code",
   "execution_count": 71,
   "id": "d60b6c89",
   "metadata": {},
   "outputs": [
    {
     "name": "stdout",
     "output_type": "stream",
     "text": [
      "0\n",
      "2\n",
      "4\n",
      "6\n",
      "8\n",
      "짝수의합 30\n"
     ]
    }
   ],
   "source": [
    "i = 0\n",
    "e = 0\n",
    "\n",
    "while i < 10:\n",
    "    print(f\"{i}\")\n",
    "    i += 2\n",
    "    e += i\n",
    "    \n",
    "print(f'짝수의합 {e}')"
   ]
  },
  {
   "cell_type": "code",
   "execution_count": 81,
   "id": "65a5bcb2",
   "metadata": {},
   "outputs": [
    {
     "name": "stdout",
     "output_type": "stream",
     "text": [
      "Total 166833\n"
     ]
    }
   ],
   "source": [
    "i = 0\n",
    "s = 0\n",
    "\n",
    "while i < 1000:\n",
    "    i+=1\n",
    "    if (i%3 == 0):\n",
    "        s+=i\n",
    "print(\"Total\",s)"
   ]
  },
  {
   "cell_type": "code",
   "execution_count": 90,
   "id": "4bd5dab3",
   "metadata": {},
   "outputs": [
    {
     "name": "stdout",
     "output_type": "stream",
     "text": [
      "*\n",
      "**\n",
      "***\n",
      "****\n",
      "*****\n",
      "******\n",
      "*******\n",
      "********\n",
      "*********\n",
      "**********\n",
      "*********\n",
      "********\n",
      "*******\n",
      "******\n",
      "*****\n",
      "****\n",
      "***\n",
      "**\n",
      "*\n",
      "\n"
     ]
    }
   ],
   "source": [
    "i = 0 \n",
    "while i <10:\n",
    "    i+=1\n",
    "    print(\"*\"*i)\n",
    "\n",
    "i = 10\n",
    "while i>0:\n",
    "    i= i - 1\n",
    "    print(\"*\"*(i))"
   ]
  },
  {
   "cell_type": "code",
   "execution_count": null,
   "id": "c1c62084",
   "metadata": {},
   "outputs": [],
   "source": []
  }
 ],
 "metadata": {
  "kernelspec": {
   "display_name": "Python 3 (ipykernel)",
   "language": "python",
   "name": "python3"
  },
  "language_info": {
   "codemirror_mode": {
    "name": "ipython",
    "version": 3
   },
   "file_extension": ".py",
   "mimetype": "text/x-python",
   "name": "python",
   "nbconvert_exporter": "python",
   "pygments_lexer": "ipython3",
   "version": "3.10.12"
  }
 },
 "nbformat": 4,
 "nbformat_minor": 5
}
