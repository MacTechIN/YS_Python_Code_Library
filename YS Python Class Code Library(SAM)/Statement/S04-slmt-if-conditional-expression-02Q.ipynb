{
 "cells": [
  {
   "cell_type": "markdown",
   "id": "b340d39e",
   "metadata": {},
   "source": [
    "# 조건부 연산자 \n",
    "\n",
    "- 조건부 연산자 (Conditional expression) \n",
    "- 변수(variable) = 변수 = 참 if 조건 else 거짓 "
   ]
  },
  {
   "cell_type": "code",
   "execution_count": null,
   "id": "ce868f12",
   "metadata": {},
   "outputs": [],
   "source": []
  },
  {
   "cell_type": "code",
   "execution_count": null,
   "id": "0c217d3f",
   "metadata": {},
   "outputs": [],
   "source": []
  },
  {
   "cell_type": "code",
   "execution_count": 6,
   "id": "64ee57a8",
   "metadata": {},
   "outputs": [
    {
     "name": "stdout",
     "output_type": "stream",
     "text": [
      "10는 10보다 큰가? True\n"
     ]
    }
   ],
   "source": [
    "\n",
    "x = 10 \n",
    "y = True if x >= 10 else False\n",
    "\n",
    "print(f\"{x}는 10보다 큰가? {y}\")"
   ]
  },
  {
   "cell_type": "code",
   "execution_count": 7,
   "id": "062da8c5",
   "metadata": {},
   "outputs": [
    {
     "name": "stdout",
     "output_type": "stream",
     "text": [
      "(10)는 (11)보다 큰가? False\n"
     ]
    }
   ],
   "source": [
    "x = 10 \n",
    "y = 11\n",
    "z = True if x >= y else False\n",
    "\n",
    "print(f\"({x})는 ({y})보다 큰가? {z}\")"
   ]
  },
  {
   "cell_type": "markdown",
   "id": "6d476669",
   "metadata": {},
   "source": [
    "## Java expression\n",
    "boolean z = (x<y) ? ture : flase "
   ]
  },
  {
   "cell_type": "markdown",
   "id": "fa62e388",
   "metadata": {},
   "source": [
    "[문제] 점수에 때른 등급을 부여 한다. \n",
    "조건 : \n",
    " - 점수의 범위는 0 점에서 100점 사이여야 한다.\n",
    " - 범위를 넘어서면 \"잘못된 점수\" 라고 출력한다. \n",
    " \n",
    " A등급 : 90점 이상\n",
    " B등급 : 80점 이상\n",
    " C등급 : 70점 이상\n",
    " D등급 : 60점 이상\n",
    " E등급 : 60점 미만 \n",
    "\n",
    "<조건> 일반 if 문으로 처리 , conditional experssion 으로 처리 \n"
   ]
  },
  {
   "cell_type": "code",
   "execution_count": 93,
   "id": "8a4a9933",
   "metadata": {},
   "outputs": [
    {
     "name": "stdout",
     "output_type": "stream",
     "text": [
      "E등급\n"
     ]
    }
   ],
   "source": [
    "s = 50\n",
    "if score >100 or score <=0:\n",
    "    print(\"잘못된 점수\")\n",
    "else:\n",
    "    if s > 90:\n",
    "        print(\"A등급 \") \n",
    "    elif s >80:\n",
    "        print(\"B등급\")\n",
    "    elif s >70:\n",
    "        print(\"C등급\")\n",
    "    elif s >60:\n",
    "        print(\"D등급\")\n",
    "    else:\n",
    "        print(\"E등급\")"
   ]
  },
  {
   "cell_type": "code",
   "execution_count": 94,
   "id": "5a70a821",
   "metadata": {},
   "outputs": [
    {
     "name": "stdout",
     "output_type": "stream",
     "text": [
      "E등급 입니다.\n"
     ]
    }
   ],
   "source": [
    "\n",
    "print(\"잘못된입력\")    if s >100 else \\\n",
    "print(\"A등급 입니다.\") if s > 90 else \\\n",
    "print(\"B등급 입니다.\") if s > 80 else \\\n",
    "print(\"C등급 입니다.\") if s > 70 else \\\n",
    "print(\"D등급 입니다.\") if s > 60 else \\\n",
    "print(\"E등급 입니다.\") if s > 0  else \\\n",
    "print('잘못된 입력')\n"
   ]
  },
  {
   "cell_type": "code",
   "execution_count": 95,
   "id": "d47fb893",
   "metadata": {},
   "outputs": [
    {
     "ename": "SyntaxError",
     "evalue": "expected 'else' after 'if' expression (227453413.py, line 4)",
     "output_type": "error",
     "traceback": [
      "\u001b[0;36m  Cell \u001b[0;32mIn[95], line 4\u001b[0;36m\u001b[0m\n\u001b[0;31m    grade = 'A' if score >= 90 and score <=100\u001b[0m\n\u001b[0m            ^\u001b[0m\n\u001b[0;31mSyntaxError\u001b[0m\u001b[0;31m:\u001b[0m expected 'else' after 'if' expression\n"
     ]
    }
   ],
   "source": [
    "score = 10 \n",
    "grade = None\n",
    "\n",
    "grade = 'A' if score >= 90 and score <=100\\\n",
    "    else  \n",
    "\n"
   ]
  }
 ],
 "metadata": {
  "kernelspec": {
   "display_name": "Python 3 (ipykernel)",
   "language": "python",
   "name": "python3"
  },
  "language_info": {
   "codemirror_mode": {
    "name": "ipython",
    "version": 3
   },
   "file_extension": ".py",
   "mimetype": "text/x-python",
   "name": "python",
   "nbconvert_exporter": "python",
   "pygments_lexer": "ipython3",
   "version": "3.10.12"
  }
 },
 "nbformat": 4,
 "nbformat_minor": 5
}
