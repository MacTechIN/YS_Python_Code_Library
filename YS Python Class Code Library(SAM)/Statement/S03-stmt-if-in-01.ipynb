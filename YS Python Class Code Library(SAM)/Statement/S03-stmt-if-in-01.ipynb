{
 "cells": [
  {
   "cell_type": "markdown",
   "id": "08f79288",
   "metadata": {},
   "source": [
    "## 해당하는 자료형에 x값을 가지고 있는가?\n",
    "\n",
    "1. x in list\n",
    "2. x in tuple \n",
    "3. x in String "
   ]
  },
  {
   "cell_type": "code",
   "execution_count": 3,
   "id": "87c0bdc9",
   "metadata": {
    "scrolled": true
   },
   "outputs": [
    {
     "name": "stdout",
     "output_type": "stream",
     "text": [
      "(7)is included on list [1, 3, 5, 7, 9]\n"
     ]
    }
   ],
   "source": [
    "# List \n",
    "a = [1,3,5,7,9]\n",
    "\n",
    "x = 7 \n",
    "\n",
    "if x in a:\n",
    "    print(f'({x})is included on list {a}')\n",
    "else: \n",
    "    print(f'({x})is not included on list {a}')"
   ]
  },
  {
   "cell_type": "code",
   "execution_count": 4,
   "id": "cefa8071",
   "metadata": {
    "scrolled": true
   },
   "outputs": [
    {
     "name": "stdout",
     "output_type": "stream",
     "text": [
      "(7)is included on tuple (1, 3, 5, 7, 9)\n"
     ]
    }
   ],
   "source": [
    "# Tuple \n",
    "\n",
    "a = (1,3,5,7,9)\n",
    "\n",
    "x = 7 \n",
    "\n",
    "if x in a:\n",
    "    print(f'({x})is included on tuple {a}')\n",
    "else: \n",
    "    print(f'({x})is not included on tuple {a}')"
   ]
  },
  {
   "cell_type": "code",
   "execution_count": 7,
   "id": "3b5598ce",
   "metadata": {},
   "outputs": [
    {
     "name": "stdout",
     "output_type": "stream",
     "text": [
      "(7)is included on the tuple\n"
     ]
    }
   ],
   "source": [
    "x = 7 \n",
    "if x in (1,3,5,7,9):\n",
    "   print(f'({x})is included on the tuple')\n",
    "else :\n",
    "    print(f'({x})is not included on the tuple')"
   ]
  },
  {
   "cell_type": "code",
   "execution_count": 8,
   "id": "b4e38a64",
   "metadata": {},
   "outputs": [
    {
     "name": "stdout",
     "output_type": "stream",
     "text": [
      "(8)is not included on the tuple\n"
     ]
    }
   ],
   "source": [
    "x = 8\n",
    "if x in (1,3,5,7,9):\n",
    "   print(f'({x})is included on the tuple')\n",
    "else :\n",
    "    print(f'({x})is not included on the tuple')"
   ]
  },
  {
   "cell_type": "code",
   "execution_count": null,
   "id": "189f380c",
   "metadata": {},
   "outputs": [],
   "source": []
  },
  {
   "cell_type": "code",
   "execution_count": null,
   "id": "bacfc402",
   "metadata": {},
   "outputs": [],
   "source": []
  },
  {
   "cell_type": "code",
   "execution_count": null,
   "id": "795e82c9",
   "metadata": {},
   "outputs": [],
   "source": []
  },
  {
   "cell_type": "code",
   "execution_count": null,
   "id": "529d4d0d",
   "metadata": {},
   "outputs": [],
   "source": []
  },
  {
   "cell_type": "code",
   "execution_count": null,
   "id": "55b0fa6c",
   "metadata": {},
   "outputs": [],
   "source": []
  },
  {
   "cell_type": "code",
   "execution_count": null,
   "id": "5c2a860b",
   "metadata": {},
   "outputs": [],
   "source": []
  },
  {
   "cell_type": "code",
   "execution_count": null,
   "id": "4fbbc3d3",
   "metadata": {},
   "outputs": [],
   "source": []
  },
  {
   "cell_type": "code",
   "execution_count": null,
   "id": "21adec23",
   "metadata": {},
   "outputs": [],
   "source": []
  },
  {
   "cell_type": "code",
   "execution_count": null,
   "id": "4da7974c",
   "metadata": {},
   "outputs": [],
   "source": []
  }
 ],
 "metadata": {
  "kernelspec": {
   "display_name": "Python 3 (ipykernel)",
   "language": "python",
   "name": "python3"
  },
  "language_info": {
   "codemirror_mode": {
    "name": "ipython",
    "version": 3
   },
   "file_extension": ".py",
   "mimetype": "text/x-python",
   "name": "python",
   "nbconvert_exporter": "python",
   "pygments_lexer": "ipython3",
   "version": "3.10.12"
  }
 },
 "nbformat": 4,
 "nbformat_minor": 5
}
