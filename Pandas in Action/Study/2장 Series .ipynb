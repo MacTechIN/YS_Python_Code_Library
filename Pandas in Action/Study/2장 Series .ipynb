{
 "cells": [
  {
   "cell_type": "markdown",
   "id": "3a3b99ed",
   "metadata": {},
   "source": [
    "## Chapter 2 - Series 객체 "
   ]
  },
  {
   "cell_type": "code",
   "execution_count": 4,
   "id": "5fbfc459",
   "metadata": {},
   "outputs": [],
   "source": [
    "import pandas as pd\n",
    "import numpy as np"
   ]
  },
  {
   "cell_type": "code",
   "execution_count": 5,
   "id": "16b6d192",
   "metadata": {},
   "outputs": [
    {
     "data": {
      "text/plain": [
       "Series([], dtype: object)"
      ]
     },
     "execution_count": 5,
     "metadata": {},
     "output_type": "execute_result"
    }
   ],
   "source": [
    "# pd.attribut , np.attribut 식으로 접근할수 있다. \n",
    "pd.Series() "
   ]
  },
  {
   "cell_type": "code",
   "execution_count": 6,
   "id": "c27dde82",
   "metadata": {},
   "outputs": [],
   "source": [
    "#Series 생성자의 첫번째 인자는 반복가능한 데이터 객체, 리스트,딕셔너리, 튜플, ndarray 입니다. \n",
    "iceCreamFlavors= [\"Chocolate\", \"Vanilla\", \"Strawberry\", \"Rum Raisin\"] #리스트형 \n"
   ]
  },
  {
   "cell_type": "code",
   "execution_count": 7,
   "id": "a5d1e7e9",
   "metadata": {},
   "outputs": [
    {
     "data": {
      "text/plain": [
       "0     Chocolate\n",
       "1       Vanilla\n",
       "2    Strawberry\n",
       "3    Rum Raisin\n",
       "dtype: object"
      ]
     },
     "execution_count": 7,
     "metadata": {},
     "output_type": "execute_result"
    }
   ],
   "source": [
    "# Series 함수 인자값을 넣는 방법 1 \n",
    "pd.Series(iceCreamFlavors) "
   ]
  },
  {
   "cell_type": "code",
   "execution_count": 8,
   "id": "ba4b4c33",
   "metadata": {},
   "outputs": [
    {
     "data": {
      "text/plain": [
       "0     Chocolate\n",
       "1       Vanilla\n",
       "2    Strawberry\n",
       "3    Rum Raisin\n",
       "dtype: object"
      ]
     },
     "execution_count": 8,
     "metadata": {},
     "output_type": "execute_result"
    }
   ],
   "source": [
    "# 인자값에 'data ='' 를 사용해도 된다. \n",
    "pd.Series(data = iceCreamFlavors) "
   ]
  },
  {
   "cell_type": "code",
   "execution_count": 9,
   "id": "b1258ba4",
   "metadata": {},
   "outputs": [
    {
     "data": {
      "text/plain": [
       "Mon     Chocolate\n",
       "Wed       Vanilla\n",
       "Fri    Strawberry\n",
       "Sat    Rum Raisin\n",
       "dtype: object"
      ]
     },
     "execution_count": 9,
     "metadata": {},
     "output_type": "execute_result"
    }
   ],
   "source": [
    "#기본 인덱스는 0~ 시작하는 위치 인덱스임 \n",
    "# 사용자 정의 인덱스를 정할수 있음 \n",
    "\n",
    "daysOfWeek = (\"Mon\", \"Wed\",\"Fri\", \"Sat\")\n",
    "\n",
    "pd.Series(iceCreamFlavors, daysOfWeek)"
   ]
  },
  {
   "cell_type": "code",
   "execution_count": 10,
   "id": "11bd6545",
   "metadata": {},
   "outputs": [
    {
     "data": {
      "text/plain": [
       "Mon     Chocolate\n",
       "Wed       Vanilla\n",
       "Fri    Strawberry\n",
       "Sat    Rum Raisin\n",
       "dtype: object"
      ]
     },
     "execution_count": 10,
     "metadata": {},
     "output_type": "execute_result"
    }
   ],
   "source": [
    "# index = 표기해주는 것도 식별하기 좋다. \n",
    "pd.Series(iceCreamFlavors, index = daysOfWeek)"
   ]
  },
  {
   "cell_type": "code",
   "execution_count": 11,
   "id": "89298e0c",
   "metadata": {},
   "outputs": [],
   "source": [
    "myNum = [23,45,13,31,18,22,38]"
   ]
  },
  {
   "cell_type": "code",
   "execution_count": 12,
   "id": "f22a002e",
   "metadata": {},
   "outputs": [],
   "source": [
    "myNumSeries = pd.Series(myNum, dtype=\"float\")"
   ]
  },
  {
   "cell_type": "code",
   "execution_count": 13,
   "id": "ba7d61ee",
   "metadata": {},
   "outputs": [
    {
     "name": "stdout",
     "output_type": "stream",
     "text": [
      "0    23.0\n",
      "1    45.0\n",
      "2    13.0\n",
      "3    31.0\n",
      "4    18.0\n",
      "5    22.0\n",
      "6    38.0\n",
      "dtype: float64\n"
     ]
    }
   ],
   "source": [
    "print(myNumSeries)"
   ]
  },
  {
   "cell_type": "markdown",
   "id": "150aa0a5",
   "metadata": {},
   "source": [
    "### 2.1.4 NaN Not a Number"
   ]
  },
  {
   "cell_type": "code",
   "execution_count": 14,
   "id": "bdd1b68c",
   "metadata": {},
   "outputs": [],
   "source": [
    "temp = [94,88, np.nan, 91]"
   ]
  },
  {
   "cell_type": "code",
   "execution_count": 15,
   "id": "680a95e7",
   "metadata": {
    "scrolled": true
   },
   "outputs": [
    {
     "data": {
      "text/plain": [
       "0    94.0\n",
       "1    88.0\n",
       "2     NaN\n",
       "3    91.0\n",
       "dtype: float64"
      ]
     },
     "execution_count": 15,
     "metadata": {},
     "output_type": "execute_result"
    }
   ],
   "source": [
    "pd.Series(temp)"
   ]
  },
  {
   "cell_type": "markdown",
   "id": "d6869302",
   "metadata": {},
   "source": [
    "## 2.2  객체에서 Series생성\n"
   ]
  },
  {
   "cell_type": "code",
   "execution_count": 16,
   "id": "576e020c",
   "metadata": {},
   "outputs": [],
   "source": [
    "#딕셔너리= Key:Value \n",
    "cal_Info = {\"Cereal\": 125, \"Chocolate Bar\":406, \"Ice Cream Sundae\":342}"
   ]
  },
  {
   "cell_type": "code",
   "execution_count": 17,
   "id": "9313f93f",
   "metadata": {},
   "outputs": [],
   "source": [
    "#Series 생성 하기 \n",
    "\n",
    "cals = pd.Series(cal_Info)"
   ]
  },
  {
   "cell_type": "code",
   "execution_count": 18,
   "id": "b2d3345e",
   "metadata": {},
   "outputs": [
    {
     "data": {
      "text/plain": [
       "Cereal              125\n",
       "Chocolate Bar       406\n",
       "Ice Cream Sundae    342\n",
       "dtype: int64"
      ]
     },
     "execution_count": 18,
     "metadata": {},
     "output_type": "execute_result"
    }
   ],
   "source": [
    "cals\n",
    "#Key -> Index가 된다. "
   ]
  },
  {
   "cell_type": "code",
   "execution_count": 19,
   "id": "faab9210",
   "metadata": {},
   "outputs": [
    {
     "data": {
      "text/plain": [
       "0     (120, 41, 26)\n",
       "1    (196, 165, 43)\n",
       "dtype: object"
      ]
     },
     "execution_count": 19,
     "metadata": {},
     "output_type": "execute_result"
    }
   ],
   "source": [
    "rgbColors=[(120,41,26), (196,165,43)]\n",
    "pd.Series(data=rgbColors)"
   ]
  },
  {
   "cell_type": "code",
   "execution_count": 20,
   "id": "84e73a3d",
   "metadata": {},
   "outputs": [],
   "source": [
    "dict_data ={\"c0\": [1,2,3], \"c1\": [4,5,6], \"c2\":[7,8,9], \"c3\":[10,11,12]}"
   ]
  },
  {
   "cell_type": "code",
   "execution_count": 21,
   "id": "502bf8f7",
   "metadata": {},
   "outputs": [],
   "source": [
    "sr1 = pd.Series(dict_data)"
   ]
  },
  {
   "cell_type": "code",
   "execution_count": 22,
   "id": "7d4e338d",
   "metadata": {},
   "outputs": [
    {
     "name": "stdout",
     "output_type": "stream",
     "text": [
      "c0       [1, 2, 3]\n",
      "c1       [4, 5, 6]\n",
      "c2       [7, 8, 9]\n",
      "c3    [10, 11, 12]\n",
      "dtype: object\n"
     ]
    }
   ],
   "source": [
    "print(sr1)"
   ]
  },
  {
   "cell_type": "code",
   "execution_count": 23,
   "id": "0131694e",
   "metadata": {},
   "outputs": [],
   "source": [
    "df = pd.DataFrame(dict_data)"
   ]
  },
  {
   "cell_type": "code",
   "execution_count": 24,
   "id": "b8a3bb2b",
   "metadata": {},
   "outputs": [
    {
     "name": "stdout",
     "output_type": "stream",
     "text": [
      "   c0  c1  c2  c3\n",
      "0   1   4   7  10\n",
      "1   2   5   8  11\n",
      "2   3   6   9  12\n"
     ]
    }
   ],
   "source": [
    "print(df)"
   ]
  },
  {
   "cell_type": "code",
   "execution_count": 25,
   "id": "a834e1f0",
   "metadata": {},
   "outputs": [
    {
     "data": {
      "text/plain": [
       "array([125, 406, 342])"
      ]
     },
     "execution_count": 25,
     "metadata": {},
     "output_type": "execute_result"
    }
   ],
   "source": [
    "cals.values"
   ]
  },
  {
   "cell_type": "code",
   "execution_count": 26,
   "id": "7643ca48",
   "metadata": {},
   "outputs": [
    {
     "data": {
      "text/plain": [
       "Cereal              125\n",
       "Chocolate Bar       406\n",
       "Ice Cream Sundae    342\n",
       "dtype: int64"
      ]
     },
     "execution_count": 26,
     "metadata": {},
     "output_type": "execute_result"
    }
   ],
   "source": [
    "cals"
   ]
  },
  {
   "cell_type": "code",
   "execution_count": 27,
   "id": "00014454",
   "metadata": {},
   "outputs": [
    {
     "data": {
      "text/plain": [
       "numpy.ndarray"
      ]
     },
     "execution_count": 27,
     "metadata": {},
     "output_type": "execute_result"
    }
   ],
   "source": [
    "type(cals.values)"
   ]
  },
  {
   "cell_type": "code",
   "execution_count": 28,
   "id": "20842791",
   "metadata": {},
   "outputs": [
    {
     "data": {
      "text/plain": [
       "Index(['Cereal', 'Chocolate Bar', 'Ice Cream Sundae'], dtype='object')"
      ]
     },
     "execution_count": 28,
     "metadata": {},
     "output_type": "execute_result"
    }
   ],
   "source": [
    "cals.index"
   ]
  },
  {
   "cell_type": "code",
   "execution_count": 29,
   "id": "5f4a8aa5",
   "metadata": {},
   "outputs": [
    {
     "data": {
      "text/plain": [
       "pandas.core.indexes.base.Index"
      ]
     },
     "execution_count": 29,
     "metadata": {},
     "output_type": "execute_result"
    }
   ],
   "source": [
    "type (cals.index)"
   ]
  },
  {
   "cell_type": "code",
   "execution_count": 30,
   "id": "a9aa376e",
   "metadata": {},
   "outputs": [
    {
     "data": {
      "text/plain": [
       "dtype('int64')"
      ]
     },
     "execution_count": 30,
     "metadata": {},
     "output_type": "execute_result"
    }
   ],
   "source": [
    "cals.dtype"
   ]
  },
  {
   "cell_type": "code",
   "execution_count": 31,
   "id": "44c213b3",
   "metadata": {},
   "outputs": [
    {
     "data": {
      "text/plain": [
       "3"
      ]
     },
     "execution_count": 31,
     "metadata": {},
     "output_type": "execute_result"
    }
   ],
   "source": [
    "cals.size"
   ]
  },
  {
   "cell_type": "code",
   "execution_count": 32,
   "id": "dd985fa8",
   "metadata": {},
   "outputs": [
    {
     "data": {
      "text/plain": [
       "(3,)"
      ]
     },
     "execution_count": 32,
     "metadata": {},
     "output_type": "execute_result"
    }
   ],
   "source": [
    "cals.shape"
   ]
  },
  {
   "cell_type": "code",
   "execution_count": 33,
   "id": "d9b11ce2",
   "metadata": {},
   "outputs": [
    {
     "data": {
      "text/plain": [
       "True"
      ]
     },
     "execution_count": 33,
     "metadata": {},
     "output_type": "execute_result"
    }
   ],
   "source": [
    "cals.is_unique"
   ]
  },
  {
   "cell_type": "code",
   "execution_count": 34,
   "id": "fa421a4d",
   "metadata": {},
   "outputs": [
    {
     "data": {
      "text/plain": [
       "False"
      ]
     },
     "execution_count": 34,
     "metadata": {},
     "output_type": "execute_result"
    }
   ],
   "source": [
    "#유일한지 확인하는 속성\n",
    "pd.Series(data=[3,3]).is_unique"
   ]
  },
  {
   "cell_type": "code",
   "execution_count": 42,
   "id": "954a7298",
   "metadata": {},
   "outputs": [
    {
     "data": {
      "text/plain": [
       "True"
      ]
     },
     "execution_count": 42,
     "metadata": {},
     "output_type": "execute_result"
    }
   ],
   "source": [
    "#monotonic 속성 \n",
    "pd.Series(data = [1,3,6]).is_monotonic_increasing"
   ]
  },
  {
   "cell_type": "markdown",
   "id": "7aeb5e74",
   "metadata": {},
   "source": [
    "## 2.4 첫번째 행과 마지막 행 검색 "
   ]
  },
  {
   "cell_type": "code",
   "execution_count": 43,
   "id": "1f6fa83f",
   "metadata": {},
   "outputs": [
    {
     "data": {
      "text/plain": [
       "0       0\n",
       "1       5\n",
       "2      10\n",
       "3      15\n",
       "4      20\n",
       "     ... \n",
       "95    475\n",
       "96    480\n",
       "97    485\n",
       "98    490\n",
       "99    495\n",
       "Length: 100, dtype: int64"
      ]
     },
     "execution_count": 43,
     "metadata": {},
     "output_type": "execute_result"
    }
   ],
   "source": [
    "values = range(0,500,5)\n",
    "nums = pd.Series(data = values)\n",
    "nums"
   ]
  },
  {
   "cell_type": "code",
   "execution_count": 47,
   "id": "4ffc6882",
   "metadata": {},
   "outputs": [
    {
     "data": {
      "text/plain": [
       "0     0\n",
       "1     5\n",
       "2    10\n",
       "3    15\n",
       "4    20\n",
       "dtype: int64"
      ]
     },
     "execution_count": 47,
     "metadata": {},
     "output_type": "execute_result"
    }
   ],
   "source": [
    "nums.head() #n=5 으로 사용가능 , n 생략가능, head() 기본값 = 5 "
   ]
  },
  {
   "cell_type": "code",
   "execution_count": 49,
   "id": "62a1d8bb",
   "metadata": {},
   "outputs": [
    {
     "data": {
      "text/plain": [
       "95    475\n",
       "96    480\n",
       "97    485\n",
       "98    490\n",
       "99    495\n",
       "dtype: int64"
      ]
     },
     "execution_count": 49,
     "metadata": {},
     "output_type": "execute_result"
    }
   ],
   "source": [
    "nums.tail(n=5)"
   ]
  },
  {
   "cell_type": "markdown",
   "id": "ec109fdc",
   "metadata": {},
   "source": [
    "## 2.5 수학연산"
   ]
  },
  {
   "cell_type": "markdown",
   "id": "7cd5230b",
   "metadata": {},
   "source": [
    "### 2.5.1 통계연산\n"
   ]
  },
  {
   "cell_type": "code",
   "execution_count": 50,
   "id": "e718af30",
   "metadata": {},
   "outputs": [],
   "source": [
    "#결측값 자동대응 "
   ]
  },
  {
   "cell_type": "code",
   "execution_count": 51,
   "id": "46fa2ccb",
   "metadata": {},
   "outputs": [
    {
     "name": "stdout",
     "output_type": "stream",
     "text": [
      "0    1.0\n",
      "1    2.0\n",
      "2    3.0\n",
      "3    NaN\n",
      "4    4.0\n",
      "5    5.0\n",
      "dtype: float64\n"
     ]
    }
   ],
   "source": [
    "numbers = pd.Series([1,2,3,np.nan, 4,5])\n",
    "print(numbers)"
   ]
  },
  {
   "cell_type": "code",
   "execution_count": 61,
   "id": "5d272300",
   "metadata": {},
   "outputs": [
    {
     "data": {
      "text/plain": [
       "5"
      ]
     },
     "execution_count": 61,
     "metadata": {},
     "output_type": "execute_result"
    }
   ],
   "source": [
    "# NaN 자동 삭세후 카운트함. (파이선 자동)\n",
    "numbers.count()"
   ]
  },
  {
   "cell_type": "code",
   "execution_count": 59,
   "id": "5a57d826",
   "metadata": {},
   "outputs": [
    {
     "data": {
      "text/plain": [
       "nan"
      ]
     },
     "execution_count": 59,
     "metadata": {},
     "output_type": "execute_result"
    }
   ],
   "source": [
    "# 결측값 무시 \n",
    "numbers.sum(skipna=False)"
   ]
  },
  {
   "cell_type": "code",
   "execution_count": 62,
   "id": "44af8e73",
   "metadata": {},
   "outputs": [
    {
     "data": {
      "text/plain": [
       "120.0"
      ]
     },
     "execution_count": 62,
     "metadata": {},
     "output_type": "execute_result"
    }
   ],
   "source": [
    "#product() Seires값모두 곱한다. \n",
    "numbers.product()"
   ]
  },
  {
   "cell_type": "code",
   "execution_count": 63,
   "id": "25623e38",
   "metadata": {},
   "outputs": [
    {
     "data": {
      "text/plain": [
       "nan"
      ]
     },
     "execution_count": 63,
     "metadata": {},
     "output_type": "execute_result"
    }
   ],
   "source": [
    "numbers.product(skipna=False)"
   ]
  },
  {
   "cell_type": "code",
   "execution_count": 64,
   "id": "90d4f177",
   "metadata": {},
   "outputs": [
    {
     "data": {
      "text/plain": [
       "120.0"
      ]
     },
     "execution_count": 64,
     "metadata": {},
     "output_type": "execute_result"
    }
   ],
   "source": [
    "numbers.product(min_count=3)"
   ]
  },
  {
   "cell_type": "code",
   "execution_count": 65,
   "id": "8e3095c5",
   "metadata": {},
   "outputs": [
    {
     "data": {
      "text/plain": [
       "0    1.0\n",
       "1    2.0\n",
       "2    3.0\n",
       "3    NaN\n",
       "4    4.0\n",
       "5    5.0\n",
       "dtype: float64"
      ]
     },
     "execution_count": 65,
     "metadata": {},
     "output_type": "execute_result"
    }
   ],
   "source": [
    "numbers"
   ]
  },
  {
   "cell_type": "code",
   "execution_count": 66,
   "id": "cfe5760b",
   "metadata": {},
   "outputs": [
    {
     "data": {
      "text/plain": [
       "0     1.0\n",
       "1     3.0\n",
       "2     6.0\n",
       "3     NaN\n",
       "4    10.0\n",
       "5    15.0\n",
       "dtype: float64"
      ]
     },
     "execution_count": 66,
     "metadata": {},
     "output_type": "execute_result"
    }
   ],
   "source": [
    "#cumsum() 누적합계\n",
    "numbers.cumsum()"
   ]
  },
  {
   "cell_type": "code",
   "execution_count": 67,
   "id": "47303d00",
   "metadata": {},
   "outputs": [
    {
     "data": {
      "text/plain": [
       "0    1.0\n",
       "1    3.0\n",
       "2    6.0\n",
       "3    NaN\n",
       "4    NaN\n",
       "5    NaN\n",
       "dtype: float64"
      ]
     },
     "execution_count": 67,
     "metadata": {},
     "output_type": "execute_result"
    }
   ],
   "source": [
    "numbers.cumsum(skipna=False)"
   ]
  },
  {
   "cell_type": "code",
   "execution_count": 68,
   "id": "a7df772d",
   "metadata": {},
   "outputs": [
    {
     "data": {
      "text/plain": [
       "0         NaN\n",
       "1    1.000000\n",
       "2    0.500000\n",
       "3    0.000000\n",
       "4    0.333333\n",
       "5    0.250000\n",
       "dtype: float64"
      ]
     },
     "execution_count": 68,
     "metadata": {},
     "output_type": "execute_result"
    }
   ],
   "source": [
    "#pct_change() 변동 비율 메서드 \n",
    "\n",
    "numbers.pct_change()"
   ]
  },
  {
   "cell_type": "raw",
   "id": "cd705881",
   "metadata": {},
   "source": [
    "<ptc_change() 계산원리>\n",
    "1. index : 0 -> numbers[0] : 1.0 >>이전값과비교불가 Return : NaN\n",
    "2. index : 1 -> numbers[1] : 2.0 >>이전값 1.0과 비교 2.0 과 1.0 tkdl qusehd qldbf 100%(두배) 1.0 반환 \n",
    "3. index : 2 -> numbers[2] : 3.0 .>> 이전값 2.0 비교 변동 50% 0.5 Return \n",
    "4. index : 3 -> numbers[3] : NaN  >> 이전값 3.0과 현재 값이 NaN이므로 이전 값을 가진다. 3.0 즉 0.0 리턴 \n",
    "5. index : 4 -> numbers[4] : 4.0 >> 이전값 3.0과 비교 약 0.33333 다름 \n",
    "6. index : 5 -> numbers[5] : 5.0 >> 이전갑 4.0과 비교 약 0.25 다름 "
   ]
  },
  {
   "cell_type": "code",
   "execution_count": 69,
   "id": "797b0730",
   "metadata": {},
   "outputs": [
    {
     "data": {
      "text/plain": [
       "3.0"
      ]
     },
     "execution_count": 69,
     "metadata": {},
     "output_type": "execute_result"
    }
   ],
   "source": [
    "#mean () 평균값\n",
    "numbers.mean()"
   ]
  },
  {
   "cell_type": "code",
   "execution_count": 70,
   "id": "63f2d4ad",
   "metadata": {},
   "outputs": [
    {
     "name": "stdout",
     "output_type": "stream",
     "text": [
      "0    1.0\n",
      "1    2.0\n",
      "2    3.0\n",
      "3    NaN\n",
      "4    4.0\n",
      "5    5.0\n",
      "dtype: float64\n",
      "3.0\n"
     ]
    }
   ],
   "source": [
    "#median() 중간값 \n",
    "print(numbers)\n",
    "print(numbers.median()) # NaN 무시 "
   ]
  },
  {
   "cell_type": "code",
   "execution_count": 71,
   "id": "a252c630",
   "metadata": {},
   "outputs": [
    {
     "data": {
      "text/plain": [
       "1.5811388300841898"
      ]
     },
     "execution_count": 71,
     "metadata": {},
     "output_type": "execute_result"
    }
   ],
   "source": [
    "#std() : 표준편차 \n",
    "\n",
    "numbers.std()"
   ]
  },
  {
   "cell_type": "code",
   "execution_count": 74,
   "id": "53ce11db",
   "metadata": {},
   "outputs": [
    {
     "name": "stdout",
     "output_type": "stream",
     "text": [
      "5.0\n",
      "1.0\n"
     ]
    }
   ],
   "source": [
    "# max(), min() 가장큰, 가장 작은 값 리턴 \n",
    "print(numbers.max()) \n",
    "\n",
    "print(numbers.min())"
   ]
  },
  {
   "cell_type": "code",
   "execution_count": 75,
   "id": "a4c570a9",
   "metadata": {},
   "outputs": [],
   "source": [
    "animals = pd.Series([\"koala\",\"aardvark\",\"zebra\"])"
   ]
  },
  {
   "cell_type": "code",
   "execution_count": 77,
   "id": "408065f9",
   "metadata": {},
   "outputs": [
    {
     "data": {
      "text/plain": [
       "0       koala\n",
       "1    aardvark\n",
       "2       zebra\n",
       "dtype: object"
      ]
     },
     "execution_count": 77,
     "metadata": {},
     "output_type": "execute_result"
    }
   ],
   "source": [
    "animals"
   ]
  },
  {
   "cell_type": "code",
   "execution_count": 79,
   "id": "f0dd5373",
   "metadata": {},
   "outputs": [
    {
     "data": {
      "text/plain": [
       "'zebra'"
      ]
     },
     "execution_count": 79,
     "metadata": {},
     "output_type": "execute_result"
    }
   ],
   "source": [
    "animals.max()"
   ]
  },
  {
   "cell_type": "code",
   "execution_count": 80,
   "id": "3422b5af",
   "metadata": {},
   "outputs": [
    {
     "data": {
      "text/plain": [
       "'aardvark'"
      ]
     },
     "execution_count": 80,
     "metadata": {},
     "output_type": "execute_result"
    }
   ],
   "source": [
    "animals.min()"
   ]
  },
  {
   "cell_type": "code",
   "execution_count": 82,
   "id": "b5108686",
   "metadata": {},
   "outputs": [
    {
     "data": {
      "text/plain": [
       "count    5.000000\n",
       "mean     3.000000\n",
       "std      1.581139\n",
       "min      1.000000\n",
       "25%      2.000000\n",
       "50%      3.000000\n",
       "75%      4.000000\n",
       "max      5.000000\n",
       "dtype: float64"
      ]
     },
     "execution_count": 82,
     "metadata": {},
     "output_type": "execute_result"
    }
   ],
   "source": [
    "#요약함수 \n",
    "numbers.describe()"
   ]
  },
  {
   "cell_type": "code",
   "execution_count": 89,
   "id": "babea862",
   "metadata": {},
   "outputs": [
    {
     "data": {
      "text/plain": [
       "3   NaN\n",
       "dtype: float64"
      ]
     },
     "execution_count": 89,
     "metadata": {},
     "output_type": "execute_result"
    }
   ],
   "source": [
    "#sample() : 임의의 값을 선택 \n",
    "numbers.sample()"
   ]
  },
  {
   "cell_type": "code",
   "execution_count": 90,
   "id": "33296a85",
   "metadata": {},
   "outputs": [],
   "source": [
    "superheroes = [\"Bathman\", \"Superman\", \"Spider-Man\", \"Iron Man\", \"Captin America\",\"Wonder Woman\"]"
   ]
  },
  {
   "cell_type": "code",
   "execution_count": 94,
   "id": "9bc91459",
   "metadata": {},
   "outputs": [],
   "source": [
    "strength_level = (100,120,90,95,110,120) "
   ]
  },
  {
   "cell_type": "code",
   "execution_count": 91,
   "id": "3a8f63ea",
   "metadata": {},
   "outputs": [],
   "source": [
    "sh = pd.Series(superheroes)"
   ]
  },
  {
   "cell_type": "code",
   "execution_count": 92,
   "id": "f9394902",
   "metadata": {},
   "outputs": [
    {
     "name": "stdout",
     "output_type": "stream",
     "text": [
      "0           Bathman\n",
      "1          Superman\n",
      "2        Spider-Man\n",
      "3          Iron Man\n",
      "4    Captin America\n",
      "5      Wonder Woman\n",
      "dtype: object\n"
     ]
    }
   ],
   "source": [
    "print(sh)"
   ]
  },
  {
   "cell_type": "code",
   "execution_count": 95,
   "id": "65b462a1",
   "metadata": {},
   "outputs": [],
   "source": [
    "sl = pd.Series(strength_level)"
   ]
  },
  {
   "cell_type": "code",
   "execution_count": 96,
   "id": "333ee256",
   "metadata": {},
   "outputs": [
    {
     "name": "stdout",
     "output_type": "stream",
     "text": [
      "0    100\n",
      "1    120\n",
      "2     90\n",
      "3     95\n",
      "4    110\n",
      "5    120\n",
      "dtype: int64\n"
     ]
    }
   ],
   "source": [
    "print(sl)"
   ]
  },
  {
   "cell_type": "code",
   "execution_count": 97,
   "id": "74ec5921",
   "metadata": {},
   "outputs": [],
   "source": [
    "heroes = pd.Series(data= strength_level, index = superheroes)"
   ]
  },
  {
   "cell_type": "code",
   "execution_count": 98,
   "id": "dc437655",
   "metadata": {},
   "outputs": [
    {
     "name": "stdout",
     "output_type": "stream",
     "text": [
      "Bathman           100\n",
      "Superman          120\n",
      "Spider-Man         90\n",
      "Iron Man           95\n",
      "Captin America    110\n",
      "Wonder Woman      120\n",
      "dtype: int64\n"
     ]
    }
   ],
   "source": [
    "print(heroes)"
   ]
  },
  {
   "cell_type": "code",
   "execution_count": 99,
   "id": "0f17ccde",
   "metadata": {},
   "outputs": [
    {
     "data": {
      "text/plain": [
       "Bathman     100\n",
       "Superman    120\n",
       "dtype: int64"
      ]
     },
     "execution_count": 99,
     "metadata": {},
     "output_type": "execute_result"
    }
   ],
   "source": [
    "heroes.head(2)"
   ]
  },
  {
   "cell_type": "code",
   "execution_count": 100,
   "id": "40f12c45",
   "metadata": {},
   "outputs": [
    {
     "data": {
      "text/plain": [
       "Spider-Man         90\n",
       "Iron Man           95\n",
       "Captin America    110\n",
       "Wonder Woman      120\n",
       "dtype: int64"
      ]
     },
     "execution_count": 100,
     "metadata": {},
     "output_type": "execute_result"
    }
   ],
   "source": [
    "heroes.tail(4)"
   ]
  },
  {
   "cell_type": "code",
   "execution_count": 107,
   "id": "69f9b5a8",
   "metadata": {},
   "outputs": [
    {
     "data": {
      "text/plain": [
       "5"
      ]
     },
     "execution_count": 107,
     "metadata": {},
     "output_type": "execute_result"
    }
   ],
   "source": [
    "heroes.nunique()"
   ]
  },
  {
   "cell_type": "code",
   "execution_count": 102,
   "id": "9aa8129f",
   "metadata": {},
   "outputs": [
    {
     "data": {
      "text/plain": [
       "105.83333333333333"
      ]
     },
     "execution_count": 102,
     "metadata": {},
     "output_type": "execute_result"
    }
   ],
   "source": [
    "heroes.mean()"
   ]
  },
  {
   "cell_type": "code",
   "execution_count": 104,
   "id": "f577bc24",
   "metadata": {},
   "outputs": [
    {
     "name": "stdout",
     "output_type": "stream",
     "text": [
      "90\n"
     ]
    },
    {
     "data": {
      "text/plain": [
       "120"
      ]
     },
     "execution_count": 104,
     "metadata": {},
     "output_type": "execute_result"
    }
   ],
   "source": [
    "print(heroes.min())\n",
    "\n",
    "heroes.max()"
   ]
  },
  {
   "cell_type": "code",
   "execution_count": 105,
   "id": "03f63d78",
   "metadata": {},
   "outputs": [
    {
     "data": {
      "text/plain": [
       "Bathman           200\n",
       "Superman          240\n",
       "Spider-Man        180\n",
       "Iron Man          190\n",
       "Captin America    220\n",
       "Wonder Woman      240\n",
       "dtype: int64"
      ]
     },
     "execution_count": 105,
     "metadata": {},
     "output_type": "execute_result"
    }
   ],
   "source": [
    "heroes * 2 "
   ]
  },
  {
   "cell_type": "code",
   "execution_count": 106,
   "id": "71963e27",
   "metadata": {},
   "outputs": [
    {
     "data": {
      "text/plain": [
       "{'Bathman': 100,\n",
       " 'Superman': 120,\n",
       " 'Spider-Man': 90,\n",
       " 'Iron Man': 95,\n",
       " 'Captin America': 110,\n",
       " 'Wonder Woman': 120}"
      ]
     },
     "execution_count": 106,
     "metadata": {},
     "output_type": "execute_result"
    }
   ],
   "source": [
    "dict(heroes)"
   ]
  },
  {
   "cell_type": "code",
   "execution_count": null,
   "id": "39a925fc",
   "metadata": {},
   "outputs": [],
   "source": []
  }
 ],
 "metadata": {
  "kernelspec": {
   "display_name": "Python 3 (ipykernel)",
   "language": "python",
   "name": "python3"
  },
  "language_info": {
   "codemirror_mode": {
    "name": "ipython",
    "version": 3
   },
   "file_extension": ".py",
   "mimetype": "text/x-python",
   "name": "python",
   "nbconvert_exporter": "python",
   "pygments_lexer": "ipython3",
   "version": "3.10.12"
  }
 },
 "nbformat": 4,
 "nbformat_minor": 5
}
